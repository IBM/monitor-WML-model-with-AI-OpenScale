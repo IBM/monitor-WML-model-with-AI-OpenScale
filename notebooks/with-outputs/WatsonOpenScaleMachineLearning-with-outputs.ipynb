{
 "cells": [
  {
   "cell_type": "markdown",
   "metadata": {},
   "source": [
    "<img src=\"https://github.com/pmservice/ai-openscale-tutorials/raw/master/notebooks/images/banner.png\" align=\"left\" alt=\"banner\">"
   ]
  },
  {
   "cell_type": "markdown",
   "metadata": {},
   "source": [
    "# Working with Watson Machine Learning"
   ]
  },
  {
   "cell_type": "markdown",
   "metadata": {},
   "source": [
    "This notebook should be run in a Watson Studio project, using **Default Spark Python** runtime environment. **If you are viewing this in Watson Studio and do not see Python 3.7 in the upper right corner of your screen, please update the runtime now.** It requires service credentials for the following Cloud services:\n",
    "  * Watson OpenScale\n",
    "  * Watson Machine Learning V2 plans\n",
    "  * Cloud Object Storage\n",
    "  \n",
    "If you have a paid Cloud account, you may also provision a **Databases for PostgreSQL** or **Db2 Warehouse** service to take full advantage of integration with Watson Studio and continuous learning services. If you choose not to provision this paid service, you can use the free internal PostgreSQL storage with OpenScale, but will not be able to configure continuous learning for your model.\n",
    "\n",
    "The notebook will train, create and deploy a German Credit Risk model, configure OpenScale to monitor that deployment, and inject seven days' worth of historical records and measurements for viewing in the OpenScale Insights dashboard."
   ]
  },
  {
   "cell_type": "markdown",
   "metadata": {},
   "source": [
    "### Contents\n",
    "\n",
    "- [Setup](#setup)\n",
    "- [Model building and deployment](#model)\n",
    "- [OpenScale configuration](#openscale)\n",
    "- [Quality monitor and feedback logging](#quality)\n",
    "- [Fairness, drift monitoring and explanations](#fairness)\n",
    "- [Custom monitors and metrics](#custom)\n",
    "- [Historical data](#historical)"
   ]
  },
  {
   "cell_type": "markdown",
   "metadata": {},
   "source": [
    "### Note: These samples are using most latest openscale V2 client from public pypi. It does not cover followings aspects for now:\n",
    "\n",
    "- Historical payload logging \n",
    "- Historical manual labeling"
   ]
  },
  {
   "cell_type": "markdown",
   "metadata": {},
   "source": [
    "# Setup <a name=\"setup\"></a>"
   ]
  },
  {
   "cell_type": "markdown",
   "metadata": {},
   "source": [
    "## Spark check"
   ]
  },
  {
   "cell_type": "code",
   "execution_count": 1,
   "metadata": {},
   "outputs": [
    {
     "name": "stdout",
     "output_type": "stream",
     "text": [
      "/opt/conda/envs/Python-3.7-OpenCE/lib/python3.7/site-packages/secretstorage/dhcrypto.py:16: CryptographyDeprecationWarning: int_from_bytes is deprecated, use int.from_bytes instead\n",
      "  from cryptography.utils import int_from_bytes\n",
      "/opt/conda/envs/Python-3.7-OpenCE/lib/python3.7/site-packages/secretstorage/util.py:25: CryptographyDeprecationWarning: int_from_bytes is deprecated, use int.from_bytes instead\n",
      "  from cryptography.utils import int_from_bytes\n",
      "Successfully installed py4j-0.10.7 pyspark-2.4.0\n"
     ]
    }
   ],
   "source": [
    "!pip install pyspark==2.4.0 --no-cache | tail -n 1"
   ]
  },
  {
   "cell_type": "code",
   "execution_count": 2,
   "metadata": {},
   "outputs": [],
   "source": [
    "try:\n",
    "    from pyspark.sql import SparkSession\n",
    "except:\n",
    "    print('Error: Spark runtime is missing. If you are using Watson Studio change the notebook runtime to Spark.')\n",
    "    raise "
   ]
  },
  {
   "cell_type": "markdown",
   "metadata": {
    "collapsed": true
   },
   "source": [
    "## Package installation"
   ]
  },
  {
   "cell_type": "code",
   "execution_count": 127,
   "metadata": {},
   "outputs": [],
   "source": [
    "import warnings\n",
    "warnings.filterwarnings('ignore')"
   ]
  },
  {
   "cell_type": "code",
   "execution_count": 4,
   "metadata": {
    "scrolled": false
   },
   "outputs": [
    {
     "name": "stdout",
     "output_type": "stream",
     "text": [
      "/opt/conda/envs/Python-3.7-OpenCE/lib/python3.7/site-packages/secretstorage/dhcrypto.py:16: CryptographyDeprecationWarning: int_from_bytes is deprecated, use int.from_bytes instead\n",
      "  from cryptography.utils import int_from_bytes\n",
      "/opt/conda/envs/Python-3.7-OpenCE/lib/python3.7/site-packages/secretstorage/util.py:25: CryptographyDeprecationWarning: int_from_bytes is deprecated, use int.from_bytes instead\n",
      "  from cryptography.utils import int_from_bytes\n",
      "Successfully installed pandas-0.25.3\n",
      "/opt/conda/envs/Python-3.7-OpenCE/lib/python3.7/site-packages/secretstorage/dhcrypto.py:16: CryptographyDeprecationWarning: int_from_bytes is deprecated, use int.from_bytes instead\n",
      "  from cryptography.utils import int_from_bytes\n",
      "/opt/conda/envs/Python-3.7-OpenCE/lib/python3.7/site-packages/secretstorage/util.py:25: CryptographyDeprecationWarning: int_from_bytes is deprecated, use int.from_bytes instead\n",
      "  from cryptography.utils import int_from_bytes\n",
      "Successfully installed requests-2.23.0\n",
      "/opt/conda/envs/Python-3.7-OpenCE/lib/python3.7/site-packages/secretstorage/dhcrypto.py:16: CryptographyDeprecationWarning: int_from_bytes is deprecated, use int.from_bytes instead\n",
      "  from cryptography.utils import int_from_bytes\n",
      "/opt/conda/envs/Python-3.7-OpenCE/lib/python3.7/site-packages/secretstorage/util.py:25: CryptographyDeprecationWarning: int_from_bytes is deprecated, use int.from_bytes instead\n",
      "  from cryptography.utils import int_from_bytes\n",
      "\u001b[31mERROR: tensorflow 2.4.2 has requirement flatbuffers~=1.12.0, but you'll have flatbuffers 20210226132247 which is incompatible.\u001b[0m\n",
      "\u001b[31mERROR: tensorflow 2.4.2 has requirement grpcio~=1.32.0, but you'll have grpcio 1.35.0 which is incompatible.\u001b[0m\n",
      "\u001b[31mERROR: tensorflow 2.4.2 has requirement keras-preprocessing~=1.1.2, but you'll have keras-preprocessing 1.1.0 which is incompatible.\u001b[0m\n",
      "\u001b[31mERROR: tensorflow 2.4.2 has requirement numpy~=1.19.2, but you'll have numpy 1.20.3 which is incompatible.\u001b[0m\n",
      "\u001b[31mERROR: tensorflow 2.4.2 has requirement opt-einsum~=3.3.0, but you'll have opt-einsum 3.1.0 which is incompatible.\u001b[0m\n",
      "\u001b[31mERROR: autoai-libs 1.12.9 has requirement numpy==1.19.2, but you'll have numpy 1.20.3 which is incompatible.\u001b[0m\n",
      "\u001b[33m  WARNING: The scripts f2py, f2py3 and f2py3.7 are installed in '/home/wsuser/.local/bin' which is not on PATH.\n",
      "  Consider adding this directory to PATH or, if you prefer to suppress this warning, use --no-warn-script-location.\u001b[0m\n",
      "Successfully installed numpy-1.20.3\n",
      "/opt/conda/envs/Python-3.7-OpenCE/lib/python3.7/site-packages/secretstorage/dhcrypto.py:16: CryptographyDeprecationWarning: int_from_bytes is deprecated, use int.from_bytes instead\n",
      "  from cryptography.utils import int_from_bytes\n",
      "/opt/conda/envs/Python-3.7-OpenCE/lib/python3.7/site-packages/secretstorage/util.py:25: CryptographyDeprecationWarning: int_from_bytes is deprecated, use int.from_bytes instead\n",
      "  from cryptography.utils import int_from_bytes\n",
      "Requirement already satisfied: numpy>=1.13.3 in /home/wsuser/.local/lib/python3.7/site-packages (from SciPy) (1.20.3)\n",
      "/opt/conda/envs/Python-3.7-OpenCE/lib/python3.7/site-packages/secretstorage/dhcrypto.py:16: CryptographyDeprecationWarning: int_from_bytes is deprecated, use int.from_bytes instead\n",
      "  from cryptography.utils import int_from_bytes\n",
      "/opt/conda/envs/Python-3.7-OpenCE/lib/python3.7/site-packages/secretstorage/util.py:25: CryptographyDeprecationWarning: int_from_bytes is deprecated, use int.from_bytes instead\n",
      "  from cryptography.utils import int_from_bytes\n",
      "Successfully installed lime-0.2.0.1\n",
      "/opt/conda/envs/Python-3.7-OpenCE/lib/python3.7/site-packages/secretstorage/dhcrypto.py:16: CryptographyDeprecationWarning: int_from_bytes is deprecated, use int.from_bytes instead\n",
      "  from cryptography.utils import int_from_bytes\n",
      "/opt/conda/envs/Python-3.7-OpenCE/lib/python3.7/site-packages/secretstorage/util.py:25: CryptographyDeprecationWarning: int_from_bytes is deprecated, use int.from_bytes instead\n",
      "  from cryptography.utils import int_from_bytes\n",
      "Successfully installed ibm-watson-machine-learning-1.0.116\n",
      "/opt/conda/envs/Python-3.7-OpenCE/lib/python3.7/site-packages/secretstorage/dhcrypto.py:16: CryptographyDeprecationWarning: int_from_bytes is deprecated, use int.from_bytes instead\n",
      "  from cryptography.utils import int_from_bytes\n",
      "/opt/conda/envs/Python-3.7-OpenCE/lib/python3.7/site-packages/secretstorage/util.py:25: CryptographyDeprecationWarning: int_from_bytes is deprecated, use int.from_bytes instead\n",
      "  from cryptography.utils import int_from_bytes\n",
      "Successfully installed ibm-watson-openscale-3.0.9\n"
     ]
    }
   ],
   "source": [
    "!rm -rf /home/spark/shared/user-libs/python3.7*\n",
    "\n",
    "!pip install --upgrade pandas==0.25.3 --no-cache | tail -n 1\n",
    "!pip install --upgrade requests==2.23 --no-cache | tail -n 1\n",
    "!pip install --upgrade numpy==1.20.3 --user --no-cache | tail -n 1\n",
    "!pip install SciPy --no-cache | tail -n 1\n",
    "!pip install lime --no-cache | tail -n 1\n",
    "\n",
    "!pip install --upgrade ibm-watson-machine-learning --user | tail -n 1\n",
    "!pip install --upgrade ibm-watson-openscale --no-cache | tail -n 1"
   ]
  },
  {
   "cell_type": "markdown",
   "metadata": {},
   "source": [
    "## Provision services and configure credentials"
   ]
  },
  {
   "cell_type": "markdown",
   "metadata": {},
   "source": [
    "If you have not already, provision an instance of IBM Watson OpenScale using the [OpenScale link in the Cloud catalog](https://cloud.ibm.com/catalog/services/watson-openscale)."
   ]
  },
  {
   "cell_type": "markdown",
   "metadata": {},
   "source": [
    "Your Cloud API key can be generated by going to the [**Users** section of the Cloud console](https://cloud.ibm.com/iam#/users). From that page, click your name, scroll down to the **API Keys** section, and click **Create an IBM Cloud API key**. Give your key a name and click **Create**, then copy the created key and paste it below."
   ]
  },
  {
   "cell_type": "markdown",
   "metadata": {},
   "source": [
    "**NOTE:** You can also get OpenScale `API_KEY` using IBM CLOUD CLI.\n",
    "\n",
    "How to install IBM Cloud (bluemix) console: [instruction](https://console.bluemix.net/docs/cli/reference/ibmcloud/download_cli.html#install_use)\n",
    "\n",
    "How to get api key using console:\n",
    "```\n",
    "bx login --sso\n",
    "bx iam api-key-create 'my_key'\n",
    "```"
   ]
  },
  {
   "cell_type": "code",
   "execution_count": 61,
   "metadata": {
    "scrolled": true
   },
   "outputs": [],
   "source": [
    "CLOUD_API_KEY = \"******\"\n",
    "IAM_URL=\"https://iam.ng.bluemix.net/oidc/token\""
   ]
  },
  {
   "cell_type": "markdown",
   "metadata": {},
   "source": [
    "If you have not already, provision an instance of IBM Watson OpenScale using the [OpenScale link in the Cloud catalog](https://cloud.ibm.com/catalog/services/watson-openscale).\n",
    "\n",
    "Your Cloud API key can be generated by going to the [**Users** section of the Cloud console](https://cloud.ibm.com/iam#/users). From that page, click your name, scroll down to the **API Keys** section, and click **Create an IBM Cloud API key**. Give your key a name and click **Create**, then copy the created key, generate an IAM token using that key and paste it below."
   ]
  },
  {
   "cell_type": "markdown",
   "metadata": {},
   "source": [
    "### WML credentials example with API key"
   ]
  },
  {
   "cell_type": "code",
   "execution_count": 22,
   "metadata": {
    "scrolled": true
   },
   "outputs": [],
   "source": [
    "WML_CREDENTIALS = {\n",
    "                   \"url\": \"https://us-south.ml.cloud.ibm.com\",\n",
    "                   \"apikey\": \"******\"\n",
    "}"
   ]
  },
  {
   "cell_type": "markdown",
   "metadata": {},
   "source": [
    "###  WML credentials example using IAM_token \n",
    "\n",
    "**NOTE**: If IAM_TOKEN is used for authentication and you receive unauthorized/expired token error at any steps, please create a new token and reinitiate clients authentication."
   ]
  },
  {
   "cell_type": "code",
   "execution_count": null,
   "metadata": {},
   "outputs": [],
   "source": [
    " #uncomment this cell if want to use IAM_TOKEN\n",
    "# import requests\n",
    "# def generate_access_token():\n",
    "#     headers={}\n",
    "#     headers[\"Content-Type\"] = \"application/x-www-form-urlencoded\"\n",
    "#     headers[\"Accept\"] = \"application/json\"\n",
    "#     auth = HTTPBasicAuth(\"bx\", \"bx\")\n",
    "#     data = {\n",
    "#         \"grant_type\": \"urn:ibm:params:oauth:grant-type:apikey\",\n",
    "#         \"apikey\": CLOUD_API_KEY\n",
    "#     }\n",
    "#     response = requests.post(IAM_URL, data=data, headers=headers, auth=auth)\n",
    "#     json_data = response.json()\n",
    "#     iam_access_token = json_data['access_token']\n",
    "#     return iam_access_token"
   ]
  },
  {
   "cell_type": "code",
   "execution_count": null,
   "metadata": {},
   "outputs": [],
   "source": [
    "#uncomment this cell if want to use IAM_TOKEN\n",
    "# IAM_TOKEN = generate_access_token()\n",
    "# WML_CREDENTIALS = {\n",
    "#                \"url\": \"https://us-south.ml.cloud.ibm.com\",\n",
    "#                \"token\": IAM_TOKEN\n",
    "#             }"
   ]
  },
  {
   "cell_type": "markdown",
   "metadata": {},
   "source": [
    "### Cloud object storage details\n",
    "\n",
    "In next cells, you will need to paste some credentials to Cloud Object Storage. If you haven't worked with COS yet please visit [getting started with COS tutorial](https://cloud.ibm.com/docs/cloud-object-storage?topic=cloud-object-storage-getting-started). \n",
    "You can find `COS_API_KEY_ID` and `COS_RESOURCE_CRN` variables in **_Service Credentials_** in menu of your COS instance. Used COS Service Credentials must be created with _Role_ parameter set as Writer. Later training data file will be loaded to the bucket of your instance and used as training refecence in subsription.  \n",
    "`COS_ENDPOINT` variable can be found in **_Endpoint_** field of the menu."
   ]
  },
  {
   "cell_type": "code",
   "execution_count": 23,
   "metadata": {},
   "outputs": [],
   "source": [
    "COS_API_KEY_ID = \"******\"\n",
    "COS_RESOURCE_CRN = \"******\" # eg \"crn:v1:bluemix:public:cloud-object-storage:global:a/3bf0d9003abfb5d29761c3e97696b71c:d6f04d83-6c4f-4a62-a165-696756d63903::\"\n",
    "COS_ENDPOINT = \"https://******\" # Current list avaiable at https://control.cloud-object-storage.cloud.ibm.com/v2/endpoints"
   ]
  },
  {
   "cell_type": "code",
   "execution_count": 8,
   "metadata": {},
   "outputs": [],
   "source": [
    "BUCKET_NAME = \"******\" #example: \"credit-risk-training-data\""
   ]
  },
  {
   "cell_type": "markdown",
   "metadata": {},
   "source": [
    "This tutorial can use Databases for PostgreSQL, Db2 Warehouse, or a free internal verison of PostgreSQL to create a datamart for OpenScale.\n",
    "\n",
    "If you have previously configured OpenScale, it will use your existing datamart, and not interfere with any models you are currently monitoring. Do not update the cell below.\n",
    "\n",
    "If you do not have a paid Cloud account or would prefer not to provision this paid service, you may use the free internal PostgreSQL service with OpenScale. Do not update the cell below.\n",
    "\n",
    "To provision a new instance of Db2 Warehouse, locate [Db2 Warehouse in the Cloud catalog](https://cloud.ibm.com/catalog/services/db2-warehouse), give your service a name, and click **Create**. Once your instance is created, click the **Service Credentials** link on the left side of the screen. Click the **New credential** button, give your credentials a name, and click **Add**. Your new credentials can be accessed by clicking the **View credentials** button. Copy and paste your Db2 Warehouse credentials into the cell below.\n",
    "\n",
    "To provision a new instance of Databases for PostgreSQL, locate [Databases for PostgreSQL in the Cloud catalog](https://cloud.ibm.com/catalog/services/databases-for-postgresql), give your service a name, and click **Create**. Once your instance is created, click the **Service Credentials** link on the left side of the screen. Click the **New credential** button, give your credentials a name, and click **Add**. Your new credentials can be accessed by clicking the **View credentials** button. Copy and paste your Databases for PostgreSQL credentials into the cell below."
   ]
  },
  {
   "cell_type": "code",
   "execution_count": 9,
   "metadata": {
    "scrolled": true
   },
   "outputs": [],
   "source": [
    "DB_CREDENTIALS = None\n",
    "#DB_CREDENTIALS= {\"hostname\":\"\",\"username\":\"\",\"password\":\"\",\"database\":\"\",\"port\":\"\",\"ssl\":True,\"sslmode\":\"\",\"certificate_base64\":\"\"}"
   ]
  },
  {
   "cell_type": "markdown",
   "metadata": {},
   "source": [
    "__If you previously configured OpenScale to use the free internal version of PostgreSQL, you can switch to a new datamart using a paid database service.__ If you would like to delete the internal PostgreSQL configuration and create a new one using service credentials supplied in the cell above, set the __KEEP_MY_INTERNAL_POSTGRES__ variable below to __False__ below. In this case, the notebook will remove your existing internal PostgreSQL datamart and create a new one with the supplied credentials. __*NO DATA MIGRATION WILL OCCUR.*__"
   ]
  },
  {
   "cell_type": "code",
   "execution_count": 10,
   "metadata": {},
   "outputs": [],
   "source": [
    "KEEP_MY_INTERNAL_POSTGRES = True"
   ]
  },
  {
   "cell_type": "markdown",
   "metadata": {},
   "source": [
    "## Run the notebook\n",
    "\n",
    "At this point, the notebook is ready to run. You can either run the cells one at a time, or click the **Kernel** option above and select **Restart and Run All** to run all the cells."
   ]
  },
  {
   "cell_type": "markdown",
   "metadata": {},
   "source": [
    "# Model building and deployment <a name=\"model\"></a>"
   ]
  },
  {
   "cell_type": "markdown",
   "metadata": {},
   "source": [
    "In this section you will learn how to train Spark MLLib model and next deploy it as web-service using Watson Machine Learning service."
   ]
  },
  {
   "cell_type": "markdown",
   "metadata": {},
   "source": [
    "## Load the training data from github"
   ]
  },
  {
   "cell_type": "code",
   "execution_count": 11,
   "metadata": {
    "scrolled": true
   },
   "outputs": [
    {
     "name": "stdout",
     "output_type": "stream",
     "text": [
      "-rw-rw---- 1 wsuser watsonstudio 674K Aug 11 13:57 german_credit_data_biased_training.csv\r\n"
     ]
    }
   ],
   "source": [
    "from IPython.utils import io\n",
    "\n",
    "with io.capture_output() as captured:\n",
    "    !wget https://raw.githubusercontent.com/IBM/watson-openscale-samples/main/IBM%20Cloud/WML/assets/data/credit_risk/german_credit_data_biased_training.csv -O german_credit_data_biased_training.csv\n",
    "!ls -lh german_credit_data_biased_training.csv"
   ]
  },
  {
   "cell_type": "code",
   "execution_count": 24,
   "metadata": {
    "scrolled": true
   },
   "outputs": [
    {
     "data": {
      "text/plain": [
       "Row(CheckingStatus='0_to_200', LoanDuration=31, CreditHistory='credits_paid_to_date', LoanPurpose='other', LoanAmount=1889, ExistingSavings='100_to_500', EmploymentDuration='less_1', InstallmentPercent=3, Sex='female', OthersOnLoan='none', CurrentResidenceDuration=3, OwnsProperty='savings_insurance', Age=32, InstallmentPlans='none', Housing='own', ExistingCreditsCount=1, Job='skilled', Dependents=1, Telephone='none', ForeignWorker='yes', Risk='No Risk')"
      ]
     },
     "execution_count": 24,
     "metadata": {},
     "output_type": "execute_result"
    }
   ],
   "source": [
    "from pyspark.sql import SparkSession\n",
    "import pandas as pd\n",
    "import json\n",
    "import datetime\n",
    "\n",
    "spark = SparkSession.builder.getOrCreate()\n",
    "pd_data = pd.read_csv(\"german_credit_data_biased_training.csv\", sep=\",\", header=0)\n",
    "df_data = spark.read.csv(path=\"german_credit_data_biased_training.csv\", sep=\",\", header=True, inferSchema=True)\n",
    "training_data_file_name = \"german_credit_data_biased_training.csv\"\n",
    "df_data.head()"
   ]
  },
  {
   "cell_type": "markdown",
   "metadata": {},
   "source": [
    "## Explore data"
   ]
  },
  {
   "cell_type": "code",
   "execution_count": 13,
   "metadata": {
    "scrolled": true
   },
   "outputs": [
    {
     "name": "stdout",
     "output_type": "stream",
     "text": [
      "root\n",
      " |-- CheckingStatus: string (nullable = true)\n",
      " |-- LoanDuration: integer (nullable = true)\n",
      " |-- CreditHistory: string (nullable = true)\n",
      " |-- LoanPurpose: string (nullable = true)\n",
      " |-- LoanAmount: integer (nullable = true)\n",
      " |-- ExistingSavings: string (nullable = true)\n",
      " |-- EmploymentDuration: string (nullable = true)\n",
      " |-- InstallmentPercent: integer (nullable = true)\n",
      " |-- Sex: string (nullable = true)\n",
      " |-- OthersOnLoan: string (nullable = true)\n",
      " |-- CurrentResidenceDuration: integer (nullable = true)\n",
      " |-- OwnsProperty: string (nullable = true)\n",
      " |-- Age: integer (nullable = true)\n",
      " |-- InstallmentPlans: string (nullable = true)\n",
      " |-- Housing: string (nullable = true)\n",
      " |-- ExistingCreditsCount: integer (nullable = true)\n",
      " |-- Job: string (nullable = true)\n",
      " |-- Dependents: integer (nullable = true)\n",
      " |-- Telephone: string (nullable = true)\n",
      " |-- ForeignWorker: string (nullable = true)\n",
      " |-- Risk: string (nullable = true)\n",
      "\n"
     ]
    }
   ],
   "source": [
    "df_data.printSchema()"
   ]
  },
  {
   "cell_type": "code",
   "execution_count": 14,
   "metadata": {
    "scrolled": true
   },
   "outputs": [
    {
     "name": "stdout",
     "output_type": "stream",
     "text": [
      "Number of records: 5000\n"
     ]
    }
   ],
   "source": [
    "print(\"Number of records: \" + str(df_data.count()))"
   ]
  },
  {
   "cell_type": "markdown",
   "metadata": {},
   "source": [
    "## Save training data to Cloud Object Storage"
   ]
  },
  {
   "cell_type": "code",
   "execution_count": 25,
   "metadata": {},
   "outputs": [],
   "source": [
    "import ibm_boto3\n",
    "from ibm_botocore.client import Config, ClientError\n",
    "\n",
    "cos_client = ibm_boto3.resource(\"s3\",\n",
    "    ibm_api_key_id=COS_API_KEY_ID,\n",
    "    ibm_service_instance_id=COS_RESOURCE_CRN,\n",
    "    ibm_auth_endpoint=\"https://iam.bluemix.net/oidc/token\",\n",
    "    config=Config(signature_version=\"oauth\"),\n",
    "    endpoint_url=COS_ENDPOINT\n",
    ")"
   ]
  },
  {
   "cell_type": "code",
   "execution_count": 26,
   "metadata": {},
   "outputs": [],
   "source": [
    "with open(training_data_file_name, \"rb\") as file_data:\n",
    "    cos_client.Object(BUCKET_NAME, training_data_file_name).upload_fileobj(\n",
    "        Fileobj=file_data\n",
    "    )"
   ]
  },
  {
   "cell_type": "markdown",
   "metadata": {},
   "source": [
    "## Create a model"
   ]
  },
  {
   "cell_type": "code",
   "execution_count": 27,
   "metadata": {
    "scrolled": true
   },
   "outputs": [
    {
     "name": "stdout",
     "output_type": "stream",
     "text": [
      "Number of records for training: 4016\n",
      "Number of records for evaluation: 984\n"
     ]
    }
   ],
   "source": [
    "spark_df = df_data\n",
    "(train_data, test_data) = spark_df.randomSplit([0.8, 0.2], 24)\n",
    "\n",
    "MODEL_NAME = \"Spark German Risk Model - Final\"\n",
    "DEPLOYMENT_NAME = \"Spark German Risk Deployment - Final\"\n",
    "\n",
    "print(\"Number of records for training: \" + str(train_data.count()))\n",
    "print(\"Number of records for evaluation: \" + str(test_data.count()))"
   ]
  },
  {
   "cell_type": "markdown",
   "metadata": {},
   "source": [
    "The code below creates a Random Forest Classifier with Spark, setting up string indexers for the categorical features and the label column. Finally, this notebook creates a pipeline including the indexers and the model, and does an initial Area Under ROC evaluation of the model."
   ]
  },
  {
   "cell_type": "code",
   "execution_count": 28,
   "metadata": {
    "scrolled": true
   },
   "outputs": [],
   "source": [
    "from pyspark.ml.feature import OneHotEncoder, StringIndexer, IndexToString, VectorAssembler\n",
    "from pyspark.ml.evaluation import BinaryClassificationEvaluator\n",
    "from pyspark.ml import Pipeline, Model\n",
    "from pyspark.ml.feature import SQLTransformer\n",
    "\n",
    "features = [x for x in spark_df.columns if x != 'Risk']\n",
    "categorical_features = ['CheckingStatus', 'CreditHistory', 'LoanPurpose', 'ExistingSavings', 'EmploymentDuration', 'Sex', 'OthersOnLoan', 'OwnsProperty', 'InstallmentPlans', 'Housing', 'Job', 'Telephone', 'ForeignWorker']\n",
    "categorical_num_features = [x + '_IX' for x in categorical_features]\n",
    "si_list = [StringIndexer(inputCol=x, outputCol=y) for x, y in zip(categorical_features, categorical_num_features)]\n",
    "va_features = VectorAssembler(inputCols=categorical_num_features + [x for x in features if x not in categorical_features], outputCol=\"features\")"
   ]
  },
  {
   "cell_type": "code",
   "execution_count": 29,
   "metadata": {
    "scrolled": true
   },
   "outputs": [],
   "source": [
    "si_label = StringIndexer(inputCol=\"Risk\", outputCol=\"label\").fit(spark_df)\n",
    "label_converter = IndexToString(inputCol=\"prediction\", outputCol=\"predictedLabel\", labels=si_label.labels)"
   ]
  },
  {
   "cell_type": "code",
   "execution_count": 30,
   "metadata": {
    "scrolled": true
   },
   "outputs": [],
   "source": [
    "from pyspark.ml.classification import RandomForestClassifier\n",
    "\n",
    "classifier = RandomForestClassifier(featuresCol=\"features\")\n",
    "feature_filter = SQLTransformer(statement=\"SELECT * FROM __THIS__\")\n",
    "pipeline = Pipeline(stages= si_list + [si_label, va_features, classifier, label_converter, feature_filter])\n",
    "model = pipeline.fit(train_data)"
   ]
  },
  {
   "cell_type": "markdown",
   "metadata": {},
   "source": [
    "**Note:** If you want filter features from model output please replace **`*`** with feature names to be retained in **`SQLTransformer`** statement."
   ]
  },
  {
   "cell_type": "code",
   "execution_count": 31,
   "metadata": {
    "scrolled": true
   },
   "outputs": [
    {
     "name": "stdout",
     "output_type": "stream",
     "text": [
      "areaUnderROC = 0.703587\n"
     ]
    }
   ],
   "source": [
    "predictions = model.transform(test_data)\n",
    "evaluatorDT = BinaryClassificationEvaluator(rawPredictionCol=\"prediction\")\n",
    "area_under_curve = evaluatorDT.evaluate(predictions)\n",
    "\n",
    "print(\"areaUnderROC = %g\" % area_under_curve)"
   ]
  },
  {
   "cell_type": "markdown",
   "metadata": {},
   "source": [
    "## Publish the model"
   ]
  },
  {
   "cell_type": "markdown",
   "metadata": {},
   "source": [
    "In this section, the notebook uses the supplied Watson Machine Learning credentials to save the model (including the pipeline) to the WML instance. Previous versions of the model are removed so that the notebook can be run again, resetting all data for another demo."
   ]
  },
  {
   "cell_type": "code",
   "execution_count": 32,
   "metadata": {
    "scrolled": true
   },
   "outputs": [
    {
     "data": {
      "text/plain": [
       "'1.0.105'"
      ]
     },
     "execution_count": 32,
     "metadata": {},
     "output_type": "execute_result"
    }
   ],
   "source": [
    "import json\n",
    "from ibm_watson_machine_learning import APIClient\n",
    "\n",
    "wml_client = APIClient(WML_CREDENTIALS)\n",
    "wml_client.version"
   ]
  },
  {
   "cell_type": "markdown",
   "metadata": {},
   "source": [
    "### Listing all the available spaces"
   ]
  },
  {
   "cell_type": "code",
   "execution_count": 33,
   "metadata": {},
   "outputs": [
    {
     "name": "stdout",
     "output_type": "stream",
     "text": [
      "------------------------------------  -----------------------------------  ------------------------\n",
      "ID                                    NAME                                 CREATED\n",
      "cc293f72-5440-478f-a9cc-6c137784f747  sda-1-22-2021                        2021-01-28T20:11:52.608Z\n",
      "5c966fdf-cb72-4fe2-9333-1a4172b714a6  scottda-deployment-space-10-29-2020  2020-10-29T15:39:35.902Z\n",
      "c1e6a643-aca5-4abe-9a85-f58457b49ee9  scottda-deployment-space-9-29-2020   2020-09-29T12:39:43.524Z\n",
      "------------------------------------  -----------------------------------  ------------------------\n"
     ]
    }
   ],
   "source": [
    "wml_client.spaces.list(limit=10)"
   ]
  },
  {
   "cell_type": "code",
   "execution_count": 34,
   "metadata": {},
   "outputs": [
    {
     "data": {
      "text/plain": [
       "'SUCCESS'"
      ]
     },
     "execution_count": 34,
     "metadata": {},
     "output_type": "execute_result"
    }
   ],
   "source": [
    "WML_SPACE_ID='******' # use space id here\n",
    "wml_client.set.default_space(WML_SPACE_ID)"
   ]
  },
  {
   "cell_type": "markdown",
   "metadata": {},
   "source": [
    "### Remove existing model and deployment"
   ]
  },
  {
   "cell_type": "code",
   "execution_count": 35,
   "metadata": {
    "scrolled": true
   },
   "outputs": [
    {
     "name": "stdout",
     "output_type": "stream",
     "text": [
      "--  ----  -------  ----\n",
      "ID  NAME  CREATED  TYPE\n",
      "--  ----  -------  ----\n"
     ]
    }
   ],
   "source": [
    "deployments_list = wml_client.deployments.get_details()\n",
    "for deployment in deployments_list[\"resources\"]:\n",
    "    model_id = deployment[\"entity\"][\"asset\"][\"id\"]\n",
    "    deployment_id = deployment[\"metadata\"][\"id\"]\n",
    "    if deployment[\"metadata\"][\"name\"] == DEPLOYMENT_NAME:\n",
    "        print(\"Deleting deployment id\", deployment_id)\n",
    "        wml_client.deployments.delete(deployment_id)\n",
    "        print(\"Deleting model id\", model_id)\n",
    "        wml_client.repository.delete(model_id)\n",
    "wml_client.repository.list_models()"
   ]
  },
  {
   "cell_type": "code",
   "execution_count": 36,
   "metadata": {},
   "outputs": [],
   "source": [
    "training_data_references = [\n",
    "                {\n",
    "                    \"id\": \"product line\",\n",
    "                    \"type\": \"s3\",\n",
    "                    \"connection\": {\n",
    "                        \"access_key_id\": COS_API_KEY_ID,\n",
    "                        \"endpoint_url\": COS_ENDPOINT,\n",
    "                        \"resource_instance_id\":COS_RESOURCE_CRN\n",
    "                    },\n",
    "                    \"location\": {\n",
    "                        \"bucket\": BUCKET_NAME,\n",
    "                        \"path\": training_data_file_name,\n",
    "                    }\n",
    "                }\n",
    "            ]"
   ]
  },
  {
   "cell_type": "code",
   "execution_count": 37,
   "metadata": {
    "scrolled": true
   },
   "outputs": [
    {
     "name": "stdout",
     "output_type": "stream",
     "text": [
      "Software Specification ID: 390d21f8-e58b-4fac-9c55-d7ceda621326\n"
     ]
    }
   ],
   "source": [
    "software_spec_uid = wml_client.software_specifications.get_id_by_name(\"spark-mllib_2.4\")\n",
    "print(\"Software Specification ID: {}\".format(software_spec_uid))\n",
    "model_props = {\n",
    "        wml_client._models.ConfigurationMetaNames.NAME:\"{}\".format(MODEL_NAME),\n",
    "        #wml_client._models.ConfigurationMetaNames.SPACE_UID: WML_SPACE_ID,\n",
    "        wml_client._models.ConfigurationMetaNames.TYPE: \"mllib_2.4\",\n",
    "        wml_client._models.ConfigurationMetaNames.SOFTWARE_SPEC_UID: software_spec_uid,\n",
    "        wml_client._models.ConfigurationMetaNames.TRAINING_DATA_REFERENCES: training_data_references,\n",
    "        wml_client._models.ConfigurationMetaNames.LABEL_FIELD: \"Risk\",\n",
    "    }"
   ]
  },
  {
   "cell_type": "code",
   "execution_count": 38,
   "metadata": {},
   "outputs": [
    {
     "name": "stdout",
     "output_type": "stream",
     "text": [
      "Storing model ...\n",
      "Done\n",
      "Model ID: a12ed743-c537-436f-ab3c-fef1554b88d8\n"
     ]
    }
   ],
   "source": [
    "print(\"Storing model ...\")\n",
    "published_model_details = wml_client.repository.store_model(\n",
    "    model=model, \n",
    "    meta_props=model_props, \n",
    "    training_data=train_data, \n",
    "    pipeline=pipeline)\n",
    "\n",
    "model_uid = wml_client.repository.get_model_uid(published_model_details)\n",
    "print(\"Done\")\n",
    "print(\"Model ID: {}\".format(model_uid))"
   ]
  },
  {
   "cell_type": "markdown",
   "metadata": {},
   "source": [
    "## Deploy the model"
   ]
  },
  {
   "cell_type": "markdown",
   "metadata": {},
   "source": [
    "The next section of the notebook deploys the model as a RESTful web service in Watson Machine Learning. The deployed model will have a scoring URL you can use to send data to the model for predictions."
   ]
  },
  {
   "cell_type": "code",
   "execution_count": 39,
   "metadata": {
    "scrolled": true
   },
   "outputs": [
    {
     "name": "stdout",
     "output_type": "stream",
     "text": [
      "\n",
      "\n",
      "#######################################################################################\n",
      "\n",
      "Synchronous deployment creation for uid: 'a12ed743-c537-436f-ab3c-fef1554b88d8' started\n",
      "\n",
      "#######################################################################################\n",
      "\n",
      "\n",
      "initializing\n",
      "Note: online_url is deprecated and will be removed in a future release. Use serving_urls instead.\n",
      ".\n",
      "ready\n",
      "\n",
      "\n",
      "------------------------------------------------------------------------------------------------\n",
      "Successfully finished deployment creation, deployment_uid='62f113b9-7583-42a8-aa5c-b1754959fe83'\n",
      "------------------------------------------------------------------------------------------------\n",
      "\n",
      "\n",
      "Scoring URL:https://us-south.ml.cloud.ibm.com/ml/v4/deployments/62f113b9-7583-42a8-aa5c-b1754959fe83/predictions\n",
      "Model id: a12ed743-c537-436f-ab3c-fef1554b88d8\n",
      "Deployment id: 62f113b9-7583-42a8-aa5c-b1754959fe83\n"
     ]
    }
   ],
   "source": [
    "deployment_details = wml_client.deployments.create(\n",
    "    model_uid, \n",
    "    meta_props={\n",
    "        wml_client.deployments.ConfigurationMetaNames.NAME: \"{}\".format(DEPLOYMENT_NAME),\n",
    "        wml_client.deployments.ConfigurationMetaNames.ONLINE: {}\n",
    "    }\n",
    ")\n",
    "scoring_url = wml_client.deployments.get_scoring_href(deployment_details)\n",
    "deployment_uid=wml_client.deployments.get_uid(deployment_details)\n",
    "\n",
    "print(\"Scoring URL:\" + scoring_url)\n",
    "print(\"Model id: {}\".format(model_uid))\n",
    "print(\"Deployment id: {}\".format(deployment_uid))"
   ]
  },
  {
   "cell_type": "markdown",
   "metadata": {},
   "source": [
    "## Sample scoring"
   ]
  },
  {
   "cell_type": "code",
   "execution_count": 40,
   "metadata": {},
   "outputs": [],
   "source": [
    "fields = [\"CheckingStatus\", \"LoanDuration\", \"CreditHistory\", \"LoanPurpose\", \"LoanAmount\", \"ExistingSavings\",\n",
    "                  \"EmploymentDuration\", \"InstallmentPercent\", \"Sex\", \"OthersOnLoan\", \"CurrentResidenceDuration\",\n",
    "                  \"OwnsProperty\", \"Age\", \"InstallmentPlans\", \"Housing\", \"ExistingCreditsCount\", \"Job\", \"Dependents\",\n",
    "                  \"Telephone\", \"ForeignWorker\"]\n",
    "values = [\n",
    "            [\"no_checking\", 13, \"credits_paid_to_date\", \"car_new\", 1343, \"100_to_500\", \"1_to_4\", 2, \"female\", \"none\", 3,\n",
    "             \"savings_insurance\", 46, \"none\", \"own\", 2, \"skilled\", 1, \"none\", \"yes\"],\n",
    "            [\"no_checking\", 24, \"prior_payments_delayed\", \"furniture\", 4567, \"500_to_1000\", \"1_to_4\", 4, \"male\", \"none\",\n",
    "             4, \"savings_insurance\", 36, \"none\", \"free\", 2, \"management_self-employed\", 1, \"none\", \"yes\"],\n",
    "        ]\n",
    "\n",
    "scoring_payload = {\"input_data\": [{\"fields\": fields, \"values\": values}]}"
   ]
  },
  {
   "cell_type": "code",
   "execution_count": 41,
   "metadata": {},
   "outputs": [
    {
     "data": {
      "text/plain": [
       "{'predictions': [{'fields': ['CheckingStatus',\n",
       "    'LoanDuration',\n",
       "    'CreditHistory',\n",
       "    'LoanPurpose',\n",
       "    'LoanAmount',\n",
       "    'ExistingSavings',\n",
       "    'EmploymentDuration',\n",
       "    'InstallmentPercent',\n",
       "    'Sex',\n",
       "    'OthersOnLoan',\n",
       "    'CurrentResidenceDuration',\n",
       "    'OwnsProperty',\n",
       "    'Age',\n",
       "    'InstallmentPlans',\n",
       "    'Housing',\n",
       "    'ExistingCreditsCount',\n",
       "    'Job',\n",
       "    'Dependents',\n",
       "    'Telephone',\n",
       "    'ForeignWorker',\n",
       "    'CheckingStatus_IX',\n",
       "    'CreditHistory_IX',\n",
       "    'LoanPurpose_IX',\n",
       "    'ExistingSavings_IX',\n",
       "    'EmploymentDuration_IX',\n",
       "    'Sex_IX',\n",
       "    'OthersOnLoan_IX',\n",
       "    'OwnsProperty_IX',\n",
       "    'InstallmentPlans_IX',\n",
       "    'Housing_IX',\n",
       "    'Job_IX',\n",
       "    'Telephone_IX',\n",
       "    'ForeignWorker_IX',\n",
       "    'features',\n",
       "    'rawPrediction',\n",
       "    'probability',\n",
       "    'prediction',\n",
       "    'predictedLabel'],\n",
       "   'values': [['no_checking',\n",
       "     13,\n",
       "     'credits_paid_to_date',\n",
       "     'car_new',\n",
       "     1343,\n",
       "     '100_to_500',\n",
       "     '1_to_4',\n",
       "     2,\n",
       "     'female',\n",
       "     'none',\n",
       "     3,\n",
       "     'savings_insurance',\n",
       "     46,\n",
       "     'none',\n",
       "     'own',\n",
       "     2,\n",
       "     'skilled',\n",
       "     1,\n",
       "     'none',\n",
       "     'yes',\n",
       "     0.0,\n",
       "     1.0,\n",
       "     0.0,\n",
       "     1.0,\n",
       "     0.0,\n",
       "     1.0,\n",
       "     0.0,\n",
       "     0.0,\n",
       "     0.0,\n",
       "     0.0,\n",
       "     0.0,\n",
       "     0.0,\n",
       "     0.0,\n",
       "     [20,\n",
       "      [1, 3, 5, 13, 14, 15, 16, 17, 18, 19],\n",
       "      [1.0, 1.0, 1.0, 13.0, 1343.0, 2.0, 3.0, 46.0, 2.0, 1.0]],\n",
       "     [13.32884421357656, 6.671155786423439],\n",
       "     [0.6664422106788279, 0.33355778932117197],\n",
       "     0.0,\n",
       "     'No Risk'],\n",
       "    ['no_checking',\n",
       "     24,\n",
       "     'prior_payments_delayed',\n",
       "     'furniture',\n",
       "     4567,\n",
       "     '500_to_1000',\n",
       "     '1_to_4',\n",
       "     4,\n",
       "     'male',\n",
       "     'none',\n",
       "     4,\n",
       "     'savings_insurance',\n",
       "     36,\n",
       "     'none',\n",
       "     'free',\n",
       "     2,\n",
       "     'management_self-employed',\n",
       "     1,\n",
       "     'none',\n",
       "     'yes',\n",
       "     0.0,\n",
       "     0.0,\n",
       "     1.0,\n",
       "     2.0,\n",
       "     0.0,\n",
       "     0.0,\n",
       "     0.0,\n",
       "     0.0,\n",
       "     0.0,\n",
       "     2.0,\n",
       "     2.0,\n",
       "     0.0,\n",
       "     0.0,\n",
       "     [20,\n",
       "      [2, 3, 9, 10, 13, 14, 15, 16, 17, 18, 19],\n",
       "      [1.0, 2.0, 2.0, 2.0, 24.0, 4567.0, 4.0, 4.0, 36.0, 2.0, 1.0]],\n",
       "     [13.736796422860264, 6.2632035771397385],\n",
       "     [0.6868398211430131, 0.3131601788569869],\n",
       "     0.0,\n",
       "     'No Risk']]}]}"
      ]
     },
     "execution_count": 41,
     "metadata": {},
     "output_type": "execute_result"
    }
   ],
   "source": [
    "scoring_response = wml_client.deployments.score(deployment_uid, scoring_payload)\n",
    "scoring_response"
   ]
  },
  {
   "cell_type": "markdown",
   "metadata": {},
   "source": [
    "# Configure OpenScale <a name=\"openscale\"></a>"
   ]
  },
  {
   "cell_type": "markdown",
   "metadata": {},
   "source": [
    "The notebook will now import the necessary libraries and set up a Python OpenScale client."
   ]
  },
  {
   "cell_type": "code",
   "execution_count": 62,
   "metadata": {
    "scrolled": true
   },
   "outputs": [
    {
     "data": {
      "text/plain": [
       "'3.0.7'"
      ]
     },
     "execution_count": 62,
     "metadata": {},
     "output_type": "execute_result"
    }
   ],
   "source": [
    "from ibm_cloud_sdk_core.authenticators import IAMAuthenticator,BearerTokenAuthenticator\n",
    "\n",
    "from ibm_watson_openscale import *\n",
    "from ibm_watson_openscale.supporting_classes.enums import *\n",
    "from ibm_watson_openscale.supporting_classes import *\n",
    "\n",
    "\n",
    "authenticator = IAMAuthenticator(apikey=CLOUD_API_KEY)\n",
    "#authenticator = BearerTokenAuthenticator(bearer_token=IAM_TOKEN) ## uncomment this line if using IAM token to authenticate\n",
    "wos_client = APIClient(authenticator=authenticator)\n",
    "wos_client.version"
   ]
  },
  {
   "cell_type": "markdown",
   "metadata": {},
   "source": [
    "## Create schema and datamart"
   ]
  },
  {
   "cell_type": "markdown",
   "metadata": {},
   "source": [
    "### Set up datamart"
   ]
  },
  {
   "cell_type": "markdown",
   "metadata": {},
   "source": [
    "Watson OpenScale uses a database to store payload logs and calculated metrics. If database credentials were **not** supplied above, the notebook will use the free, internal lite database. If database credentials were supplied, the datamart will be created there **unless** there is an existing datamart **and** the **KEEP_MY_INTERNAL_POSTGRES** variable is set to **True**. If an OpenScale datamart exists in Db2 or PostgreSQL, the existing datamart will be used and no data will be overwritten.\n",
    "\n",
    "Prior instances of the German Credit model will be removed from OpenScale monitoring."
   ]
  },
  {
   "cell_type": "code",
   "execution_count": 63,
   "metadata": {},
   "outputs": [
    {
     "data": {
      "text/html": [
       "<HTML>\n",
       "        <body>\n",
       "            <h3>Data Marts</h3>\n",
       "            <table style='border: 1px solid #dddddd; font-family: Courier'>\n",
       "                <th style='border: 1px solid #dddddd'>name</th><th style='border: 1px solid #dddddd'>description</th><th style='border: 1px solid #dddddd'>internal_database</th><th style='border: 1px solid #dddddd'>status</th><th style='border: 1px solid #dddddd'>created_at</th><th style='border: 1px solid #dddddd'>id</th>\n",
       "                <tr><td style='border: 1px solid #dddddd'>WOS Data Mart</td><td style='border: 1px solid #dddddd'>Data Mart created by WOS tutorial notebook</td><td style='border: 1px solid #dddddd'>True</td><td style='border: 1px solid #dddddd'>active</td><td style='border: 1px solid #dddddd'>2021-07-27 18:41:18.400000+00:00</td><td style='border: 1px solid #dddddd'>a08b0e60-6844-4c14-81cb-a3a6c9d199f9</td></tr>\n",
       "            </table>\n",
       "        </body>\n",
       "        </HTML>"
      ],
      "text/plain": [
       "<IPython.core.display.HTML object>"
      ]
     },
     "metadata": {},
     "output_type": "display_data"
    }
   ],
   "source": [
    "wos_client.data_marts.show()"
   ]
  },
  {
   "cell_type": "code",
   "execution_count": 64,
   "metadata": {},
   "outputs": [
    {
     "name": "stdout",
     "output_type": "stream",
     "text": [
      "Using existing datamart a08b0e60-6844-4c14-81cb-a3a6c9d199f9\n"
     ]
    }
   ],
   "source": [
    "data_marts = wos_client.data_marts.list().result.data_marts\n",
    "if len(data_marts) == 0:\n",
    "    if DB_CREDENTIALS is not None:\n",
    "        if SCHEMA_NAME is None: \n",
    "            print(\"Please specify the SCHEMA_NAME and rerun the cell\")\n",
    "\n",
    "        print('Setting up external datamart')\n",
    "        added_data_mart_result = wos_client.data_marts.add(\n",
    "                background_mode=False,\n",
    "                name=\"WOS Data Mart\",\n",
    "                description=\"Data Mart created by WOS tutorial notebook\",\n",
    "                database_configuration=DatabaseConfigurationRequest(\n",
    "                  database_type=DatabaseType.POSTGRESQL,\n",
    "                    credentials=PrimaryStorageCredentialsLong(\n",
    "                        hostname=DB_CREDENTIALS['hostname'],\n",
    "                        username=DB_CREDENTIALS['username'],\n",
    "                        password=DB_CREDENTIALS['password'],\n",
    "                        db=DB_CREDENTIALS['database'],\n",
    "                        port=DB_CREDENTIALS['port'],\n",
    "                        ssl=True,\n",
    "                        sslmode=DB_CREDENTIALS['sslmode'],\n",
    "                        certificate_base64=DB_CREDENTIALS['certificate_base64']\n",
    "                    ),\n",
    "                    location=LocationSchemaName(\n",
    "                        schema_name= SCHEMA_NAME\n",
    "                    )\n",
    "                )\n",
    "             ).result\n",
    "    else:\n",
    "        print('Setting up internal datamart')\n",
    "        added_data_mart_result = wos_client.data_marts.add(\n",
    "                background_mode=False,\n",
    "                name=\"WOS Data Mart\",\n",
    "                description=\"Data Mart created by WOS tutorial notebook\", \n",
    "                internal_database = True).result\n",
    "        \n",
    "    data_mart_id = added_data_mart_result.metadata.id\n",
    "    \n",
    "else:\n",
    "    data_mart_id=data_marts[0].metadata.id\n",
    "    print('Using existing datamart {}'.format(data_mart_id))"
   ]
  },
  {
   "cell_type": "markdown",
   "metadata": {},
   "source": [
    "### Remove existing service provider connected with used  WML instance. "
   ]
  },
  {
   "cell_type": "markdown",
   "metadata": {
    "scrolled": true
   },
   "source": [
    "Multiple service providers for the same engine instance are avaiable in Watson OpenScale. To avoid multiple service providers of used WML instance in the tutorial notebook the following code deletes existing service provder(s) and then adds new one. "
   ]
  },
  {
   "cell_type": "code",
   "execution_count": 65,
   "metadata": {},
   "outputs": [],
   "source": [
    "SERVICE_PROVIDER_NAME = \"Watson Machine Learning V2\"\n",
    "SERVICE_PROVIDER_DESCRIPTION = \"Added by tutorial WOS notebook.\""
   ]
  },
  {
   "cell_type": "code",
   "execution_count": 66,
   "metadata": {},
   "outputs": [],
   "source": [
    "service_providers = wos_client.service_providers.list().result.service_providers\n",
    "for service_provider in service_providers:\n",
    "    service_instance_name = service_provider.entity.name\n",
    "    if service_instance_name == SERVICE_PROVIDER_NAME:\n",
    "        service_provider_id = service_provider.metadata.id\n",
    "        wos_client.service_providers.delete(service_provider_id)\n",
    "        print(\"Deleted existing service_provider for WML instance: {}\".format(service_provider_id))"
   ]
  },
  {
   "cell_type": "markdown",
   "metadata": {},
   "source": [
    "## Add service provider"
   ]
  },
  {
   "cell_type": "markdown",
   "metadata": {},
   "source": [
    "Watson OpenScale needs to be bound to the Watson Machine Learning instance to capture payload data into and out of the model."
   ]
  },
  {
   "cell_type": "markdown",
   "metadata": {},
   "source": [
    "**Note:** You can bind more than one engine instance if needed by calling `wos_client.service_providers.add` method. Next, you can refer to particular service provider using `service_provider_id`."
   ]
  },
  {
   "cell_type": "code",
   "execution_count": 67,
   "metadata": {},
   "outputs": [
    {
     "name": "stdout",
     "output_type": "stream",
     "text": [
      "\n",
      "\n",
      "=================================================================================\n",
      "\n",
      " Waiting for end of adding service provider dba91dcc-8186-45fd-8743-d6234cb7d34a \n",
      "\n",
      "=================================================================================\n",
      "\n",
      "\n",
      "\n",
      "active\n",
      "\n",
      "-----------------------------------------------\n",
      " Successfully finished adding service provider \n",
      "-----------------------------------------------\n",
      "\n",
      "\n"
     ]
    }
   ],
   "source": [
    "added_service_provider_result = wos_client.service_providers.add(\n",
    "        name=SERVICE_PROVIDER_NAME,\n",
    "        description=SERVICE_PROVIDER_DESCRIPTION,\n",
    "        service_type=ServiceTypes.WATSON_MACHINE_LEARNING,\n",
    "        deployment_space_id = WML_SPACE_ID,\n",
    "        operational_space_id = \"production\",\n",
    "        credentials=WMLCredentialsCloud(\n",
    "            apikey=CLOUD_API_KEY,      ## use `apikey=IAM_TOKEN` if using IAM_TOKEN to initiate client\n",
    "            url=WML_CREDENTIALS[\"url\"],\n",
    "            instance_id=None\n",
    "        ),\n",
    "        background_mode=False\n",
    "    ).result\n",
    "service_provider_id = added_service_provider_result.metadata.id"
   ]
  },
  {
   "cell_type": "code",
   "execution_count": 68,
   "metadata": {},
   "outputs": [
    {
     "data": {
      "text/html": [
       "<HTML>\n",
       "        <body>\n",
       "            <h3>Service Providers</h3>\n",
       "            <table style='border: 1px solid #dddddd; font-family: Courier'>\n",
       "                <th style='border: 1px solid #dddddd'>instance_id</th><th style='border: 1px solid #dddddd'>status</th><th style='border: 1px solid #dddddd'>name</th><th style='border: 1px solid #dddddd'>service_type</th><th style='border: 1px solid #dddddd'>created_at</th><th style='border: 1px solid #dddddd'>id</th>\n",
       "                <tr><td style='border: 1px solid #dddddd'>33b72f90-25aa-4c6c-8de5-df9ebfb493f4</td><td style='border: 1px solid #dddddd'>active</td><td style='border: 1px solid #dddddd'>Watson Machine Learning V2</td><td style='border: 1px solid #dddddd'>watson_machine_learning</td><td style='border: 1px solid #dddddd'>2021-08-11 14:59:51.080000+00:00</td><td style='border: 1px solid #dddddd'>dba91dcc-8186-45fd-8743-d6234cb7d34a</td></tr><tr><td style='border: 1px solid #dddddd'>None</td><td style='border: 1px solid #dddddd'>active</td><td style='border: 1px solid #dddddd'>AWS Machine Learning</td><td style='border: 1px solid #dddddd'>amazon_sagemaker</td><td style='border: 1px solid #dddddd'>2021-08-09 17:47:09.325000+00:00</td><td style='border: 1px solid #dddddd'>e106658e-9cb0-4439-b85c-6057fffb3421</td></tr><tr><td style='border: 1px solid #dddddd'>None</td><td style='border: 1px solid #dddddd'>active</td><td style='border: 1px solid #dddddd'>Azure Machine Learning</td><td style='border: 1px solid #dddddd'>azure_machine_learning</td><td style='border: 1px solid #dddddd'>2021-07-29 12:50:37.092000+00:00</td><td style='border: 1px solid #dddddd'>ba1b62a0-2a80-414e-9177-bcf71d5a8909</td></tr>\n",
       "            </table>\n",
       "        </body>\n",
       "        </HTML>"
      ],
      "text/plain": [
       "<IPython.core.display.HTML object>"
      ]
     },
     "metadata": {},
     "output_type": "display_data"
    }
   ],
   "source": [
    "wos_client.service_providers.show()"
   ]
  },
  {
   "cell_type": "code",
   "execution_count": 69,
   "metadata": {},
   "outputs": [
    {
     "data": {
      "text/plain": [
       "{'metadata': {'guid': '62f113b9-7583-42a8-aa5c-b1754959fe83',\n",
       "  'url': 'https://us-south.ml.cloud.ibm.com/ml/v4/deployments/62f113b9-7583-42a8-aa5c-b1754959fe83?space_id=cc293f72-5440-478f-a9cc-6c137784f747',\n",
       "  'created_at': '2021-08-11T14:26:30.035Z',\n",
       "  'modified_at': '2021-08-11T14:26:30.035Z'},\n",
       " 'entity': {'name': 'Spark German Risk Deployment - Final',\n",
       "  'type': 'online',\n",
       "  'scoring_endpoint': {'url': 'https://us-south.ml.cloud.ibm.com/ml/v4/deployments/62f113b9-7583-42a8-aa5c-b1754959fe83/predictions'},\n",
       "  'asset': {},\n",
       "  'asset_properties': {}}}"
      ]
     },
     "execution_count": 69,
     "metadata": {},
     "output_type": "execute_result"
    }
   ],
   "source": [
    "asset_deployment_details = wos_client.service_providers.list_assets(data_mart_id=data_mart_id, service_provider_id=service_provider_id, deployment_space_id = WML_SPACE_ID).result['resources'][0]\n",
    "asset_deployment_details"
   ]
  },
  {
   "cell_type": "code",
   "execution_count": 70,
   "metadata": {},
   "outputs": [
    {
     "data": {
      "text/plain": [
       "{'metadata': {'guid': '62f113b9-7583-42a8-aa5c-b1754959fe83',\n",
       "  'url': 'https://us-south.ml.cloud.ibm.com/ml/v4/deployments/62f113b9-7583-42a8-aa5c-b1754959fe83?space_id=cc293f72-5440-478f-a9cc-6c137784f747',\n",
       "  'created_at': '2021-08-11T14:26:30.035Z',\n",
       "  'modified_at': '2021-08-11T14:26:30.035Z'},\n",
       " 'entity': {'name': 'Spark German Risk Deployment - Final',\n",
       "  'type': 'online',\n",
       "  'scoring_endpoint': {'url': 'https://us-south.ml.cloud.ibm.com/ml/v4/deployments/62f113b9-7583-42a8-aa5c-b1754959fe83/predictions'},\n",
       "  'asset': {'asset_id': 'a12ed743-c537-436f-ab3c-fef1554b88d8',\n",
       "   'url': 'https://us-south.ml.cloud.ibm.com/ml/v4/models/a12ed743-c537-436f-ab3c-fef1554b88d8?space_id=cc293f72-5440-478f-a9cc-6c137784f747&version=2020-06-12',\n",
       "   'name': 'Spark German Risk Model - Final',\n",
       "   'asset_type': 'model',\n",
       "   'created_at': '2021-08-11T14:26:12.354Z',\n",
       "   'modified_at': '2021-08-11T14:26:19.018Z'},\n",
       "  'asset_properties': {'model_type': 'mllib_2.4',\n",
       "   'runtime_environment': 'spark-2.4',\n",
       "   'label_column': 'Risk',\n",
       "   'input_data_schema': {'type': 'struct',\n",
       "    'id': '1',\n",
       "    'fields': [{'name': 'CheckingStatus',\n",
       "      'type': 'string',\n",
       "      'nullable': True,\n",
       "      'metadata': {}},\n",
       "     {'name': 'LoanDuration',\n",
       "      'type': 'integer',\n",
       "      'nullable': True,\n",
       "      'metadata': {}},\n",
       "     {'name': 'CreditHistory',\n",
       "      'type': 'string',\n",
       "      'nullable': True,\n",
       "      'metadata': {}},\n",
       "     {'name': 'LoanPurpose',\n",
       "      'type': 'string',\n",
       "      'nullable': True,\n",
       "      'metadata': {}},\n",
       "     {'name': 'LoanAmount',\n",
       "      'type': 'integer',\n",
       "      'nullable': True,\n",
       "      'metadata': {}},\n",
       "     {'name': 'ExistingSavings',\n",
       "      'type': 'string',\n",
       "      'nullable': True,\n",
       "      'metadata': {}},\n",
       "     {'name': 'EmploymentDuration',\n",
       "      'type': 'string',\n",
       "      'nullable': True,\n",
       "      'metadata': {}},\n",
       "     {'name': 'InstallmentPercent',\n",
       "      'type': 'integer',\n",
       "      'nullable': True,\n",
       "      'metadata': {}},\n",
       "     {'name': 'Sex', 'type': 'string', 'nullable': True, 'metadata': {}},\n",
       "     {'name': 'OthersOnLoan',\n",
       "      'type': 'string',\n",
       "      'nullable': True,\n",
       "      'metadata': {}},\n",
       "     {'name': 'CurrentResidenceDuration',\n",
       "      'type': 'integer',\n",
       "      'nullable': True,\n",
       "      'metadata': {}},\n",
       "     {'name': 'OwnsProperty',\n",
       "      'type': 'string',\n",
       "      'nullable': True,\n",
       "      'metadata': {}},\n",
       "     {'name': 'Age', 'type': 'integer', 'nullable': True, 'metadata': {}},\n",
       "     {'name': 'InstallmentPlans',\n",
       "      'type': 'string',\n",
       "      'nullable': True,\n",
       "      'metadata': {}},\n",
       "     {'name': 'Housing', 'type': 'string', 'nullable': True, 'metadata': {}},\n",
       "     {'name': 'ExistingCreditsCount',\n",
       "      'type': 'integer',\n",
       "      'nullable': True,\n",
       "      'metadata': {}},\n",
       "     {'name': 'Job', 'type': 'string', 'nullable': True, 'metadata': {}},\n",
       "     {'name': 'Dependents',\n",
       "      'type': 'integer',\n",
       "      'nullable': True,\n",
       "      'metadata': {}},\n",
       "     {'name': 'Telephone', 'type': 'string', 'nullable': True, 'metadata': {}},\n",
       "     {'name': 'ForeignWorker',\n",
       "      'type': 'string',\n",
       "      'nullable': True,\n",
       "      'metadata': {}}]},\n",
       "   'training_data_schema': {'type': 'struct',\n",
       "    'id': '1',\n",
       "    'fields': [{'name': 'CheckingStatus',\n",
       "      'type': 'string',\n",
       "      'nullable': True,\n",
       "      'metadata': {}},\n",
       "     {'name': 'LoanDuration',\n",
       "      'type': 'integer',\n",
       "      'nullable': True,\n",
       "      'metadata': {}},\n",
       "     {'name': 'CreditHistory',\n",
       "      'type': 'string',\n",
       "      'nullable': True,\n",
       "      'metadata': {}},\n",
       "     {'name': 'LoanPurpose',\n",
       "      'type': 'string',\n",
       "      'nullable': True,\n",
       "      'metadata': {}},\n",
       "     {'name': 'LoanAmount',\n",
       "      'type': 'integer',\n",
       "      'nullable': True,\n",
       "      'metadata': {}},\n",
       "     {'name': 'ExistingSavings',\n",
       "      'type': 'string',\n",
       "      'nullable': True,\n",
       "      'metadata': {}},\n",
       "     {'name': 'EmploymentDuration',\n",
       "      'type': 'string',\n",
       "      'nullable': True,\n",
       "      'metadata': {}},\n",
       "     {'name': 'InstallmentPercent',\n",
       "      'type': 'integer',\n",
       "      'nullable': True,\n",
       "      'metadata': {}},\n",
       "     {'name': 'Sex', 'type': 'string', 'nullable': True, 'metadata': {}},\n",
       "     {'name': 'OthersOnLoan',\n",
       "      'type': 'string',\n",
       "      'nullable': True,\n",
       "      'metadata': {}},\n",
       "     {'name': 'CurrentResidenceDuration',\n",
       "      'type': 'integer',\n",
       "      'nullable': True,\n",
       "      'metadata': {}},\n",
       "     {'name': 'OwnsProperty',\n",
       "      'type': 'string',\n",
       "      'nullable': True,\n",
       "      'metadata': {}},\n",
       "     {'name': 'Age', 'type': 'integer', 'nullable': True, 'metadata': {}},\n",
       "     {'name': 'InstallmentPlans',\n",
       "      'type': 'string',\n",
       "      'nullable': True,\n",
       "      'metadata': {}},\n",
       "     {'name': 'Housing', 'type': 'string', 'nullable': True, 'metadata': {}},\n",
       "     {'name': 'ExistingCreditsCount',\n",
       "      'type': 'integer',\n",
       "      'nullable': True,\n",
       "      'metadata': {}},\n",
       "     {'name': 'Job', 'type': 'string', 'nullable': True, 'metadata': {}},\n",
       "     {'name': 'Dependents',\n",
       "      'type': 'integer',\n",
       "      'nullable': True,\n",
       "      'metadata': {}},\n",
       "     {'name': 'Telephone', 'type': 'string', 'nullable': True, 'metadata': {}},\n",
       "     {'name': 'ForeignWorker',\n",
       "      'type': 'string',\n",
       "      'nullable': True,\n",
       "      'metadata': {}},\n",
       "     {'name': 'Risk',\n",
       "      'type': 'string',\n",
       "      'nullable': True,\n",
       "      'metadata': {'modeling_role': 'target'}}]}}}}"
      ]
     },
     "execution_count": 70,
     "metadata": {},
     "output_type": "execute_result"
    }
   ],
   "source": [
    "model_asset_details_from_deployment=wos_client.service_providers.get_deployment_asset(data_mart_id=data_mart_id,service_provider_id=service_provider_id,deployment_id=deployment_uid,deployment_space_id=WML_SPACE_ID)\n",
    "model_asset_details_from_deployment"
   ]
  },
  {
   "cell_type": "markdown",
   "metadata": {},
   "source": [
    "## Subscriptions"
   ]
  },
  {
   "cell_type": "markdown",
   "metadata": {},
   "source": [
    "### Remove existing credit risk subscriptions"
   ]
  },
  {
   "cell_type": "markdown",
   "metadata": {},
   "source": [
    "This code removes previous subscriptions to the German Credit model to refresh the monitors with the new model and new data."
   ]
  },
  {
   "cell_type": "code",
   "execution_count": 71,
   "metadata": {},
   "outputs": [
    {
     "data": {
      "text/html": [
       "<HTML>\n",
       "        <body>\n",
       "            <h3>Subscriptions</h3>\n",
       "            <table style='border: 1px solid #dddddd; font-family: Courier'>\n",
       "                <th style='border: 1px solid #dddddd'>asset_id</th><th style='border: 1px solid #dddddd'>asset_name</th><th style='border: 1px solid #dddddd'>data_mart_id</th><th style='border: 1px solid #dddddd'>deployment_id</th><th style='border: 1px solid #dddddd'>deployment_name</th><th style='border: 1px solid #dddddd'>service_provider_id</th><th style='border: 1px solid #dddddd'>status</th><th style='border: 1px solid #dddddd'>created_at</th><th style='border: 1px solid #dddddd'>id</th>\n",
       "                <tr><td style='border: 1px solid #dddddd'>6de5e798b8b64cc5d09e91734a149197</td><td style='border: 1px solid #dddddd'>DaveGermanCredit.2019.2.12.17.16.52.617</td><td style='border: 1px solid #dddddd'>a08b0e60-6844-4c14-81cb-a3a6c9d199f9</td><td style='border: 1px solid #dddddd'>9764f091ac3099d6c5182764c7b97f90</td><td style='border: 1px solid #dddddd'>DaveGermanCredit.2019.2.12.17.16.52.617</td><td style='border: 1px solid #dddddd'>ba1b62a0-2a80-414e-9177-bcf71d5a8909</td><td style='border: 1px solid #dddddd'>active</td><td style='border: 1px solid #dddddd'>2021-07-29 12:51:37.381000+00:00</td><td style='border: 1px solid #dddddd'>62d30e9f-8fdc-4006-88f5-f76a7edb72e7</td></tr>\n",
       "            </table>\n",
       "        </body>\n",
       "        </HTML>"
      ],
      "text/plain": [
       "<IPython.core.display.HTML object>"
      ]
     },
     "metadata": {},
     "output_type": "display_data"
    }
   ],
   "source": [
    "wos_client.subscriptions.show()"
   ]
  },
  {
   "cell_type": "markdown",
   "metadata": {},
   "source": [
    "This code removes previous subscriptions to the German Credit model to refresh the monitors with the new model and new data."
   ]
  },
  {
   "cell_type": "code",
   "execution_count": 72,
   "metadata": {
    "scrolled": true
   },
   "outputs": [],
   "source": [
    "subscriptions = wos_client.subscriptions.list().result.subscriptions\n",
    "for subscription in subscriptions:\n",
    "    sub_model_id = subscription.entity.asset.asset_id\n",
    "    if sub_model_id == model_uid:\n",
    "        wos_client.subscriptions.delete(subscription.metadata.id)\n",
    "        print('Deleted existing subscription for model', sub_model_id)"
   ]
  },
  {
   "cell_type": "markdown",
   "metadata": {},
   "source": [
    "This code creates the model subscription in OpenScale using the Python client API. Note that we need to provide the model unique identifier, and some information about the model itself."
   ]
  },
  {
   "cell_type": "markdown",
   "metadata": {},
   "source": [
    "### This code creates the model subscription in OpenScale using the Python client API. Note that we need to provide the model unique identifier, and some information about the model itself."
   ]
  },
  {
   "cell_type": "code",
   "execution_count": 73,
   "metadata": {},
   "outputs": [],
   "source": [
    "from ibm_watson_openscale.base_classes.watson_open_scale_v2 import ScoringEndpointRequest"
   ]
  },
  {
   "cell_type": "code",
   "execution_count": 74,
   "metadata": {
    "scrolled": false
   },
   "outputs": [
    {
     "data": {
      "text/plain": [
       "'c752d566-1517-44bc-9c5c-b0b2c1ab59c0'"
      ]
     },
     "execution_count": 74,
     "metadata": {},
     "output_type": "execute_result"
    }
   ],
   "source": [
    "subscription_details = wos_client.subscriptions.add(\n",
    "        data_mart_id=data_mart_id,\n",
    "        service_provider_id=service_provider_id,\n",
    "        asset=Asset(\n",
    "            asset_id=model_asset_details_from_deployment[\"entity\"][\"asset\"][\"asset_id\"],\n",
    "            name=model_asset_details_from_deployment[\"entity\"][\"asset\"][\"name\"],\n",
    "            url=model_asset_details_from_deployment[\"entity\"][\"asset\"][\"url\"],\n",
    "            asset_type=AssetTypes.MODEL,\n",
    "            input_data_type=InputDataType.STRUCTURED,\n",
    "            problem_type=ProblemType.BINARY_CLASSIFICATION\n",
    "        ),\n",
    "        deployment=AssetDeploymentRequest(\n",
    "            deployment_id=asset_deployment_details['metadata']['guid'],\n",
    "            name=asset_deployment_details['entity']['name'],\n",
    "            deployment_type= DeploymentTypes.ONLINE,\n",
    "            url=asset_deployment_details['metadata']['url'],\n",
    "            scoring_endpoint=ScoringEndpointRequest(url=scoring_url) # score model without shadow deployment\n",
    "        ),\n",
    "        asset_properties=AssetPropertiesRequest(\n",
    "            label_column='Risk',\n",
    "            probability_fields=['probability'],\n",
    "            prediction_field='predictedLabel',\n",
    "            feature_fields = [\"CheckingStatus\",\"LoanDuration\",\"CreditHistory\",\"LoanPurpose\",\"LoanAmount\",\"ExistingSavings\",\"EmploymentDuration\",\"InstallmentPercent\",\"Sex\",\"OthersOnLoan\",\"CurrentResidenceDuration\",\"OwnsProperty\",\"Age\",\"InstallmentPlans\",\"Housing\",\"ExistingCreditsCount\",\"Job\",\"Dependents\",\"Telephone\",\"ForeignWorker\"],\n",
    "            categorical_fields = [\"CheckingStatus\",\"CreditHistory\",\"LoanPurpose\",\"ExistingSavings\",\"EmploymentDuration\",\"Sex\",\"OthersOnLoan\",\"OwnsProperty\",\"InstallmentPlans\",\"Housing\",\"Job\",\"Telephone\",\"ForeignWorker\"],\n",
    "            training_data_reference=TrainingDataReference(type='cos',\n",
    "                                                          location=COSTrainingDataReferenceLocation(bucket = BUCKET_NAME,\n",
    "                                                                                                    file_name = training_data_file_name),\n",
    "                                                          connection=COSTrainingDataReferenceConnection.from_dict({\n",
    "                                                                        \"resource_instance_id\": COS_RESOURCE_CRN,\n",
    "                                                                        \"url\": COS_ENDPOINT,\n",
    "                                                                        \"api_key\": COS_API_KEY_ID,\n",
    "                                                                        \"iam_url\": IAM_URL})),\n",
    "            training_data_schema=SparkStruct.from_dict(model_asset_details_from_deployment[\"entity\"][\"asset_properties\"][\"training_data_schema\"])\n",
    "        )\n",
    "    ).result\n",
    "subscription_id = subscription_details.metadata.id\n",
    "subscription_id"
   ]
  },
  {
   "cell_type": "code",
   "execution_count": 75,
   "metadata": {},
   "outputs": [
    {
     "name": "stdout",
     "output_type": "stream",
     "text": [
      "Payload data set id:  d72f4bc9-6f53-4ad2-a0e6-1ca13b2f1139\n"
     ]
    }
   ],
   "source": [
    "import time\n",
    "\n",
    "time.sleep(5)\n",
    "payload_data_set_id = None\n",
    "payload_data_set_id = wos_client.data_sets.list(type=DataSetTypes.PAYLOAD_LOGGING, \n",
    "                                                target_target_id=subscription_id, \n",
    "                                                target_target_type=TargetTypes.SUBSCRIPTION).result.data_sets[0].metadata.id\n",
    "if payload_data_set_id is None:\n",
    "    print(\"Payload data set not found. Please check subscription status.\")\n",
    "else:\n",
    "    print(\"Payload data set id: \", payload_data_set_id)"
   ]
  },
  {
   "cell_type": "code",
   "execution_count": 76,
   "metadata": {},
   "outputs": [
    {
     "data": {
      "text/html": [
       "<HTML>\n",
       "        <body>\n",
       "            <h3>Data sets</h3>\n",
       "            <table style='border: 1px solid #dddddd; font-family: Courier'>\n",
       "                <th style='border: 1px solid #dddddd'>data_mart_id</th><th style='border: 1px solid #dddddd'>status</th><th style='border: 1px solid #dddddd'>target_id</th><th style='border: 1px solid #dddddd'>target_type</th><th style='border: 1px solid #dddddd'>type</th><th style='border: 1px solid #dddddd'>created_at</th><th style='border: 1px solid #dddddd'>id</th>\n",
       "                <tr><td style='border: 1px solid #dddddd'>a08b0e60-6844-4c14-81cb-a3a6c9d199f9</td><td style='border: 1px solid #dddddd'>active</td><td style='border: 1px solid #dddddd'>c752d566-1517-44bc-9c5c-b0b2c1ab59c0</td><td style='border: 1px solid #dddddd'>subscription</td><td style='border: 1px solid #dddddd'>payload_logging_error</td><td style='border: 1px solid #dddddd'>2021-08-11 15:00:18.776000+00:00</td><td style='border: 1px solid #dddddd'>ddf4a9ad-d1f5-4655-91f0-603d2216f961</td></tr><tr><td style='border: 1px solid #dddddd'>a08b0e60-6844-4c14-81cb-a3a6c9d199f9</td><td style='border: 1px solid #dddddd'>active</td><td style='border: 1px solid #dddddd'>c752d566-1517-44bc-9c5c-b0b2c1ab59c0</td><td style='border: 1px solid #dddddd'>subscription</td><td style='border: 1px solid #dddddd'>manual_labeling</td><td style='border: 1px solid #dddddd'>2021-08-11 15:00:18.470000+00:00</td><td style='border: 1px solid #dddddd'>cc141027-57dd-498d-80b7-f8d6151e4cf1</td></tr><tr><td style='border: 1px solid #dddddd'>a08b0e60-6844-4c14-81cb-a3a6c9d199f9</td><td style='border: 1px solid #dddddd'>active</td><td style='border: 1px solid #dddddd'>c752d566-1517-44bc-9c5c-b0b2c1ab59c0</td><td style='border: 1px solid #dddddd'>subscription</td><td style='border: 1px solid #dddddd'>payload_logging</td><td style='border: 1px solid #dddddd'>2021-08-11 15:00:18.106000+00:00</td><td style='border: 1px solid #dddddd'>d72f4bc9-6f53-4ad2-a0e6-1ca13b2f1139</td></tr><tr><td style='border: 1px solid #dddddd'>a08b0e60-6844-4c14-81cb-a3a6c9d199f9</td><td style='border: 1px solid #dddddd'>active</td><td style='border: 1px solid #dddddd'>62d30e9f-8fdc-4006-88f5-f76a7edb72e7</td><td style='border: 1px solid #dddddd'>subscription</td><td style='border: 1px solid #dddddd'>payload_logging</td><td style='border: 1px solid #dddddd'>2021-07-29 12:51:38.316000+00:00</td><td style='border: 1px solid #dddddd'>eedaadcd-2c2d-4326-9278-25569d957852</td></tr><tr><td style='border: 1px solid #dddddd'>a08b0e60-6844-4c14-81cb-a3a6c9d199f9</td><td style='border: 1px solid #dddddd'>active</td><td style='border: 1px solid #dddddd'>62d30e9f-8fdc-4006-88f5-f76a7edb72e7</td><td style='border: 1px solid #dddddd'>subscription</td><td style='border: 1px solid #dddddd'>manual_labeling</td><td style='border: 1px solid #dddddd'>2021-07-29 12:51:38.410000+00:00</td><td style='border: 1px solid #dddddd'>6063f63a-c808-48c9-8ab0-ee188ede6545</td></tr><tr><td style='border: 1px solid #dddddd'>a08b0e60-6844-4c14-81cb-a3a6c9d199f9</td><td style='border: 1px solid #dddddd'>active</td><td style='border: 1px solid #dddddd'>62d30e9f-8fdc-4006-88f5-f76a7edb72e7</td><td style='border: 1px solid #dddddd'>subscription</td><td style='border: 1px solid #dddddd'>feedback</td><td style='border: 1px solid #dddddd'>2021-07-29 13:04:35.424000+00:00</td><td style='border: 1px solid #dddddd'>aeb83572-e853-41a0-8d4c-c2e92dc18d37</td></tr><tr><td style='border: 1px solid #dddddd'>a08b0e60-6844-4c14-81cb-a3a6c9d199f9</td><td style='border: 1px solid #dddddd'>active</td><td style='border: 1px solid #dddddd'>62d30e9f-8fdc-4006-88f5-f76a7edb72e7</td><td style='border: 1px solid #dddddd'>subscription</td><td style='border: 1px solid #dddddd'>payload_logging_error</td><td style='border: 1px solid #dddddd'>2021-07-29 12:51:38.505000+00:00</td><td style='border: 1px solid #dddddd'>86d19448-b0bc-433c-9c08-625133f82348</td></tr><tr><td style='border: 1px solid #dddddd'>a08b0e60-6844-4c14-81cb-a3a6c9d199f9</td><td style='border: 1px solid #dddddd'>active</td><td style='border: 1px solid #dddddd'>a08b0e60-6844-4c14-81cb-a3a6c9d199f9</td><td style='border: 1px solid #dddddd'>data_mart</td><td style='border: 1px solid #dddddd'>explanations</td><td style='border: 1px solid #dddddd'>2021-07-28 17:15:20.374000+00:00</td><td style='border: 1px solid #dddddd'>6a170500-45e0-41ac-8da7-5ac18b007d6c</td></tr>\n",
       "            </table>\n",
       "        </body>\n",
       "        </HTML>"
      ],
      "text/plain": [
       "<IPython.core.display.HTML object>"
      ]
     },
     "metadata": {},
     "output_type": "display_data"
    }
   ],
   "source": [
    "wos_client.data_sets.show()"
   ]
  },
  {
   "cell_type": "markdown",
   "metadata": {},
   "source": [
    "Get subscription list"
   ]
  },
  {
   "cell_type": "code",
   "execution_count": 77,
   "metadata": {
    "scrolled": true
   },
   "outputs": [
    {
     "data": {
      "text/html": [
       "<HTML>\n",
       "        <body>\n",
       "            <h3>Subscriptions</h3>\n",
       "            <table style='border: 1px solid #dddddd; font-family: Courier'>\n",
       "                <th style='border: 1px solid #dddddd'>asset_id</th><th style='border: 1px solid #dddddd'>asset_name</th><th style='border: 1px solid #dddddd'>data_mart_id</th><th style='border: 1px solid #dddddd'>deployment_id</th><th style='border: 1px solid #dddddd'>deployment_name</th><th style='border: 1px solid #dddddd'>service_provider_id</th><th style='border: 1px solid #dddddd'>status</th><th style='border: 1px solid #dddddd'>created_at</th><th style='border: 1px solid #dddddd'>id</th>\n",
       "                <tr><td style='border: 1px solid #dddddd'>a12ed743-c537-436f-ab3c-fef1554b88d8</td><td style='border: 1px solid #dddddd'>Spark German Risk Model - Final</td><td style='border: 1px solid #dddddd'>a08b0e60-6844-4c14-81cb-a3a6c9d199f9</td><td style='border: 1px solid #dddddd'>62f113b9-7583-42a8-aa5c-b1754959fe83</td><td style='border: 1px solid #dddddd'>Spark German Risk Deployment - Final</td><td style='border: 1px solid #dddddd'>dba91dcc-8186-45fd-8743-d6234cb7d34a</td><td style='border: 1px solid #dddddd'>active</td><td style='border: 1px solid #dddddd'>2021-08-11 15:00:16.406000+00:00</td><td style='border: 1px solid #dddddd'>c752d566-1517-44bc-9c5c-b0b2c1ab59c0</td></tr><tr><td style='border: 1px solid #dddddd'>6de5e798b8b64cc5d09e91734a149197</td><td style='border: 1px solid #dddddd'>DaveGermanCredit.2019.2.12.17.16.52.617</td><td style='border: 1px solid #dddddd'>a08b0e60-6844-4c14-81cb-a3a6c9d199f9</td><td style='border: 1px solid #dddddd'>9764f091ac3099d6c5182764c7b97f90</td><td style='border: 1px solid #dddddd'>DaveGermanCredit.2019.2.12.17.16.52.617</td><td style='border: 1px solid #dddddd'>ba1b62a0-2a80-414e-9177-bcf71d5a8909</td><td style='border: 1px solid #dddddd'>active</td><td style='border: 1px solid #dddddd'>2021-07-29 12:51:37.381000+00:00</td><td style='border: 1px solid #dddddd'>62d30e9f-8fdc-4006-88f5-f76a7edb72e7</td></tr>\n",
       "            </table>\n",
       "        </body>\n",
       "        </HTML>"
      ],
      "text/plain": [
       "<IPython.core.display.HTML object>"
      ]
     },
     "metadata": {},
     "output_type": "display_data"
    }
   ],
   "source": [
    "wos_client.subscriptions.show()"
   ]
  },
  {
   "cell_type": "markdown",
   "metadata": {},
   "source": [
    "### Score the model so we can configure monitors"
   ]
  },
  {
   "cell_type": "markdown",
   "metadata": {},
   "source": [
    "Now that the WML service has been bound and the subscription has been created, we need to send a request to the model before we configure OpenScale. This allows OpenScale to create a payload log in the datamart with the correct schema, so it can capture data coming into and out of the model. First, the code gets the model deployment's endpoint URL, and then sends a few records for predictions."
   ]
  },
  {
   "cell_type": "code",
   "execution_count": 78,
   "metadata": {
    "scrolled": true
   },
   "outputs": [
    {
     "name": "stdout",
     "output_type": "stream",
     "text": [
      "Single record scoring result: \n",
      " fields: ['CheckingStatus', 'LoanDuration', 'CreditHistory', 'LoanPurpose', 'LoanAmount', 'ExistingSavings', 'EmploymentDuration', 'InstallmentPercent', 'Sex', 'OthersOnLoan', 'CurrentResidenceDuration', 'OwnsProperty', 'Age', 'InstallmentPlans', 'Housing', 'ExistingCreditsCount', 'Job', 'Dependents', 'Telephone', 'ForeignWorker', 'CheckingStatus_IX', 'CreditHistory_IX', 'LoanPurpose_IX', 'ExistingSavings_IX', 'EmploymentDuration_IX', 'Sex_IX', 'OthersOnLoan_IX', 'OwnsProperty_IX', 'InstallmentPlans_IX', 'Housing_IX', 'Job_IX', 'Telephone_IX', 'ForeignWorker_IX', 'features', 'rawPrediction', 'probability', 'prediction', 'predictedLabel'] \n",
      " values:  ['no_checking', 13, 'credits_paid_to_date', 'car_new', 1343, '100_to_500', '1_to_4', 2, 'female', 'none', 3, 'savings_insurance', 46, 'none', 'own', 2, 'skilled', 1, 'none', 'yes', 0.0, 1.0, 0.0, 1.0, 0.0, 1.0, 0.0, 0.0, 0.0, 0.0, 0.0, 0.0, 0.0, [20, [1, 3, 5, 13, 14, 15, 16, 17, 18, 19], [1.0, 1.0, 1.0, 13.0, 1343.0, 2.0, 3.0, 46.0, 2.0, 1.0]], [13.32884421357656, 6.671155786423439], [0.6664422106788279, 0.33355778932117197], 0.0, 'No Risk']\n"
     ]
    }
   ],
   "source": [
    "fields = [\"CheckingStatus\",\"LoanDuration\",\"CreditHistory\",\"LoanPurpose\",\"LoanAmount\",\"ExistingSavings\",\"EmploymentDuration\",\"InstallmentPercent\",\"Sex\",\"OthersOnLoan\",\"CurrentResidenceDuration\",\"OwnsProperty\",\"Age\",\"InstallmentPlans\",\"Housing\",\"ExistingCreditsCount\",\"Job\",\"Dependents\",\"Telephone\",\"ForeignWorker\"]\n",
    "values = [\n",
    "  [\"no_checking\",13,\"credits_paid_to_date\",\"car_new\",1343,\"100_to_500\",\"1_to_4\",2,\"female\",\"none\",3,\"savings_insurance\",46,\"none\",\"own\",2,\"skilled\",1,\"none\",\"yes\"],\n",
    "  [\"no_checking\",24,\"prior_payments_delayed\",\"furniture\",4567,\"500_to_1000\",\"1_to_4\",4,\"male\",\"none\",4,\"savings_insurance\",36,\"none\",\"free\",2,\"management_self-employed\",1,\"none\",\"yes\"],\n",
    "  [\"0_to_200\",26,\"all_credits_paid_back\",\"car_new\",863,\"less_100\",\"less_1\",2,\"female\",\"co-applicant\",2,\"real_estate\",38,\"none\",\"own\",1,\"skilled\",1,\"none\",\"yes\"],\n",
    "  [\"0_to_200\",14,\"no_credits\",\"car_new\",2368,\"less_100\",\"1_to_4\",3,\"female\",\"none\",3,\"real_estate\",29,\"none\",\"own\",1,\"skilled\",1,\"none\",\"yes\"],\n",
    "  [\"0_to_200\",4,\"no_credits\",\"car_new\",250,\"less_100\",\"unemployed\",2,\"female\",\"none\",3,\"real_estate\",23,\"none\",\"rent\",1,\"management_self-employed\",1,\"none\",\"yes\"],\n",
    "  [\"no_checking\",17,\"credits_paid_to_date\",\"car_new\",832,\"100_to_500\",\"1_to_4\",2,\"male\",\"none\",2,\"real_estate\",42,\"none\",\"own\",1,\"skilled\",1,\"none\",\"yes\"],\n",
    "  [\"no_checking\",33,\"outstanding_credit\",\"appliances\",5696,\"unknown\",\"greater_7\",4,\"male\",\"co-applicant\",4,\"unknown\",54,\"none\",\"free\",2,\"skilled\",1,\"yes\",\"yes\"],\n",
    "  [\"0_to_200\",13,\"prior_payments_delayed\",\"retraining\",1375,\"100_to_500\",\"4_to_7\",3,\"male\",\"none\",3,\"real_estate\",37,\"none\",\"own\",2,\"management_self-employed\",1,\"none\",\"yes\"]\n",
    "]\n",
    "\n",
    "payload_scoring = {\"input_data\": [{\"fields\": fields, \"values\": values}]}\n",
    "predictions = wml_client.deployments.score(deployment_uid, payload_scoring)\n",
    "\n",
    "print(\"Single record scoring result:\", \"\\n fields:\", predictions[\"predictions\"][0][\"fields\"], \"\\n values: \", predictions[\"predictions\"][0][\"values\"][0])"
   ]
  },
  {
   "cell_type": "markdown",
   "metadata": {},
   "source": [
    "## Check if WML payload logging worked else manually store payload records"
   ]
  },
  {
   "cell_type": "code",
   "execution_count": 79,
   "metadata": {},
   "outputs": [
    {
     "name": "stdout",
     "output_type": "stream",
     "text": [
      "Number of records in the payload logging table: 8\n"
     ]
    }
   ],
   "source": [
    "import uuid\n",
    "from ibm_watson_openscale.supporting_classes.payload_record import PayloadRecord\n",
    "time.sleep(5)\n",
    "pl_records_count = wos_client.data_sets.get_records_count(payload_data_set_id)\n",
    "print(\"Number of records in the payload logging table: {}\".format(pl_records_count))\n",
    "if pl_records_count == 0:\n",
    "    print(\"Payload logging did not happen, performing explicit payload logging.\")\n",
    "    wos_client.data_sets.store_records(data_set_id=payload_data_set_id, request_body=[PayloadRecord(\n",
    "                   scoring_id=str(uuid.uuid4()),\n",
    "                   request=payload_scoring,\n",
    "                   response={\"fields\": predictions['predictions'][0]['fields'], \"values\":predictions['predictions'][0]['values']},\n",
    "                   response_time=460\n",
    "               )])\n",
    "    time.sleep(5)\n",
    "    pl_records_count = wos_client.data_sets.get_records_count(payload_data_set_id)\n",
    "    print(\"Number of records in the payload logging table: {}\".format(pl_records_count))"
   ]
  },
  {
   "cell_type": "markdown",
   "metadata": {},
   "source": [
    "# Quality monitoring and feedback logging <a name=\"quality\"></a>"
   ]
  },
  {
   "cell_type": "markdown",
   "metadata": {},
   "source": [
    "## Enable quality monitoring"
   ]
  },
  {
   "cell_type": "markdown",
   "metadata": {},
   "source": [
    "The code below waits ten seconds to allow the payload logging table to be set up before it begins enabling monitors. First, it turns on the quality (accuracy) monitor and sets an alert threshold of 70%. OpenScale will show an alert on the dashboard if the model accuracy measurement (area under the curve, in the case of a binary classifier) falls below this threshold.\n",
    "\n",
    "The second paramater supplied, min_records, specifies the minimum number of feedback records OpenScale needs before it calculates a new measurement. The quality monitor runs hourly, but the accuracy reading in the dashboard will not change until an additional 50 feedback records have been added, via the user interface, the Python client, or the supplied feedback endpoint."
   ]
  },
  {
   "cell_type": "code",
   "execution_count": 80,
   "metadata": {
    "scrolled": true
   },
   "outputs": [
    {
     "name": "stdout",
     "output_type": "stream",
     "text": [
      "\n",
      "\n",
      "===================================================================================\n",
      "\n",
      " Waiting for end of monitor instance creation c8a6c276-f228-49d8-9b89-c0f4b8b3e231 \n",
      "\n",
      "===================================================================================\n",
      "\n",
      "\n",
      "\n",
      "active\n",
      "\n",
      "---------------------------------------\n",
      " Monitor instance successfully created \n",
      "---------------------------------------\n",
      "\n",
      "\n"
     ]
    }
   ],
   "source": [
    "import time\n",
    "\n",
    "time.sleep(10)\n",
    "target = Target(\n",
    "        target_type=TargetTypes.SUBSCRIPTION,\n",
    "        target_id=subscription_id\n",
    ")\n",
    "parameters = {\n",
    "    \"min_feedback_data_size\": 50\n",
    "}\n",
    "thresholds = [\n",
    "                {\n",
    "                    \"metric_id\": \"area_under_roc\",\n",
    "                    \"type\": \"lower_limit\",\n",
    "                    \"value\": .80\n",
    "                }\n",
    "            ]\n",
    "quality_monitor_details = wos_client.monitor_instances.create(\n",
    "    data_mart_id=data_mart_id,\n",
    "    background_mode=False,\n",
    "    monitor_definition_id=wos_client.monitor_definitions.MONITORS.QUALITY.ID,\n",
    "    target=target,\n",
    "    parameters=parameters,\n",
    "    thresholds=thresholds\n",
    ").result"
   ]
  },
  {
   "cell_type": "code",
   "execution_count": 81,
   "metadata": {},
   "outputs": [
    {
     "data": {
      "text/plain": [
       "'c8a6c276-f228-49d8-9b89-c0f4b8b3e231'"
      ]
     },
     "execution_count": 81,
     "metadata": {},
     "output_type": "execute_result"
    }
   ],
   "source": [
    "quality_monitor_instance_id = quality_monitor_details.metadata.id\n",
    "quality_monitor_instance_id"
   ]
  },
  {
   "cell_type": "markdown",
   "metadata": {},
   "source": [
    "## Feedback logging"
   ]
  },
  {
   "cell_type": "markdown",
   "metadata": {},
   "source": [
    "The code below downloads and stores enough feedback data to meet the minimum threshold so that OpenScale can calculate a new accuracy measurement. It then kicks off the accuracy monitor. The monitors run hourly, or can be initiated via the Python API, the REST API, or the graphical user interface."
   ]
  },
  {
   "cell_type": "code",
   "execution_count": 82,
   "metadata": {},
   "outputs": [
    {
     "name": "stdout",
     "output_type": "stream",
     "text": [
      "rm: cannot remove 'additional_feedback_data_v2.json': No such file or directory\n",
      "--2021-08-11 15:02:10--  https://raw.githubusercontent.com/IBM/watson-openscale-samples/main/IBM%20Cloud/WML/assets/data/credit_risk/additional_feedback_data_v2.json\n",
      "Resolving raw.githubusercontent.com (raw.githubusercontent.com)... 185.199.108.133, 185.199.109.133, 185.199.110.133, ...\n",
      "Connecting to raw.githubusercontent.com (raw.githubusercontent.com)|185.199.108.133|:443... connected.\n",
      "HTTP request sent, awaiting response... 200 OK\n",
      "Length: 50890 (50K) [text/plain]\n",
      "Saving to: ‘additional_feedback_data_v2.json’\n",
      "\n",
      "additional_feedback 100%[===================>]  49.70K  --.-KB/s    in 0.001s  \n",
      "\n",
      "2021-08-11 15:02:10 (54.6 MB/s) - ‘additional_feedback_data_v2.json’ saved [50890/50890]\n",
      "\n"
     ]
    }
   ],
   "source": [
    "!rm additional_feedback_data_v2.json\n",
    "!wget https://raw.githubusercontent.com/IBM/watson-openscale-samples/main/IBM%20Cloud/WML/assets/data/credit_risk/additional_feedback_data_v2.json"
   ]
  },
  {
   "cell_type": "markdown",
   "metadata": {},
   "source": [
    "### Get feedback logging dataset ID"
   ]
  },
  {
   "cell_type": "code",
   "execution_count": 83,
   "metadata": {},
   "outputs": [
    {
     "name": "stdout",
     "output_type": "stream",
     "text": [
      "{\n",
      "  \"data_sets\": [\n",
      "    {\n",
      "      \"metadata\": {\n",
      "        \"id\": \"2bf80f97-efd3-4d5e-99a6-d8f0b6428ba7\",\n",
      "        \"crn\": \"crn:v1:bluemix:public:aiopenscale:us-south:a/181ed6cc388f47bd9d862fe066f9cfce:a08b0e60-6844-4c14-81cb-a3a6c9d199f9:data_set:2bf80f97-efd3-4d5e-99a6-d8f0b6428ba7\",\n",
      "        \"url\": \"/v2/data_sets/2bf80f97-efd3-4d5e-99a6-d8f0b6428ba7\",\n",
      "        \"created_at\": \"2021-08-11T15:00:58.806000Z\",\n",
      "        \"created_by\": \"iam-ServiceId-2e5c9fda-38bf-4279-9712-cdb3b6f3a7ad\",\n",
      "        \"modified_at\": \"2021-08-11T15:00:59.309000Z\",\n",
      "        \"modified_by\": \"iam-ServiceId-2e5c9fda-38bf-4279-9712-cdb3b6f3a7ad\"\n",
      "      },\n",
      "      \"entity\": {\n",
      "        \"data_mart_id\": \"a08b0e60-6844-4c14-81cb-a3a6c9d199f9\",\n",
      "        \"name\": \"c752d566-1517-44bc-9c5c-b0b2c1ab59c0_feedback\",\n",
      "        \"description\": \"c752d566-1517-44bc-9c5c-b0b2c1ab59c0_feedback\",\n",
      "        \"type\": \"feedback\",\n",
      "        \"target\": {\n",
      "          \"target_type\": \"subscription\",\n",
      "          \"target_id\": \"c752d566-1517-44bc-9c5c-b0b2c1ab59c0\"\n",
      "        },\n",
      "        \"schema_update_mode\": \"auto\",\n",
      "        \"data_schema\": {\n",
      "          \"type\": \"struct\",\n",
      "          \"fields\": [\n",
      "            {\n",
      "              \"metadata\": {\n",
      "                \"columnInfo\": {\n",
      "                  \"columnLength\": 64\n",
      "                },\n",
      "                \"measure\": \"discrete\",\n",
      "                \"modeling_role\": \"feature\"\n",
      "              },\n",
      "              \"name\": \"CheckingStatus\",\n",
      "              \"nullable\": true,\n",
      "              \"type\": \"string\"\n",
      "            },\n",
      "            {\n",
      "              \"metadata\": {\n",
      "                \"modeling_role\": \"feature\"\n",
      "              },\n",
      "              \"name\": \"LoanDuration\",\n",
      "              \"nullable\": true,\n",
      "              \"type\": \"integer\"\n",
      "            },\n",
      "            {\n",
      "              \"metadata\": {\n",
      "                \"columnInfo\": {\n",
      "                  \"columnLength\": 64\n",
      "                },\n",
      "                \"measure\": \"discrete\",\n",
      "                \"modeling_role\": \"feature\"\n",
      "              },\n",
      "              \"name\": \"CreditHistory\",\n",
      "              \"nullable\": true,\n",
      "              \"type\": \"string\"\n",
      "            },\n",
      "            {\n",
      "              \"metadata\": {\n",
      "                \"columnInfo\": {\n",
      "                  \"columnLength\": 64\n",
      "                },\n",
      "                \"measure\": \"discrete\",\n",
      "                \"modeling_role\": \"feature\"\n",
      "              },\n",
      "              \"name\": \"LoanPurpose\",\n",
      "              \"nullable\": true,\n",
      "              \"type\": \"string\"\n",
      "            },\n",
      "            {\n",
      "              \"metadata\": {\n",
      "                \"modeling_role\": \"feature\"\n",
      "              },\n",
      "              \"name\": \"LoanAmount\",\n",
      "              \"nullable\": true,\n",
      "              \"type\": \"integer\"\n",
      "            },\n",
      "            {\n",
      "              \"metadata\": {\n",
      "                \"columnInfo\": {\n",
      "                  \"columnLength\": 64\n",
      "                },\n",
      "                \"measure\": \"discrete\",\n",
      "                \"modeling_role\": \"feature\"\n",
      "              },\n",
      "              \"name\": \"ExistingSavings\",\n",
      "              \"nullable\": true,\n",
      "              \"type\": \"string\"\n",
      "            },\n",
      "            {\n",
      "              \"metadata\": {\n",
      "                \"columnInfo\": {\n",
      "                  \"columnLength\": 64\n",
      "                },\n",
      "                \"measure\": \"discrete\",\n",
      "                \"modeling_role\": \"feature\"\n",
      "              },\n",
      "              \"name\": \"EmploymentDuration\",\n",
      "              \"nullable\": true,\n",
      "              \"type\": \"string\"\n",
      "            },\n",
      "            {\n",
      "              \"metadata\": {\n",
      "                \"modeling_role\": \"feature\"\n",
      "              },\n",
      "              \"name\": \"InstallmentPercent\",\n",
      "              \"nullable\": true,\n",
      "              \"type\": \"integer\"\n",
      "            },\n",
      "            {\n",
      "              \"metadata\": {\n",
      "                \"columnInfo\": {\n",
      "                  \"columnLength\": 64\n",
      "                },\n",
      "                \"measure\": \"discrete\",\n",
      "                \"modeling_role\": \"feature\"\n",
      "              },\n",
      "              \"name\": \"Sex\",\n",
      "              \"nullable\": true,\n",
      "              \"type\": \"string\"\n",
      "            },\n",
      "            {\n",
      "              \"metadata\": {\n",
      "                \"columnInfo\": {\n",
      "                  \"columnLength\": 64\n",
      "                },\n",
      "                \"measure\": \"discrete\",\n",
      "                \"modeling_role\": \"feature\"\n",
      "              },\n",
      "              \"name\": \"OthersOnLoan\",\n",
      "              \"nullable\": true,\n",
      "              \"type\": \"string\"\n",
      "            },\n",
      "            {\n",
      "              \"metadata\": {\n",
      "                \"modeling_role\": \"feature\"\n",
      "              },\n",
      "              \"name\": \"CurrentResidenceDuration\",\n",
      "              \"nullable\": true,\n",
      "              \"type\": \"integer\"\n",
      "            },\n",
      "            {\n",
      "              \"metadata\": {\n",
      "                \"columnInfo\": {\n",
      "                  \"columnLength\": 64\n",
      "                },\n",
      "                \"measure\": \"discrete\",\n",
      "                \"modeling_role\": \"feature\"\n",
      "              },\n",
      "              \"name\": \"OwnsProperty\",\n",
      "              \"nullable\": true,\n",
      "              \"type\": \"string\"\n",
      "            },\n",
      "            {\n",
      "              \"metadata\": {\n",
      "                \"modeling_role\": \"feature\"\n",
      "              },\n",
      "              \"name\": \"Age\",\n",
      "              \"nullable\": true,\n",
      "              \"type\": \"integer\"\n",
      "            },\n",
      "            {\n",
      "              \"metadata\": {\n",
      "                \"columnInfo\": {\n",
      "                  \"columnLength\": 64\n",
      "                },\n",
      "                \"measure\": \"discrete\",\n",
      "                \"modeling_role\": \"feature\"\n",
      "              },\n",
      "              \"name\": \"InstallmentPlans\",\n",
      "              \"nullable\": true,\n",
      "              \"type\": \"string\"\n",
      "            },\n",
      "            {\n",
      "              \"metadata\": {\n",
      "                \"columnInfo\": {\n",
      "                  \"columnLength\": 64\n",
      "                },\n",
      "                \"measure\": \"discrete\",\n",
      "                \"modeling_role\": \"feature\"\n",
      "              },\n",
      "              \"name\": \"Housing\",\n",
      "              \"nullable\": true,\n",
      "              \"type\": \"string\"\n",
      "            },\n",
      "            {\n",
      "              \"metadata\": {\n",
      "                \"modeling_role\": \"feature\"\n",
      "              },\n",
      "              \"name\": \"ExistingCreditsCount\",\n",
      "              \"nullable\": true,\n",
      "              \"type\": \"integer\"\n",
      "            },\n",
      "            {\n",
      "              \"metadata\": {\n",
      "                \"columnInfo\": {\n",
      "                  \"columnLength\": 64\n",
      "                },\n",
      "                \"measure\": \"discrete\",\n",
      "                \"modeling_role\": \"feature\"\n",
      "              },\n",
      "              \"name\": \"Job\",\n",
      "              \"nullable\": true,\n",
      "              \"type\": \"string\"\n",
      "            },\n",
      "            {\n",
      "              \"metadata\": {\n",
      "                \"modeling_role\": \"feature\"\n",
      "              },\n",
      "              \"name\": \"Dependents\",\n",
      "              \"nullable\": true,\n",
      "              \"type\": \"integer\"\n",
      "            },\n",
      "            {\n",
      "              \"metadata\": {\n",
      "                \"columnInfo\": {\n",
      "                  \"columnLength\": 64\n",
      "                },\n",
      "                \"measure\": \"discrete\",\n",
      "                \"modeling_role\": \"feature\"\n",
      "              },\n",
      "              \"name\": \"Telephone\",\n",
      "              \"nullable\": true,\n",
      "              \"type\": \"string\"\n",
      "            },\n",
      "            {\n",
      "              \"metadata\": {\n",
      "                \"columnInfo\": {\n",
      "                  \"columnLength\": 64\n",
      "                },\n",
      "                \"measure\": \"discrete\",\n",
      "                \"modeling_role\": \"feature\"\n",
      "              },\n",
      "              \"name\": \"ForeignWorker\",\n",
      "              \"nullable\": true,\n",
      "              \"type\": \"string\"\n",
      "            },\n",
      "            {\n",
      "              \"metadata\": {\n",
      "                \"modeling_role\": \"target\"\n",
      "              },\n",
      "              \"name\": \"Risk\",\n",
      "              \"nullable\": true,\n",
      "              \"type\": \"string\"\n",
      "            },\n",
      "            {\n",
      "              \"metadata\": {\n",
      "                \"modeling_role\": \"record-id\",\n",
      "                \"primary_key\": true\n",
      "              },\n",
      "              \"name\": \"record_id\",\n",
      "              \"nullable\": false,\n",
      "              \"type\": \"string\"\n",
      "            },\n",
      "            {\n",
      "              \"metadata\": {\n",
      "                \"modeling_role\": \"record-timestamp\"\n",
      "              },\n",
      "              \"name\": \"record_timestamp\",\n",
      "              \"nullable\": false,\n",
      "              \"type\": \"timestamp\"\n",
      "            },\n",
      "            {\n",
      "              \"metadata\": {\n",
      "                \"transaction_id_key\": true\n",
      "              },\n",
      "              \"name\": \"transaction_id\",\n",
      "              \"nullable\": true,\n",
      "              \"type\": \"string\"\n",
      "            },\n",
      "            {\n",
      "              \"metadata\": {},\n",
      "              \"name\": \"_original_prediction\",\n",
      "              \"nullable\": true,\n",
      "              \"type\": \"string\"\n",
      "            },\n",
      "            {\n",
      "              \"metadata\": {},\n",
      "              \"name\": \"_original_probability\",\n",
      "              \"nullable\": true,\n",
      "              \"type\": {\n",
      "                \"containsNull\": true,\n",
      "                \"elementType\": \"double\",\n",
      "                \"type\": \"array\"\n",
      "              }\n",
      "            },\n",
      "            {\n",
      "              \"metadata\": {},\n",
      "              \"name\": \"_debiased_prediction\",\n",
      "              \"nullable\": true,\n",
      "              \"type\": \"string\"\n",
      "            },\n",
      "            {\n",
      "              \"metadata\": {},\n",
      "              \"name\": \"_debiased_probability\",\n",
      "              \"nullable\": true,\n",
      "              \"type\": {\n",
      "                \"containsNull\": true,\n",
      "                \"elementType\": \"double\",\n",
      "                \"type\": \"array\"\n",
      "              }\n",
      "            }\n",
      "          ]\n",
      "        },\n",
      "        \"location\": {\n",
      "          \"table_name\": \"a08b0e60-6844-4c14-81cb-a3a6c9d199f9.Feedback_c752d566-1517-44bc-9c5c-b0b2c1ab59c0\"\n",
      "        },\n",
      "        \"status\": {\n",
      "          \"state\": \"active\"\n",
      "        }\n",
      "      }\n",
      "    }\n",
      "  ]\n",
      "}\n"
     ]
    }
   ],
   "source": [
    "feedback_dataset_id = None\n",
    "feedback_dataset = wos_client.data_sets.list(type=DataSetTypes.FEEDBACK, \n",
    "                                                target_target_id=subscription_id, \n",
    "                                                target_target_type=TargetTypes.SUBSCRIPTION).result\n",
    "print(feedback_dataset)\n",
    "feedback_dataset_id = feedback_dataset.data_sets[0].metadata.id\n",
    "if feedback_dataset_id is None:\n",
    "    print(\"Feedback data set not found. Please check quality monitor status.\")"
   ]
  },
  {
   "cell_type": "code",
   "execution_count": 84,
   "metadata": {},
   "outputs": [],
   "source": [
    "with open('additional_feedback_data_v2.json') as feedback_file:\n",
    "    additional_feedback_data = json.load(feedback_file)"
   ]
  },
  {
   "cell_type": "code",
   "execution_count": 85,
   "metadata": {},
   "outputs": [
    {
     "name": "stdout",
     "output_type": "stream",
     "text": [
      "\n",
      "\n",
      "==========================================================================================\n",
      "\n",
      " Waiting for end of storing records with request id: d87f7791-47af-4b44-9438-d535bba601ed \n",
      "\n",
      "==========================================================================================\n",
      "\n",
      "\n",
      "\n",
      "active\n",
      "\n",
      "---------------------------------------\n",
      " Successfully finished storing records \n",
      "---------------------------------------\n",
      "\n",
      "\n"
     ]
    },
    {
     "data": {
      "text/plain": [
       "<ibm_cloud_sdk_core.detailed_response.DetailedResponse at 0x7f3db83d2f10>"
      ]
     },
     "execution_count": 85,
     "metadata": {},
     "output_type": "execute_result"
    }
   ],
   "source": [
    "wos_client.data_sets.store_records(feedback_dataset_id, request_body=additional_feedback_data, background_mode=False)"
   ]
  },
  {
   "cell_type": "code",
   "execution_count": 86,
   "metadata": {
    "scrolled": true
   },
   "outputs": [
    {
     "data": {
      "text/plain": [
       "98"
      ]
     },
     "execution_count": 86,
     "metadata": {},
     "output_type": "execute_result"
    }
   ],
   "source": [
    "wos_client.data_sets.get_records_count(data_set_id=feedback_dataset_id)"
   ]
  },
  {
   "cell_type": "code",
   "execution_count": 87,
   "metadata": {
    "scrolled": true
   },
   "outputs": [
    {
     "name": "stdout",
     "output_type": "stream",
     "text": [
      "\n",
      "\n",
      "========================================================================\n",
      "\n",
      " Waiting for end of monitoring run dacfdeb5-9d8f-4a75-9c24-68f0ec7ab0d1 \n",
      "\n",
      "========================================================================\n",
      "\n",
      "\n",
      "\n",
      "running...\n",
      "finished\n",
      "\n",
      "---------------------------\n",
      " Successfully finished run \n",
      "---------------------------\n",
      "\n",
      "\n"
     ]
    }
   ],
   "source": [
    "run_details = wos_client.monitor_instances.run(monitor_instance_id=quality_monitor_instance_id, background_mode=False).result"
   ]
  },
  {
   "cell_type": "code",
   "execution_count": 88,
   "metadata": {
    "scrolled": true
   },
   "outputs": [
    {
     "data": {
      "text/html": [
       "<HTML>\n",
       "        <body>\n",
       "            <h3>c8a6c276-f228-49d8-9b89-c0f4b8b3e231 Monitor Runs Metrics from: 2021-08-04 15:02:59.672789  till: 2021-08-11 15:02:59.672804</h3>\n",
       "            <table style='border: 1px solid #dddddd; font-family: Courier'>\n",
       "                <th style='border: 1px solid #dddddd'>ts</th><th style='border: 1px solid #dddddd'>id</th><th style='border: 1px solid #dddddd'>measurement_id</th><th style='border: 1px solid #dddddd'>value</th><th style='border: 1px solid #dddddd'>lower_limit</th><th style='border: 1px solid #dddddd'>upper_limit</th><th style='border: 1px solid #dddddd'>tags</th><th style='border: 1px solid #dddddd'>monitor_definition_id</th><th style='border: 1px solid #dddddd'>monitor_instance_id</th><th style='border: 1px solid #dddddd'>run_id</th><th style='border: 1px solid #dddddd'>target_type</th><th style='border: 1px solid #dddddd'>target_id</th>\n",
       "                <tr><td style='border: 1px solid #dddddd'>2021-08-11 15:02:30.493000+00:00</td><td style='border: 1px solid #dddddd'>true_positive_rate</td><td style='border: 1px solid #dddddd'>5cd34d4a-13c6-44d5-ba26-fcec9624ec86</td><td style='border: 1px solid #dddddd'>0.36363636363636365</td><td style='border: 1px solid #dddddd'>None</td><td style='border: 1px solid #dddddd'>None</td><td style='border: 1px solid #dddddd'>['model_type:original']</td><td style='border: 1px solid #dddddd'>quality</td><td style='border: 1px solid #dddddd'>c8a6c276-f228-49d8-9b89-c0f4b8b3e231</td><td style='border: 1px solid #dddddd'>dacfdeb5-9d8f-4a75-9c24-68f0ec7ab0d1</td><td style='border: 1px solid #dddddd'>subscription</td><td style='border: 1px solid #dddddd'>c752d566-1517-44bc-9c5c-b0b2c1ab59c0</td></tr><tr><td style='border: 1px solid #dddddd'>2021-08-11 15:02:30.493000+00:00</td><td style='border: 1px solid #dddddd'>area_under_roc</td><td style='border: 1px solid #dddddd'>5cd34d4a-13c6-44d5-ba26-fcec9624ec86</td><td style='border: 1px solid #dddddd'>0.6510489510489511</td><td style='border: 1px solid #dddddd'>0.8</td><td style='border: 1px solid #dddddd'>None</td><td style='border: 1px solid #dddddd'>['model_type:original']</td><td style='border: 1px solid #dddddd'>quality</td><td style='border: 1px solid #dddddd'>c8a6c276-f228-49d8-9b89-c0f4b8b3e231</td><td style='border: 1px solid #dddddd'>dacfdeb5-9d8f-4a75-9c24-68f0ec7ab0d1</td><td style='border: 1px solid #dddddd'>subscription</td><td style='border: 1px solid #dddddd'>c752d566-1517-44bc-9c5c-b0b2c1ab59c0</td></tr><tr><td style='border: 1px solid #dddddd'>2021-08-11 15:02:30.493000+00:00</td><td style='border: 1px solid #dddddd'>precision</td><td style='border: 1px solid #dddddd'>5cd34d4a-13c6-44d5-ba26-fcec9624ec86</td><td style='border: 1px solid #dddddd'>0.75</td><td style='border: 1px solid #dddddd'>None</td><td style='border: 1px solid #dddddd'>None</td><td style='border: 1px solid #dddddd'>['model_type:original']</td><td style='border: 1px solid #dddddd'>quality</td><td style='border: 1px solid #dddddd'>c8a6c276-f228-49d8-9b89-c0f4b8b3e231</td><td style='border: 1px solid #dddddd'>dacfdeb5-9d8f-4a75-9c24-68f0ec7ab0d1</td><td style='border: 1px solid #dddddd'>subscription</td><td style='border: 1px solid #dddddd'>c752d566-1517-44bc-9c5c-b0b2c1ab59c0</td></tr><tr><td style='border: 1px solid #dddddd'>2021-08-11 15:02:30.493000+00:00</td><td style='border: 1px solid #dddddd'>f1_measure</td><td style='border: 1px solid #dddddd'>5cd34d4a-13c6-44d5-ba26-fcec9624ec86</td><td style='border: 1px solid #dddddd'>0.48979591836734687</td><td style='border: 1px solid #dddddd'>None</td><td style='border: 1px solid #dddddd'>None</td><td style='border: 1px solid #dddddd'>['model_type:original']</td><td style='border: 1px solid #dddddd'>quality</td><td style='border: 1px solid #dddddd'>c8a6c276-f228-49d8-9b89-c0f4b8b3e231</td><td style='border: 1px solid #dddddd'>dacfdeb5-9d8f-4a75-9c24-68f0ec7ab0d1</td><td style='border: 1px solid #dddddd'>subscription</td><td style='border: 1px solid #dddddd'>c752d566-1517-44bc-9c5c-b0b2c1ab59c0</td></tr><tr><td style='border: 1px solid #dddddd'>2021-08-11 15:02:30.493000+00:00</td><td style='border: 1px solid #dddddd'>accuracy</td><td style='border: 1px solid #dddddd'>5cd34d4a-13c6-44d5-ba26-fcec9624ec86</td><td style='border: 1px solid #dddddd'>0.7448979591836735</td><td style='border: 1px solid #dddddd'>None</td><td style='border: 1px solid #dddddd'>None</td><td style='border: 1px solid #dddddd'>['model_type:original']</td><td style='border: 1px solid #dddddd'>quality</td><td style='border: 1px solid #dddddd'>c8a6c276-f228-49d8-9b89-c0f4b8b3e231</td><td style='border: 1px solid #dddddd'>dacfdeb5-9d8f-4a75-9c24-68f0ec7ab0d1</td><td style='border: 1px solid #dddddd'>subscription</td><td style='border: 1px solid #dddddd'>c752d566-1517-44bc-9c5c-b0b2c1ab59c0</td></tr><tr><td style='border: 1px solid #dddddd'>2021-08-11 15:02:30.493000+00:00</td><td style='border: 1px solid #dddddd'>log_loss</td><td style='border: 1px solid #dddddd'>5cd34d4a-13c6-44d5-ba26-fcec9624ec86</td><td style='border: 1px solid #dddddd'>0.4616535286562782</td><td style='border: 1px solid #dddddd'>None</td><td style='border: 1px solid #dddddd'>None</td><td style='border: 1px solid #dddddd'>['model_type:original']</td><td style='border: 1px solid #dddddd'>quality</td><td style='border: 1px solid #dddddd'>c8a6c276-f228-49d8-9b89-c0f4b8b3e231</td><td style='border: 1px solid #dddddd'>dacfdeb5-9d8f-4a75-9c24-68f0ec7ab0d1</td><td style='border: 1px solid #dddddd'>subscription</td><td style='border: 1px solid #dddddd'>c752d566-1517-44bc-9c5c-b0b2c1ab59c0</td></tr><tr><td style='border: 1px solid #dddddd'>2021-08-11 15:02:30.493000+00:00</td><td style='border: 1px solid #dddddd'>false_positive_rate</td><td style='border: 1px solid #dddddd'>5cd34d4a-13c6-44d5-ba26-fcec9624ec86</td><td style='border: 1px solid #dddddd'>0.06153846153846154</td><td style='border: 1px solid #dddddd'>None</td><td style='border: 1px solid #dddddd'>None</td><td style='border: 1px solid #dddddd'>['model_type:original']</td><td style='border: 1px solid #dddddd'>quality</td><td style='border: 1px solid #dddddd'>c8a6c276-f228-49d8-9b89-c0f4b8b3e231</td><td style='border: 1px solid #dddddd'>dacfdeb5-9d8f-4a75-9c24-68f0ec7ab0d1</td><td style='border: 1px solid #dddddd'>subscription</td><td style='border: 1px solid #dddddd'>c752d566-1517-44bc-9c5c-b0b2c1ab59c0</td></tr><tr><td style='border: 1px solid #dddddd'>2021-08-11 15:02:30.493000+00:00</td><td style='border: 1px solid #dddddd'>area_under_pr</td><td style='border: 1px solid #dddddd'>5cd34d4a-13c6-44d5-ba26-fcec9624ec86</td><td style='border: 1px solid #dddddd'>0.6185064935064934</td><td style='border: 1px solid #dddddd'>None</td><td style='border: 1px solid #dddddd'>None</td><td style='border: 1px solid #dddddd'>['model_type:original']</td><td style='border: 1px solid #dddddd'>quality</td><td style='border: 1px solid #dddddd'>c8a6c276-f228-49d8-9b89-c0f4b8b3e231</td><td style='border: 1px solid #dddddd'>dacfdeb5-9d8f-4a75-9c24-68f0ec7ab0d1</td><td style='border: 1px solid #dddddd'>subscription</td><td style='border: 1px solid #dddddd'>c752d566-1517-44bc-9c5c-b0b2c1ab59c0</td></tr><tr><td style='border: 1px solid #dddddd'>2021-08-11 15:02:30.493000+00:00</td><td style='border: 1px solid #dddddd'>recall</td><td style='border: 1px solid #dddddd'>5cd34d4a-13c6-44d5-ba26-fcec9624ec86</td><td style='border: 1px solid #dddddd'>0.36363636363636365</td><td style='border: 1px solid #dddddd'>None</td><td style='border: 1px solid #dddddd'>None</td><td style='border: 1px solid #dddddd'>['model_type:original']</td><td style='border: 1px solid #dddddd'>quality</td><td style='border: 1px solid #dddddd'>c8a6c276-f228-49d8-9b89-c0f4b8b3e231</td><td style='border: 1px solid #dddddd'>dacfdeb5-9d8f-4a75-9c24-68f0ec7ab0d1</td><td style='border: 1px solid #dddddd'>subscription</td><td style='border: 1px solid #dddddd'>c752d566-1517-44bc-9c5c-b0b2c1ab59c0</td></tr>\n",
       "            </table>\n",
       "        </body>\n",
       "        </HTML>"
      ],
      "text/plain": [
       "<IPython.core.display.HTML object>"
      ]
     },
     "metadata": {},
     "output_type": "display_data"
    }
   ],
   "source": [
    "wos_client.monitor_instances.show_metrics(monitor_instance_id=quality_monitor_instance_id)"
   ]
  },
  {
   "cell_type": "markdown",
   "metadata": {},
   "source": [
    "# Fairness, drift monitoring and explanations <a name=\"fairness\"></a>"
   ]
  },
  {
   "cell_type": "markdown",
   "metadata": {},
   "source": [
    "### Fairness configuration\n",
    "\n",
    "The code below configures fairness monitoring for our model. It turns on monitoring for two features, Sex and Age. In each case, we must specify:\n",
    "\n",
    "  * Which model feature to monitor\n",
    "  * One or more **majority** groups, which are values of that feature that we expect to receive a higher percentage of favorable outcomes\n",
    "  * One or more **minority** groups, which are values of that feature that we expect to receive a higher percentage of unfavorable outcomes\n",
    "  * The threshold at which we would like OpenScale to display an alert if the fairness measurement falls below (in this case, 95%)\n",
    "\n",
    "Additionally, we must specify which outcomes from the model are favourable outcomes, and which are unfavourable. We must also provide the number of records OpenScale will use to calculate the fairness score. In this case, OpenScale's fairness monitor will run hourly, but will not calculate a new fairness rating until at least 200 records have been added. Finally, to calculate fairness, OpenScale must perform some calculations on the training data, so we provide the dataframe containing the data."
   ]
  },
  {
   "cell_type": "code",
   "execution_count": 89,
   "metadata": {},
   "outputs": [
    {
     "data": {
      "text/html": [
       "<HTML>\n",
       "        <body>\n",
       "            <h3>Monitor instances</h3>\n",
       "            <table style='border: 1px solid #dddddd; font-family: Courier'>\n",
       "                <th style='border: 1px solid #dddddd'>data_mart_id</th><th style='border: 1px solid #dddddd'>status</th><th style='border: 1px solid #dddddd'>target_id</th><th style='border: 1px solid #dddddd'>target_type</th><th style='border: 1px solid #dddddd'>monitor_definition_id</th><th style='border: 1px solid #dddddd'>created_at</th><th style='border: 1px solid #dddddd'>id</th>\n",
       "                <tr><td style='border: 1px solid #dddddd'>a08b0e60-6844-4c14-81cb-a3a6c9d199f9</td><td style='border: 1px solid #dddddd'>active</td><td style='border: 1px solid #dddddd'>c752d566-1517-44bc-9c5c-b0b2c1ab59c0</td><td style='border: 1px solid #dddddd'>subscription</td><td style='border: 1px solid #dddddd'>quality</td><td style='border: 1px solid #dddddd'>2021-08-11 15:00:58.147000+00:00</td><td style='border: 1px solid #dddddd'>c8a6c276-f228-49d8-9b89-c0f4b8b3e231</td></tr><tr><td style='border: 1px solid #dddddd'>a08b0e60-6844-4c14-81cb-a3a6c9d199f9</td><td style='border: 1px solid #dddddd'>active</td><td style='border: 1px solid #dddddd'>62d30e9f-8fdc-4006-88f5-f76a7edb72e7</td><td style='border: 1px solid #dddddd'>subscription</td><td style='border: 1px solid #dddddd'>fairness</td><td style='border: 1px solid #dddddd'>2021-07-29 13:05:05.409000+00:00</td><td style='border: 1px solid #dddddd'>3a68d116-dc8f-4fd2-aba1-9e10dabb3797</td></tr><tr><td style='border: 1px solid #dddddd'>a08b0e60-6844-4c14-81cb-a3a6c9d199f9</td><td style='border: 1px solid #dddddd'>active</td><td style='border: 1px solid #dddddd'>62d30e9f-8fdc-4006-88f5-f76a7edb72e7</td><td style='border: 1px solid #dddddd'>subscription</td><td style='border: 1px solid #dddddd'>drift</td><td style='border: 1px solid #dddddd'>2021-07-29 13:05:59.474000+00:00</td><td style='border: 1px solid #dddddd'>d7d1cdc6-ae66-44c5-9c87-1464fc00a60e</td></tr><tr><td style='border: 1px solid #dddddd'>a08b0e60-6844-4c14-81cb-a3a6c9d199f9</td><td style='border: 1px solid #dddddd'>active</td><td style='border: 1px solid #dddddd'>62d30e9f-8fdc-4006-88f5-f76a7edb72e7</td><td style='border: 1px solid #dddddd'>subscription</td><td style='border: 1px solid #dddddd'>explainability</td><td style='border: 1px solid #dddddd'>2021-07-29 13:05:49.378000+00:00</td><td style='border: 1px solid #dddddd'>fb780969-54eb-4b50-9687-bcbb4d2712cd</td></tr><tr><td style='border: 1px solid #dddddd'>a08b0e60-6844-4c14-81cb-a3a6c9d199f9</td><td style='border: 1px solid #dddddd'>active</td><td style='border: 1px solid #dddddd'>62d30e9f-8fdc-4006-88f5-f76a7edb72e7</td><td style='border: 1px solid #dddddd'>subscription</td><td style='border: 1px solid #dddddd'>quality</td><td style='border: 1px solid #dddddd'>2021-07-29 13:04:34.663000+00:00</td><td style='border: 1px solid #dddddd'>4a675973-a9ce-4f7a-891e-0d458f5a08b3</td></tr>\n",
       "            </table>\n",
       "        </body>\n",
       "        </HTML>"
      ],
      "text/plain": [
       "<IPython.core.display.HTML object>"
      ]
     },
     "metadata": {},
     "output_type": "display_data"
    }
   ],
   "source": [
    "wos_client.monitor_instances.show()"
   ]
  },
  {
   "cell_type": "code",
   "execution_count": 90,
   "metadata": {
    "scrolled": true
   },
   "outputs": [
    {
     "name": "stdout",
     "output_type": "stream",
     "text": [
      "\n",
      "\n",
      "===================================================================================\n",
      "\n",
      " Waiting for end of monitor instance creation 5dbe7ec5-2307-4ef1-a248-d7c63cec4414 \n",
      "\n",
      "===================================================================================\n",
      "\n",
      "\n",
      "\n",
      "active\n",
      "\n",
      "---------------------------------------\n",
      " Monitor instance successfully created \n",
      "---------------------------------------\n",
      "\n",
      "\n"
     ]
    },
    {
     "data": {
      "text/plain": [
       "'5dbe7ec5-2307-4ef1-a248-d7c63cec4414'"
      ]
     },
     "execution_count": 90,
     "metadata": {},
     "output_type": "execute_result"
    }
   ],
   "source": [
    "target = Target(\n",
    "    target_type=TargetTypes.SUBSCRIPTION,\n",
    "    target_id=subscription_id\n",
    "\n",
    ")\n",
    "parameters = {\n",
    "    \"features\": [\n",
    "        {\"feature\": \"Sex\",\n",
    "         \"majority\": ['male'],\n",
    "         \"minority\": ['female'],\n",
    "         \"threshold\": 0.95\n",
    "         },\n",
    "        {\"feature\": \"Age\",\n",
    "         \"majority\": [[26, 75]],\n",
    "         \"minority\": [[18, 25]],\n",
    "         \"threshold\": 0.95\n",
    "         }\n",
    "    ],\n",
    "    \"favourable_class\": [\"No Risk\"],\n",
    "    \"unfavourable_class\": [\"Risk\"],\n",
    "    \"min_records\": 100\n",
    "}\n",
    "\n",
    "fairness_monitor_details = wos_client.monitor_instances.create(\n",
    "    data_mart_id=data_mart_id,\n",
    "    background_mode=False,\n",
    "    monitor_definition_id=wos_client.monitor_definitions.MONITORS.FAIRNESS.ID,\n",
    "    target=target,\n",
    "    parameters=parameters).result\n",
    "fairness_monitor_instance_id =fairness_monitor_details.metadata.id\n",
    "fairness_monitor_instance_id"
   ]
  },
  {
   "cell_type": "markdown",
   "metadata": {},
   "source": [
    "### Drift configuration"
   ]
  },
  {
   "cell_type": "markdown",
   "metadata": {},
   "source": [
    "####  Note: you can choose to enable/disable (True or False) model or data drift within config"
   ]
  },
  {
   "cell_type": "code",
   "execution_count": 91,
   "metadata": {},
   "outputs": [
    {
     "name": "stdout",
     "output_type": "stream",
     "text": [
      "\n",
      "\n",
      "===================================================================================\n",
      "\n",
      " Waiting for end of monitor instance creation e98e4263-be05-4b60-bf0c-314ac4d21c5b \n",
      "\n",
      "===================================================================================\n",
      "\n",
      "\n",
      "\n",
      "preparing.\n",
      "active\n",
      "\n",
      "---------------------------------------\n",
      " Monitor instance successfully created \n",
      "---------------------------------------\n",
      "\n",
      "\n"
     ]
    },
    {
     "data": {
      "text/plain": [
       "'e98e4263-be05-4b60-bf0c-314ac4d21c5b'"
      ]
     },
     "execution_count": 91,
     "metadata": {},
     "output_type": "execute_result"
    }
   ],
   "source": [
    "monitor_instances = wos_client.monitor_instances.list().result.monitor_instances\n",
    "for monitor_instance in monitor_instances:\n",
    "    monitor_def_id=monitor_instance.entity.monitor_definition_id\n",
    "    if monitor_def_id == \"drift\" and monitor_instance.entity.target.target_id == subscription_id:\n",
    "        wos_client.monitor_instances.delete(monitor_instance.metadata.id)\n",
    "        print('Deleted existing drift monitor instance with id: ', monitor_instance.metadata.id)\n",
    "\n",
    "\n",
    "target = Target(\n",
    "    target_type=TargetTypes.SUBSCRIPTION,\n",
    "    target_id=subscription_id\n",
    "\n",
    ")\n",
    "parameters = {\n",
    "    \"min_samples\": 100,\n",
    "    \"drift_threshold\": 0.1,\n",
    "    \"train_drift_model\": True,\n",
    "    \"enable_model_drift\": False,\n",
    "    \"enable_data_drift\": True\n",
    "}\n",
    "\n",
    "drift_monitor_details = wos_client.monitor_instances.create(\n",
    "    data_mart_id=data_mart_id,\n",
    "    background_mode=False,\n",
    "    monitor_definition_id=wos_client.monitor_definitions.MONITORS.DRIFT.ID,\n",
    "    target=target,\n",
    "    parameters=parameters\n",
    ").result\n",
    "\n",
    "drift_monitor_instance_id = drift_monitor_details.metadata.id\n",
    "drift_monitor_instance_id"
   ]
  },
  {
   "cell_type": "markdown",
   "metadata": {},
   "source": [
    "## Score the model again now that monitoring is configured"
   ]
  },
  {
   "cell_type": "markdown",
   "metadata": {},
   "source": [
    "This next section randomly selects 200 records from the data feed and sends those records to the model for predictions. This is enough to exceed the minimum threshold for records set in the previous section, which allows OpenScale to begin calculating fairness."
   ]
  },
  {
   "cell_type": "code",
   "execution_count": 92,
   "metadata": {},
   "outputs": [
    {
     "name": "stdout",
     "output_type": "stream",
     "text": [
      "-rw-rw---- 1 wsuser watsonstudio 3.0M Aug 11 15:03 german_credit_feed.json\r\n"
     ]
    }
   ],
   "source": [
    "with io.capture_output() as captured:\n",
    "    !wget https://raw.githubusercontent.com/IBM/watson-openscale-samples/main/IBM%20Cloud/WML/assets/data/credit_risk/german_credit_feed.json\n",
    "!ls -lh german_credit_feed.json"
   ]
  },
  {
   "cell_type": "markdown",
   "metadata": {},
   "source": [
    "Score 200 randomly chosen records"
   ]
  },
  {
   "cell_type": "code",
   "execution_count": 93,
   "metadata": {},
   "outputs": [],
   "source": [
    "import random\n",
    "\n",
    "with open('german_credit_feed.json', 'r') as scoring_file:\n",
    "    scoring_data = json.load(scoring_file)\n",
    "\n",
    "fields = scoring_data['fields']\n",
    "values = []\n",
    "for _ in range(200):\n",
    "    values.append(random.choice(scoring_data['values']))\n",
    "payload_scoring = {\"input_data\": [{\"fields\": fields, \"values\": values}]}\n",
    "\n",
    "scoring_response = wml_client.deployments.score(deployment_uid, payload_scoring)\n",
    "\n",
    "time.sleep(5)\n",
    "pl_records_count = wos_client.data_sets.get_records_count(payload_data_set_id)\n",
    "\n",
    "if pl_records_count == 8:\n",
    "    print(\"Payload logging did not happen, performing explicit payload logging.\")\n",
    "    wos_client.data_sets.store_records(data_set_id=payload_data_set_id, request_body=[PayloadRecord(\n",
    "                   scoring_id=str(uuid.uuid4()),\n",
    "                   request=payload_scoring,\n",
    "                   response={\"fields\": scoring_response['predictions'][0]['fields'], \"values\":scoring_response['predictions'][0]['values']},\n",
    "                   response_time=460\n",
    "               )])\n",
    "    time.sleep(5)\n",
    "    pl_records_count = wos_client.data_sets.get_records_count(payload_data_set_id)\n",
    "    print(\"Number of records in the payload logging table: {}\".format(pl_records_count))"
   ]
  },
  {
   "cell_type": "markdown",
   "metadata": {},
   "source": [
    "**Note:** Now in payload table should be total 208 records."
   ]
  },
  {
   "cell_type": "code",
   "execution_count": 94,
   "metadata": {},
   "outputs": [
    {
     "name": "stdout",
     "output_type": "stream",
     "text": [
      "Number of records in payload table:  208\n"
     ]
    }
   ],
   "source": [
    "print('Number of records in payload table: ', wos_client.data_sets.get_records_count(data_set_id=payload_data_set_id))"
   ]
  },
  {
   "cell_type": "markdown",
   "metadata": {},
   "source": [
    "## Run fairness monitor"
   ]
  },
  {
   "cell_type": "markdown",
   "metadata": {},
   "source": [
    "Kick off a fairness monitor run on current data. The monitor runs hourly, but can be manually initiated using the Python client, the REST API, or the graphical user interface."
   ]
  },
  {
   "cell_type": "code",
   "execution_count": 95,
   "metadata": {
    "scrolled": true
   },
   "outputs": [
    {
     "name": "stdout",
     "output_type": "stream",
     "text": [
      "\n",
      "\n",
      "========================================================================\n",
      "\n",
      " Waiting for end of monitoring run 43c2666e-f7d8-4f2b-81a2-5ed527713fcf \n",
      "\n",
      "========================================================================\n",
      "\n",
      "\n",
      "\n",
      "running..\n",
      "finished\n",
      "\n",
      "---------------------------\n",
      " Successfully finished run \n",
      "---------------------------\n",
      "\n",
      "\n"
     ]
    }
   ],
   "source": [
    "run_details = wos_client.monitor_instances.run(monitor_instance_id=fairness_monitor_instance_id, background_mode=False)"
   ]
  },
  {
   "cell_type": "code",
   "execution_count": 96,
   "metadata": {},
   "outputs": [
    {
     "data": {
      "text/html": [
       "<HTML>\n",
       "        <body>\n",
       "            <h3>5dbe7ec5-2307-4ef1-a248-d7c63cec4414 Monitor Runs Metrics from: 2021-08-04 15:04:28.217784  till: 2021-08-11 15:04:28.217804</h3>\n",
       "            <table style='border: 1px solid #dddddd; font-family: Courier'>\n",
       "                <th style='border: 1px solid #dddddd'>ts</th><th style='border: 1px solid #dddddd'>id</th><th style='border: 1px solid #dddddd'>measurement_id</th><th style='border: 1px solid #dddddd'>value</th><th style='border: 1px solid #dddddd'>lower_limit</th><th style='border: 1px solid #dddddd'>upper_limit</th><th style='border: 1px solid #dddddd'>tags</th><th style='border: 1px solid #dddddd'>monitor_definition_id</th><th style='border: 1px solid #dddddd'>monitor_instance_id</th><th style='border: 1px solid #dddddd'>run_id</th><th style='border: 1px solid #dddddd'>target_type</th><th style='border: 1px solid #dddddd'>target_id</th>\n",
       "                <tr><td style='border: 1px solid #dddddd'>2021-08-11 15:03:58.051795+00:00</td><td style='border: 1px solid #dddddd'>fairness_value</td><td style='border: 1px solid #dddddd'>aeba22aa-1c97-4a56-932b-a38af4bacf13</td><td style='border: 1px solid #dddddd'>86.8</td><td style='border: 1px solid #dddddd'>80.0</td><td style='border: 1px solid #dddddd'>None</td><td style='border: 1px solid #dddddd'>['feature:Sex', 'fairness_metric_type:debiased_fairness', 'feature_value:female']</td><td style='border: 1px solid #dddddd'>fairness</td><td style='border: 1px solid #dddddd'>5dbe7ec5-2307-4ef1-a248-d7c63cec4414</td><td style='border: 1px solid #dddddd'>43c2666e-f7d8-4f2b-81a2-5ed527713fcf</td><td style='border: 1px solid #dddddd'>subscription</td><td style='border: 1px solid #dddddd'>c752d566-1517-44bc-9c5c-b0b2c1ab59c0</td></tr><tr><td style='border: 1px solid #dddddd'>2021-08-11 15:03:58.051795+00:00</td><td style='border: 1px solid #dddddd'>fairness_value</td><td style='border: 1px solid #dddddd'>aeba22aa-1c97-4a56-932b-a38af4bacf13</td><td style='border: 1px solid #dddddd'>112.00000000000001</td><td style='border: 1px solid #dddddd'>80.0</td><td style='border: 1px solid #dddddd'>None</td><td style='border: 1px solid #dddddd'>['feature:Age', 'fairness_metric_type:debiased_fairness', 'feature_value:18-25']</td><td style='border: 1px solid #dddddd'>fairness</td><td style='border: 1px solid #dddddd'>5dbe7ec5-2307-4ef1-a248-d7c63cec4414</td><td style='border: 1px solid #dddddd'>43c2666e-f7d8-4f2b-81a2-5ed527713fcf</td><td style='border: 1px solid #dddddd'>subscription</td><td style='border: 1px solid #dddddd'>c752d566-1517-44bc-9c5c-b0b2c1ab59c0</td></tr><tr><td style='border: 1px solid #dddddd'>2021-08-11 15:03:58.051795+00:00</td><td style='border: 1px solid #dddddd'>fairness_value</td><td style='border: 1px solid #dddddd'>38d7293b-2df5-47e2-b25d-3812bc4f4be4</td><td style='border: 1px solid #dddddd'>86.8</td><td style='border: 1px solid #dddddd'>80.0</td><td style='border: 1px solid #dddddd'>None</td><td style='border: 1px solid #dddddd'>['feature:Sex', 'fairness_metric_type:fairness', 'feature_value:female']</td><td style='border: 1px solid #dddddd'>fairness</td><td style='border: 1px solid #dddddd'>5dbe7ec5-2307-4ef1-a248-d7c63cec4414</td><td style='border: 1px solid #dddddd'>43c2666e-f7d8-4f2b-81a2-5ed527713fcf</td><td style='border: 1px solid #dddddd'>subscription</td><td style='border: 1px solid #dddddd'>c752d566-1517-44bc-9c5c-b0b2c1ab59c0</td></tr><tr><td style='border: 1px solid #dddddd'>2021-08-11 15:03:58.051795+00:00</td><td style='border: 1px solid #dddddd'>fairness_value</td><td style='border: 1px solid #dddddd'>38d7293b-2df5-47e2-b25d-3812bc4f4be4</td><td style='border: 1px solid #dddddd'>112.00000000000001</td><td style='border: 1px solid #dddddd'>80.0</td><td style='border: 1px solid #dddddd'>None</td><td style='border: 1px solid #dddddd'>['feature:Age', 'fairness_metric_type:fairness', 'feature_value:18-25']</td><td style='border: 1px solid #dddddd'>fairness</td><td style='border: 1px solid #dddddd'>5dbe7ec5-2307-4ef1-a248-d7c63cec4414</td><td style='border: 1px solid #dddddd'>43c2666e-f7d8-4f2b-81a2-5ed527713fcf</td><td style='border: 1px solid #dddddd'>subscription</td><td style='border: 1px solid #dddddd'>c752d566-1517-44bc-9c5c-b0b2c1ab59c0</td></tr>\n",
       "            </table>\n",
       "        </body>\n",
       "        </HTML>"
      ],
      "text/plain": [
       "<IPython.core.display.HTML object>"
      ]
     },
     "metadata": {},
     "output_type": "display_data"
    }
   ],
   "source": [
    "time.sleep(10)\n",
    "\n",
    "wos_client.monitor_instances.show_metrics(monitor_instance_id=fairness_monitor_instance_id)"
   ]
  },
  {
   "cell_type": "markdown",
   "metadata": {},
   "source": [
    "## Run drift monitor\n",
    "\n",
    "\n",
    "Kick off a drift monitor run on current data. The monitor runs every hour, but can be manually initiated using the Python client, the REST API."
   ]
  },
  {
   "cell_type": "code",
   "execution_count": 97,
   "metadata": {},
   "outputs": [
    {
     "name": "stdout",
     "output_type": "stream",
     "text": [
      "\n",
      "\n",
      "========================================================================\n",
      "\n",
      " Waiting for end of monitoring run 68ddbc52-5818-4921-88bf-2b05f9fffa58 \n",
      "\n",
      "========================================================================\n",
      "\n",
      "\n",
      "\n",
      "running\n",
      "finished\n",
      "\n",
      "---------------------------\n",
      " Successfully finished run \n",
      "---------------------------\n",
      "\n",
      "\n"
     ]
    }
   ],
   "source": [
    "drift_run_details = wos_client.monitor_instances.run(monitor_instance_id=drift_monitor_instance_id, background_mode=False)"
   ]
  },
  {
   "cell_type": "code",
   "execution_count": 98,
   "metadata": {},
   "outputs": [
    {
     "data": {
      "text/html": [
       "<HTML>\n",
       "        <body>\n",
       "            <h3>e98e4263-be05-4b60-bf0c-314ac4d21c5b Monitor Runs Metrics from: 2021-08-04 15:04:49.211153  till: 2021-08-11 15:04:49.211184</h3>\n",
       "            <table style='border: 1px solid #dddddd; font-family: Courier'>\n",
       "                <th style='border: 1px solid #dddddd'>ts</th><th style='border: 1px solid #dddddd'>id</th><th style='border: 1px solid #dddddd'>measurement_id</th><th style='border: 1px solid #dddddd'>value</th><th style='border: 1px solid #dddddd'>lower_limit</th><th style='border: 1px solid #dddddd'>upper_limit</th><th style='border: 1px solid #dddddd'>tags</th><th style='border: 1px solid #dddddd'>monitor_definition_id</th><th style='border: 1px solid #dddddd'>monitor_instance_id</th><th style='border: 1px solid #dddddd'>run_id</th><th style='border: 1px solid #dddddd'>target_type</th><th style='border: 1px solid #dddddd'>target_id</th>\n",
       "                <tr><td style='border: 1px solid #dddddd'>2021-08-11 15:04:33.716013+00:00</td><td style='border: 1px solid #dddddd'>data_drift_magnitude</td><td style='border: 1px solid #dddddd'>50a5f766-b921-497f-9ab3-1a52d1913045</td><td style='border: 1px solid #dddddd'>0.08173076923076923</td><td style='border: 1px solid #dddddd'>None</td><td style='border: 1px solid #dddddd'>None</td><td style='border: 1px solid #dddddd'>[]</td><td style='border: 1px solid #dddddd'>drift</td><td style='border: 1px solid #dddddd'>e98e4263-be05-4b60-bf0c-314ac4d21c5b</td><td style='border: 1px solid #dddddd'>68ddbc52-5818-4921-88bf-2b05f9fffa58</td><td style='border: 1px solid #dddddd'>subscription</td><td style='border: 1px solid #dddddd'>c752d566-1517-44bc-9c5c-b0b2c1ab59c0</td></tr>\n",
       "            </table>\n",
       "        </body>\n",
       "        </HTML>"
      ],
      "text/plain": [
       "<IPython.core.display.HTML object>"
      ]
     },
     "metadata": {},
     "output_type": "display_data"
    }
   ],
   "source": [
    "time.sleep(5)\n",
    "\n",
    "wos_client.monitor_instances.show_metrics(monitor_instance_id=drift_monitor_instance_id)"
   ]
  },
  {
   "cell_type": "markdown",
   "metadata": {},
   "source": [
    "## Configure Explainability"
   ]
  },
  {
   "cell_type": "markdown",
   "metadata": {},
   "source": [
    "Finally, we provide OpenScale with the training data to enable and configure the explainability features."
   ]
  },
  {
   "cell_type": "code",
   "execution_count": 99,
   "metadata": {
    "scrolled": true
   },
   "outputs": [
    {
     "name": "stdout",
     "output_type": "stream",
     "text": [
      "\n",
      "\n",
      "===================================================================================\n",
      "\n",
      " Waiting for end of monitor instance creation 8eaf3ceb-67be-4b7f-95c5-ed595c574c36 \n",
      "\n",
      "===================================================================================\n",
      "\n",
      "\n",
      "\n",
      "active\n",
      "\n",
      "---------------------------------------\n",
      " Monitor instance successfully created \n",
      "---------------------------------------\n",
      "\n",
      "\n"
     ]
    }
   ],
   "source": [
    "target = Target(\n",
    "    target_type=TargetTypes.SUBSCRIPTION,\n",
    "    target_id=subscription_id\n",
    ")\n",
    "parameters = {\n",
    "    \"enabled\": True\n",
    "}\n",
    "explainability_details = wos_client.monitor_instances.create(\n",
    "    data_mart_id=data_mart_id,\n",
    "    background_mode=False,\n",
    "    monitor_definition_id=wos_client.monitor_definitions.MONITORS.EXPLAINABILITY.ID,\n",
    "    target=target,\n",
    "    parameters=parameters\n",
    ").result\n",
    "\n",
    "explainability_monitor_id = explainability_details.metadata.id"
   ]
  },
  {
   "cell_type": "markdown",
   "metadata": {},
   "source": [
    "## Run explanation for sample record"
   ]
  },
  {
   "cell_type": "code",
   "execution_count": 100,
   "metadata": {},
   "outputs": [
    {
     "name": "stdout",
     "output_type": "stream",
     "text": [
      "Running explanations on scoring IDs: ['d0e532b2e6bf3154d5880419eb7bad74-1']\n",
      "{\n",
      "  \"metadata\": {\n",
      "    \"explanation_task_ids\": [\n",
      "      \"88eafc4f-5b29-4fa5-a7a5-0213857a08c5\"\n",
      "    ],\n",
      "    \"created_by\": \"IBMid-50M71Q0T71\",\n",
      "    \"created_at\": \"2021-08-11T15:05:01.282102Z\"\n",
      "  }\n",
      "}\n"
     ]
    }
   ],
   "source": [
    "pl_records_resp = wos_client.data_sets.get_list_of_records(data_set_id=payload_data_set_id, limit=1, offset=0).result\n",
    "scoring_ids = [pl_records_resp[\"records\"][0][\"entity\"][\"values\"][\"scoring_id\"]]\n",
    "print(\"Running explanations on scoring IDs: {}\".format(scoring_ids))\n",
    "explanation_types = [\"lime\", \"contrastive\"]\n",
    "result = wos_client.monitor_instances.explanation_tasks(scoring_ids=scoring_ids, explanation_types=explanation_types).result\n",
    "print(result)"
   ]
  },
  {
   "cell_type": "markdown",
   "metadata": {},
   "source": [
    "# Custom monitors and metrics <a name=\"custom\"></a>"
   ]
  },
  {
   "cell_type": "markdown",
   "metadata": {},
   "source": [
    "## Register custom monitor"
   ]
  },
  {
   "cell_type": "code",
   "execution_count": 101,
   "metadata": {},
   "outputs": [],
   "source": [
    "def get_definition(monitor_name):\n",
    "    monitor_definitions = wos_client.monitor_definitions.list().result.monitor_definitions\n",
    "    \n",
    "    for definition in monitor_definitions:\n",
    "        if monitor_name == definition.entity.name:\n",
    "            return definition\n",
    "    \n",
    "    return None"
   ]
  },
  {
   "cell_type": "code",
   "execution_count": 102,
   "metadata": {},
   "outputs": [
    {
     "name": "stdout",
     "output_type": "stream",
     "text": [
      "\n",
      "\n",
      "===================================================================\n",
      "\n",
      " Waiting for end of adding monitor definition my_model_performance \n",
      "\n",
      "===================================================================\n",
      "\n",
      "\n",
      "\n",
      "finished\n",
      "\n",
      "-------------------------------------------------\n",
      " Successfully finished adding monitor definition \n",
      "-------------------------------------------------\n",
      "\n",
      "\n"
     ]
    }
   ],
   "source": [
    "monitor_name = 'my model performance'\n",
    "metrics = [MonitorMetricRequest(name='sensitivity',\n",
    "                                thresholds=[MetricThreshold(type=MetricThresholdTypes.LOWER_LIMIT, default=0.8)]),\n",
    "          MonitorMetricRequest(name='specificity',\n",
    "                                thresholds=[MetricThreshold(type=MetricThresholdTypes.LOWER_LIMIT, default=0.75)])]\n",
    "tags = [MonitorTagRequest(name='region', description='customer geographical region')]\n",
    "\n",
    "existing_definition = get_definition(monitor_name)\n",
    "\n",
    "if existing_definition is None:\n",
    "    custom_monitor_details = wos_client.monitor_definitions.add(name=monitor_name, metrics=metrics, tags=tags, background_mode=False).result\n",
    "else:\n",
    "    custom_monitor_details = existing_definition"
   ]
  },
  {
   "cell_type": "markdown",
   "metadata": {},
   "source": [
    "### Show available monitors types"
   ]
  },
  {
   "cell_type": "code",
   "execution_count": 103,
   "metadata": {},
   "outputs": [
    {
     "data": {
      "text/html": [
       "<HTML>\n",
       "        <body>\n",
       "            <h3>Monitor definitions</h3>\n",
       "            <table style='border: 1px solid #dddddd; font-family: Courier'>\n",
       "                <th style='border: 1px solid #dddddd'>monitor id</th><th style='border: 1px solid #dddddd'>monitor name</th><th style='border: 1px solid #dddddd'>metrics names</th>\n",
       "                <tr><td style='border: 1px solid #dddddd'>my_model_performance</td><td style='border: 1px solid #dddddd'>my model performance</td><td style='border: 1px solid #dddddd'>['sensitivity', 'specificity']</td></tr><tr><td style='border: 1px solid #dddddd'>assurance</td><td style='border: 1px solid #dddddd'>Assurance</td><td style='border: 1px solid #dddddd'>['Uncertainty', 'Confidence']</td></tr><tr><td style='border: 1px solid #dddddd'>fairness</td><td style='border: 1px solid #dddddd'>Fairness</td><td style='border: 1px solid #dddddd'>['Fairness value', 'Average Odds Difference metric value', 'False Discovery Rate Difference metric value', 'Error Rate Difference metric value', 'False Negative Rate Difference metric value', 'False Omission Rate Difference metric value', 'False Positive Rate Difference metric value', 'True Positive Rate Difference metric value']</td></tr><tr><td style='border: 1px solid #dddddd'>performance</td><td style='border: 1px solid #dddddd'>Performance</td><td style='border: 1px solid #dddddd'>['Number of records']</td></tr><tr><td style='border: 1px solid #dddddd'>explainability</td><td style='border: 1px solid #dddddd'>Explainability</td><td style='border: 1px solid #dddddd'>[]</td></tr><tr><td style='border: 1px solid #dddddd'>mrm</td><td style='border: 1px solid #dddddd'>Model risk management monitoring</td><td style='border: 1px solid #dddddd'>['Tests run', 'Tests passed', 'Tests failed', 'Tests skipped', 'Fairness score', 'Quality score', 'Drift score']</td></tr><tr><td style='border: 1px solid #dddddd'>correlations</td><td style='border: 1px solid #dddddd'>Correlations</td><td style='border: 1px solid #dddddd'>['Maximum positive correlation coefficient', 'Maximum negative correlation coefficient', 'Mean absolute correlation coefficient', 'Significant correlation coefficients count']</td></tr><tr><td style='border: 1px solid #dddddd'>drift</td><td style='border: 1px solid #dddddd'>Drift</td><td style='border: 1px solid #dddddd'>['Drop in accuracy', 'Predicted accuracy', 'Drop in data consistency']</td></tr><tr><td style='border: 1px solid #dddddd'>quality</td><td style='border: 1px solid #dddddd'>Quality</td><td style='border: 1px solid #dddddd'>['Area under ROC', 'Area under PR', 'Proportion explained variance', 'Mean absolute error', 'Mean squared error', 'R squared', 'Root of mean squared error', 'Accuracy', 'Weighted True Positive Rate (wTPR)', 'True positive rate (TPR)', 'Weighted False Positive Rate (wFPR)', 'False positive rate (FPR)', 'Weighted recall', 'Recall', 'Weighted precision', 'Precision', 'Weighted F1-Measure', 'F1-Measure', 'Logarithmic loss']</td></tr>\n",
       "            </table>\n",
       "        </body>\n",
       "        </HTML>"
      ],
      "text/plain": [
       "<IPython.core.display.HTML object>"
      ]
     },
     "metadata": {},
     "output_type": "display_data"
    }
   ],
   "source": [
    "wos_client.monitor_definitions.show()"
   ]
  },
  {
   "cell_type": "markdown",
   "metadata": {},
   "source": [
    "### Get monitors uids and details"
   ]
  },
  {
   "cell_type": "code",
   "execution_count": 104,
   "metadata": {},
   "outputs": [
    {
     "name": "stdout",
     "output_type": "stream",
     "text": [
      "my_model_performance\n"
     ]
    }
   ],
   "source": [
    "custom_monitor_id = custom_monitor_details.metadata.id\n",
    "\n",
    "print(custom_monitor_id)"
   ]
  },
  {
   "cell_type": "code",
   "execution_count": 105,
   "metadata": {},
   "outputs": [
    {
     "name": "stdout",
     "output_type": "stream",
     "text": [
      "Monitor definition details: {\n",
      "  \"metadata\": {\n",
      "    \"id\": \"my_model_performance\",\n",
      "    \"crn\": \"crn:v1:bluemix:public:aiopenscale:us-south:a/46816354d9cb773bae86c226aa74c8cc:a08b0e60-6844-4c14-81cb-a3a6c9d199f9:monitor_definition:my_model_performance\",\n",
      "    \"url\": \"/v2/monitor_definitions/my_model_performance\",\n",
      "    \"created_at\": \"2021-08-11T15:05:07.026000Z\",\n",
      "    \"created_by\": \"IBMid-50M71Q0T71\"\n",
      "  },\n",
      "  \"entity\": {\n",
      "    \"name\": \"my model performance\",\n",
      "    \"metrics\": [\n",
      "      {\n",
      "        \"name\": \"sensitivity\",\n",
      "        \"thresholds\": [\n",
      "          {\n",
      "            \"type\": \"lower_limit\",\n",
      "            \"default\": 0.8\n",
      "          }\n",
      "        ],\n",
      "        \"expected_direction\": \"increasing\",\n",
      "        \"id\": \"sensitivity\"\n",
      "      },\n",
      "      {\n",
      "        \"name\": \"specificity\",\n",
      "        \"thresholds\": [\n",
      "          {\n",
      "            \"type\": \"lower_limit\",\n",
      "            \"default\": 0.75\n",
      "          }\n",
      "        ],\n",
      "        \"expected_direction\": \"increasing\",\n",
      "        \"id\": \"specificity\"\n",
      "      }\n",
      "    ],\n",
      "    \"tags\": [\n",
      "      {\n",
      "        \"name\": \"region\",\n",
      "        \"description\": \"customer geographical region\",\n",
      "        \"id\": \"region\"\n",
      "      }\n",
      "    ]\n",
      "  }\n",
      "}\n"
     ]
    }
   ],
   "source": [
    "custom_monitor_details = wos_client.monitor_definitions.get(monitor_definition_id=custom_monitor_id).result\n",
    "print('Monitor definition details:', custom_monitor_details)"
   ]
  },
  {
   "cell_type": "markdown",
   "metadata": {},
   "source": [
    "## Enable custom monitor for subscription"
   ]
  },
  {
   "cell_type": "code",
   "execution_count": 106,
   "metadata": {},
   "outputs": [
    {
     "name": "stdout",
     "output_type": "stream",
     "text": [
      "\n",
      "\n",
      "===================================================================================\n",
      "\n",
      " Waiting for end of monitor instance creation 643b2b0c-83d7-4c5c-94ca-24049d2432eb \n",
      "\n",
      "===================================================================================\n",
      "\n",
      "\n",
      "\n",
      "active\n",
      "\n",
      "---------------------------------------\n",
      " Monitor instance successfully created \n",
      "---------------------------------------\n",
      "\n",
      "\n"
     ]
    }
   ],
   "source": [
    "target = Target(\n",
    "        target_type=TargetTypes.SUBSCRIPTION,\n",
    "        target_id=subscription_id\n",
    "    )\n",
    "\n",
    "thresholds = [MetricThresholdOverride(metric_id='sensitivity', type = MetricThresholdTypes.LOWER_LIMIT, value=0.9)]\n",
    "\n",
    "custom_monitor_instance_details = wos_client.monitor_instances.create(\n",
    "            data_mart_id=data_mart_id,\n",
    "            background_mode=False,\n",
    "            monitor_definition_id=custom_monitor_id,\n",
    "            target=target\n",
    ").result"
   ]
  },
  {
   "cell_type": "markdown",
   "metadata": {},
   "source": [
    "### Get monitor instance id and configuration details"
   ]
  },
  {
   "cell_type": "code",
   "execution_count": 107,
   "metadata": {},
   "outputs": [],
   "source": [
    "custom_monitor_instance_id = custom_monitor_instance_details.metadata.id"
   ]
  },
  {
   "cell_type": "code",
   "execution_count": 108,
   "metadata": {},
   "outputs": [
    {
     "name": "stdout",
     "output_type": "stream",
     "text": [
      "{\n",
      "  \"metadata\": {\n",
      "    \"id\": \"643b2b0c-83d7-4c5c-94ca-24049d2432eb\",\n",
      "    \"crn\": \"crn:v1:bluemix:public:aiopenscale:us-south:a/46816354d9cb773bae86c226aa74c8cc:a08b0e60-6844-4c14-81cb-a3a6c9d199f9:monitor_instance:643b2b0c-83d7-4c5c-94ca-24049d2432eb\",\n",
      "    \"url\": \"/v2/monitor_instances/643b2b0c-83d7-4c5c-94ca-24049d2432eb\",\n",
      "    \"created_at\": \"2021-08-11T15:05:24.158000Z\",\n",
      "    \"created_by\": \"IBMid-50M71Q0T71\"\n",
      "  },\n",
      "  \"entity\": {\n",
      "    \"data_mart_id\": \"a08b0e60-6844-4c14-81cb-a3a6c9d199f9\",\n",
      "    \"monitor_definition_id\": \"my_model_performance\",\n",
      "    \"target\": {\n",
      "      \"target_type\": \"subscription\",\n",
      "      \"target_id\": \"c752d566-1517-44bc-9c5c-b0b2c1ab59c0\"\n",
      "    },\n",
      "    \"thresholds\": [\n",
      "      {\n",
      "        \"metric_id\": \"sensitivity\",\n",
      "        \"type\": \"lower_limit\",\n",
      "        \"value\": 0.8\n",
      "      },\n",
      "      {\n",
      "        \"metric_id\": \"specificity\",\n",
      "        \"type\": \"lower_limit\",\n",
      "        \"value\": 0.75\n",
      "      }\n",
      "    ],\n",
      "    \"schedule\": {\n",
      "      \"repeat_interval\": 60,\n",
      "      \"repeat_unit\": \"minute\",\n",
      "      \"repeat_type\": \"minute\"\n",
      "    },\n",
      "    \"status\": {\n",
      "      \"state\": \"active\"\n",
      "    }\n",
      "  }\n",
      "}\n"
     ]
    }
   ],
   "source": [
    "custom_monitor_instance_details = wos_client.monitor_instances.get(custom_monitor_instance_id).result\n",
    "print(custom_monitor_instance_details)"
   ]
  },
  {
   "cell_type": "markdown",
   "metadata": {},
   "source": [
    "## Storing custom metrics"
   ]
  },
  {
   "cell_type": "code",
   "execution_count": 109,
   "metadata": {},
   "outputs": [
    {
     "name": "stdout",
     "output_type": "stream",
     "text": [
      "{\n",
      "  \"timestamp\": \"2021-08-11T15:05:36.781958Z\",\n",
      "  \"run_id\": \"11122223333111abc\",\n",
      "  \"metrics\": [\n",
      "    {\n",
      "      \"specificity\": 0.78,\n",
      "      \"sensitivity\": 0.67,\n",
      "      \"region\": \"us-south\"\n",
      "    }\n",
      "  ]\n",
      "}\n"
     ]
    }
   ],
   "source": [
    "from datetime import datetime, timezone, timedelta\n",
    "from ibm_watson_openscale.base_classes.watson_open_scale_v2 import MonitorMeasurementRequest\n",
    "custom_monitoring_run_id = \"11122223333111abc\"\n",
    "measurement_request = [MonitorMeasurementRequest(timestamp=datetime.now(timezone.utc), \n",
    "                                                 metrics=[{\"specificity\": 0.78, \"sensitivity\": 0.67, \"region\": \"us-south\"}], run_id=custom_monitoring_run_id)]\n",
    "print(measurement_request[0])"
   ]
  },
  {
   "cell_type": "code",
   "execution_count": 110,
   "metadata": {},
   "outputs": [
    {
     "name": "stdout",
     "output_type": "stream",
     "text": [
      "[{'measurement_id': 'e769c3b8-9f36-46e5-bb65-03d3c158171d', 'metrics': [{'region': 'us-south', 'sensitivity': 0.67, 'specificity': 0.78}], 'run_id': '11122223333111abc', 'timestamp': '2021-08-11T15:05:36.781958Z'}]\n"
     ]
    }
   ],
   "source": [
    "published_measurement_response = wos_client.monitor_instances.measurements.add(\n",
    "    monitor_instance_id=custom_monitor_instance_id,\n",
    "    monitor_measurement_request=measurement_request).result\n",
    "published_measurement_id = published_measurement_response[0][\"measurement_id\"]\n",
    "print(published_measurement_response)"
   ]
  },
  {
   "cell_type": "markdown",
   "metadata": {},
   "source": [
    "### List and get custom metrics"
   ]
  },
  {
   "cell_type": "code",
   "execution_count": 111,
   "metadata": {},
   "outputs": [
    {
     "name": "stdout",
     "output_type": "stream",
     "text": [
      "{\n",
      "  \"metadata\": {\n",
      "    \"id\": \"e769c3b8-9f36-46e5-bb65-03d3c158171d\",\n",
      "    \"crn\": \"crn:v1:bluemix:public:aiopenscale:us-south:a/46816354d9cb773bae86c226aa74c8cc:a08b0e60-6844-4c14-81cb-a3a6c9d199f9:measurement:e769c3b8-9f36-46e5-bb65-03d3c158171d\",\n",
      "    \"url\": \"/v2/monitor_instances/643b2b0c-83d7-4c5c-94ca-24049d2432eb/measurements/e769c3b8-9f36-46e5-bb65-03d3c158171d\",\n",
      "    \"created_at\": \"2021-08-11T15:05:39.663000Z\",\n",
      "    \"created_by\": \"IBMid-50M71Q0T71\"\n",
      "  },\n",
      "  \"entity\": {\n",
      "    \"timestamp\": \"2021-08-11T15:05:36.781958Z\",\n",
      "    \"run_id\": \"11122223333111abc\",\n",
      "    \"values\": [\n",
      "      {\n",
      "        \"metrics\": [\n",
      "          {\n",
      "            \"id\": \"sensitivity\",\n",
      "            \"value\": 0.67,\n",
      "            \"lower_limit\": 0.8\n",
      "          },\n",
      "          {\n",
      "            \"id\": \"specificity\",\n",
      "            \"value\": 0.78,\n",
      "            \"lower_limit\": 0.75\n",
      "          }\n",
      "        ],\n",
      "        \"tags\": [\n",
      "          {\n",
      "            \"id\": \"region\",\n",
      "            \"value\": \"us-south\"\n",
      "          }\n",
      "        ]\n",
      "      }\n",
      "    ],\n",
      "    \"issue_count\": 1,\n",
      "    \"target\": {\n",
      "      \"target_type\": \"subscription\",\n",
      "      \"target_id\": \"c752d566-1517-44bc-9c5c-b0b2c1ab59c0\"\n",
      "    },\n",
      "    \"monitor_instance_id\": \"643b2b0c-83d7-4c5c-94ca-24049d2432eb\",\n",
      "    \"monitor_definition_id\": \"my_model_performance\"\n",
      "  }\n",
      "}\n"
     ]
    }
   ],
   "source": [
    "time.sleep(5)\n",
    "published_measurement = wos_client.monitor_instances.measurements.get(monitor_instance_id=custom_monitor_instance_id, measurement_id=published_measurement_id).result\n",
    "print(published_measurement)"
   ]
  },
  {
   "cell_type": "markdown",
   "metadata": {},
   "source": [
    "# Historical data <a name=\"historical\"></a>"
   ]
  },
  {
   "cell_type": "code",
   "execution_count": 112,
   "metadata": {},
   "outputs": [],
   "source": [
    "historyDays = 7"
   ]
  },
  {
   "cell_type": "markdown",
   "metadata": {},
   "source": [
    "## Insert historical fairness metrics"
   ]
  },
  {
   "cell_type": "code",
   "execution_count": 113,
   "metadata": {},
   "outputs": [
    {
     "name": "stdout",
     "output_type": "stream",
     "text": [
      "rm: cannot remove 'history_fairness_v2.json': No such file or directory\n",
      "-rw-rw---- 1 wsuser watsonstudio 37K Aug 11 15:05 history_fairness_v2.json\n"
     ]
    }
   ],
   "source": [
    "!rm history_fairness_v2.json\n",
    "with io.capture_output() as captured:\n",
    "    !wget https://raw.githubusercontent.com/IBM/watson-openscale-samples/main/IBM%20Cloud/WML/assets/data/historical_data/credit_risk/history_fairness_v2.json\n",
    "!ls -lh history_fairness_v2.json"
   ]
  },
  {
   "cell_type": "code",
   "execution_count": 114,
   "metadata": {},
   "outputs": [
    {
     "name": "stdout",
     "output_type": "stream",
     "text": [
      "Loading day 1\n",
      "Loading day 2\n",
      "Loading day 3\n",
      "Loading day 4\n",
      "Loading day 5\n",
      "Loading day 6\n",
      "Loading day 7\n",
      "Finished\n"
     ]
    }
   ],
   "source": [
    "from datetime import datetime, timedelta, timezone\n",
    "\n",
    "with open('history_fairness_v2.json', 'r') as history_file:\n",
    "    payloads = json.load(history_file)\n",
    "\n",
    "for day in range(historyDays):\n",
    "    print('Loading day', day + 1)\n",
    "    daily_measurement_requests = []\n",
    "    \n",
    "    for hour in range(24):\n",
    "        score_time = datetime.now(timezone.utc) + timedelta(hours=(-(24*day + hour + 1)))\n",
    "        index = (day * 24 + hour) % len(payloads) # wrap around and reuse values if needed\n",
    " \n",
    "        measurement_request = MonitorMeasurementRequest(timestamp=score_time,metrics = [payloads[index][0], payloads[index][1]])\n",
    "        daily_measurement_requests.append(measurement_request)\n",
    "        \n",
    "        \n",
    "    response = wos_client.monitor_instances.measurements.add(\n",
    "                                            monitor_instance_id=fairness_monitor_instance_id,\n",
    "                                            monitor_measurement_request=daily_measurement_requests).result     \n",
    "print('Finished')"
   ]
  },
  {
   "cell_type": "markdown",
   "metadata": {},
   "source": [
    "## Insert historical debias metrics"
   ]
  },
  {
   "cell_type": "code",
   "execution_count": 115,
   "metadata": {},
   "outputs": [
    {
     "name": "stdout",
     "output_type": "stream",
     "text": [
      "rm: cannot remove 'history_debias_v2.json': No such file or directory\n",
      "-rw-rw---- 1 wsuser watsonstudio 37K Aug 11 15:06 history_debias_v2.json\n"
     ]
    }
   ],
   "source": [
    "!rm history_debias_v2.json\n",
    "with io.capture_output() as captured:\n",
    "    !wget https://raw.githubusercontent.com/IBM/watson-openscale-samples/main/IBM%20Cloud/WML/assets/data/historical_data/credit_risk/history_debias_v2.json\n",
    "!ls -lh history_debias_v2.json"
   ]
  },
  {
   "cell_type": "code",
   "execution_count": 116,
   "metadata": {},
   "outputs": [
    {
     "name": "stdout",
     "output_type": "stream",
     "text": [
      "Loading day 1\n",
      "Loading day 2\n",
      "Loading day 3\n",
      "Loading day 4\n",
      "Loading day 5\n",
      "Loading day 6\n",
      "Loading day 7\n",
      "Finished\n"
     ]
    }
   ],
   "source": [
    "with open('history_debias_v2.json', 'r') as history_file:\n",
    "    payloads = json.load(history_file)\n",
    "\n",
    "for day in range(historyDays):\n",
    "    print('Loading day', day + 1)\n",
    "    daily_measurement_requests = []\n",
    "    for hour in range(24):\n",
    "        score_time = datetime.now(timezone.utc) + timedelta(hours=(-(24*day + hour + 1)))\n",
    "        index = (day * 24 + hour) % len(payloads) # wrap around and reuse values if needed\n",
    "\n",
    "        measurement_request = MonitorMeasurementRequest(timestamp=score_time,metrics = [payloads[index][0], payloads[index][1]])\n",
    "        \n",
    "        daily_measurement_requests.append(measurement_request)\n",
    "        \n",
    "    response = wos_client.monitor_instances.measurements.add(\n",
    "                                            monitor_instance_id=fairness_monitor_instance_id,\n",
    "                                            monitor_measurement_request=daily_measurement_requests).result     \n",
    "\n",
    "print('Finished')"
   ]
  },
  {
   "cell_type": "markdown",
   "metadata": {},
   "source": [
    "## Insert historical quality metrics"
   ]
  },
  {
   "cell_type": "code",
   "execution_count": 117,
   "metadata": {
    "scrolled": true
   },
   "outputs": [
    {
     "name": "stdout",
     "output_type": "stream",
     "text": [
      "Loading day 1\n",
      "Loading day 2\n",
      "Loading day 3\n",
      "Loading day 4\n",
      "Loading day 5\n",
      "Loading day 6\n",
      "Loading day 7\n",
      "Finished\n"
     ]
    }
   ],
   "source": [
    "measurements = [0.76, 0.78, 0.68, 0.72, 0.73, 0.77, 0.80]\n",
    "for day in range(historyDays):\n",
    "    quality_measurement_requests = []\n",
    "    print('Loading day', day + 1)\n",
    "    for hour in range(24):\n",
    "        score_time = datetime.utcnow() + timedelta(hours=(-(24*day + hour + 1)))\n",
    "        score_time = score_time.isoformat() + \"Z\"\n",
    "        \n",
    "        metric = {\"area_under_roc\": measurements[day]}\n",
    "                \n",
    "        measurement_request = MonitorMeasurementRequest(timestamp=score_time,metrics = [metric])\n",
    "        quality_measurement_requests.append(measurement_request)\n",
    "        \n",
    "        \n",
    "    response = wos_client.monitor_instances.measurements.add(\n",
    "                                            monitor_instance_id=quality_monitor_instance_id,\n",
    "                                            monitor_measurement_request=quality_measurement_requests).result    \n",
    "    \n",
    "print('Finished')"
   ]
  },
  {
   "cell_type": "markdown",
   "metadata": {},
   "source": [
    "## Insert historical confusion matrixes"
   ]
  },
  {
   "cell_type": "code",
   "execution_count": 118,
   "metadata": {},
   "outputs": [
    {
     "name": "stdout",
     "output_type": "stream",
     "text": [
      "rm: cannot remove 'history_quality_metrics.json': No such file or directory\n",
      "-rw-rw---- 1 wsuser watsonstudio 79K Aug 11 15:06 history_quality_metrics.json\n"
     ]
    }
   ],
   "source": [
    "!rm history_quality_metrics.json\n",
    "with io.capture_output() as captured:\n",
    "    !wget https://raw.githubusercontent.com/IBM/watson-openscale-samples/main/IBM%20Cloud/WML/assets/data/historical_data/credit_risk/history_quality_metrics.json\n",
    "!ls -lh history_quality_metrics.json"
   ]
  },
  {
   "cell_type": "code",
   "execution_count": 119,
   "metadata": {},
   "outputs": [
    {
     "name": "stdout",
     "output_type": "stream",
     "text": [
      "Loading day 1\n",
      "Loading day 2\n",
      "Loading day 3\n",
      "Loading day 4\n",
      "Loading day 5\n",
      "Loading day 6\n",
      "Loading day 7\n",
      "Finished\n"
     ]
    }
   ],
   "source": [
    "from ibm_watson_openscale.base_classes.watson_open_scale_v2 import Source\n",
    "\n",
    "with open('history_quality_metrics.json') as json_file:\n",
    "    records = json.load(json_file)\n",
    "    \n",
    "for day in range(historyDays):\n",
    "    index = 0\n",
    "    cm_measurement_requests = []\n",
    "    print('Loading day', day + 1)\n",
    "    \n",
    "    for hour in range(24):\n",
    "        score_time = datetime.utcnow() + timedelta(hours=(-(24*day + hour + 1)))\n",
    "        score_time = score_time.isoformat() + \"Z\"\n",
    "\n",
    "        metric = records[index]['metrics']\n",
    "        source = records[index]['sources']\n",
    "\n",
    "        \n",
    "        measurement_request = {\"timestamp\": score_time, \"metrics\": [metric], \"sources\": [source]}\n",
    "        cm_measurement_requests.append(measurement_request)\n",
    "\n",
    "        index+=1\n",
    "\n",
    "    response = wos_client.monitor_instances.measurements.add(monitor_instance_id=quality_monitor_instance_id, monitor_measurement_request=cm_measurement_requests).result    \n",
    "\n",
    "print('Finished')"
   ]
  },
  {
   "cell_type": "markdown",
   "metadata": {},
   "source": [
    "## Insert historical performance metrics"
   ]
  },
  {
   "cell_type": "code",
   "execution_count": 120,
   "metadata": {},
   "outputs": [
    {
     "name": "stdout",
     "output_type": "stream",
     "text": [
      "\n",
      "\n",
      "===================================================================================\n",
      "\n",
      " Waiting for end of monitor instance creation 2d58c8e1-bf6c-4c10-93d2-88e6221ad6fd \n",
      "\n",
      "===================================================================================\n",
      "\n",
      "\n",
      "\n",
      "active\n",
      "\n",
      "---------------------------------------\n",
      " Monitor instance successfully created \n",
      "---------------------------------------\n",
      "\n",
      "\n"
     ]
    }
   ],
   "source": [
    "target = Target(\n",
    "        target_type=TargetTypes.INSTANCE,\n",
    "        target_id=payload_data_set_id\n",
    "    )\n",
    "\n",
    "\n",
    "performance_monitor_instance_details = wos_client.monitor_instances.create(\n",
    "            data_mart_id=data_mart_id,\n",
    "            background_mode=False,\n",
    "            monitor_definition_id=wos_client.monitor_definitions.MONITORS.PERFORMANCE.ID,\n",
    "            target=target\n",
    ").result\n",
    "performance_monitor_instance_id = performance_monitor_instance_details.metadata.id\n"
   ]
  },
  {
   "cell_type": "code",
   "execution_count": 121,
   "metadata": {},
   "outputs": [
    {
     "name": "stdout",
     "output_type": "stream",
     "text": [
      "Loading day 1\n",
      "Loading day 2\n",
      "Loading day 3\n",
      "Loading day 4\n",
      "Loading day 5\n",
      "Loading day 6\n",
      "Loading day 7\n",
      "Finished\n"
     ]
    }
   ],
   "source": [
    "for day in range(historyDays):\n",
    "    performance_measurement_requests = []\n",
    "    print('Loading day', day + 1)\n",
    "    for hour in range(24):\n",
    "        score_time = datetime.utcnow() + timedelta(hours=(-(24*day + hour + 1)))\n",
    "        score_time = score_time.isoformat() + \"Z\"\n",
    "        score_count = random.randint(60, 600)\n",
    "        \n",
    "        metric = {\"record_count\": score_count, \"data_set_type\": \"scoring_payload\"}\n",
    "        \n",
    "        measurement_request = {\"timestamp\": score_time, \"metrics\": [metric]}\n",
    "        performance_measurement_requests.append(measurement_request)\n",
    "        \n",
    "    response = wos_client.monitor_instances.measurements.add(\n",
    "                                            monitor_instance_id=performance_monitor_instance_id,\n",
    "                                            monitor_measurement_request=performance_measurement_requests).result    \n",
    "\n",
    "print('Finished')"
   ]
  },
  {
   "cell_type": "markdown",
   "metadata": {},
   "source": [
    "## Insert historical drift measurements"
   ]
  },
  {
   "cell_type": "code",
   "execution_count": 122,
   "metadata": {},
   "outputs": [
    {
     "name": "stdout",
     "output_type": "stream",
     "text": [
      "-rw-rw---- 1 wsuser watsonstudio 832K Aug 11 15:07 history_drift_measurement_0.json\r\n",
      "-rw-rw---- 1 wsuser watsonstudio 868K Aug 11 15:07 history_drift_measurement_1.json\r\n",
      "-rw-rw---- 1 wsuser watsonstudio 870K Aug 11 15:07 history_drift_measurement_2.json\r\n",
      "-rw-rw---- 1 wsuser watsonstudio 910K Aug 11 15:07 history_drift_measurement_3.json\r\n",
      "-rw-rw---- 1 wsuser watsonstudio 841K Aug 11 15:07 history_drift_measurement_4.json\r\n",
      "-rw-rw---- 1 wsuser watsonstudio 836K Aug 11 15:07 history_drift_measurement_5.json\r\n",
      "-rw-rw---- 1 wsuser watsonstudio 840K Aug 11 15:07 history_drift_measurement_6.json\r\n"
     ]
    }
   ],
   "source": [
    "with io.capture_output() as captured:\n",
    "    !wget https://raw.githubusercontent.com/IBM/watson-openscale-samples/main/IBM%20Cloud/WML/assets/data/historical_data/credit_risk/history_drift_measurement_0.json\n",
    "    !wget https://raw.githubusercontent.com/IBM/watson-openscale-samples/main/IBM%20Cloud/WML/assets/data/historical_data/credit_risk/history_drift_measurement_1.json\n",
    "    !wget https://raw.githubusercontent.com/IBM/watson-openscale-samples/main/IBM%20Cloud/WML/assets/data/historical_data/credit_risk/history_drift_measurement_2.json\n",
    "    !wget https://raw.githubusercontent.com/IBM/watson-openscale-samples/main/IBM%20Cloud/WML/assets/data/historical_data/credit_risk/history_drift_measurement_3.json\n",
    "    !wget https://raw.githubusercontent.com/IBM/watson-openscale-samples/main/IBM%20Cloud/WML/assets/data/historical_data/credit_risk/history_drift_measurement_4.json\n",
    "    !wget https://raw.githubusercontent.com/IBM/watson-openscale-samples/main/IBM%20Cloud/WML/assets/data/historical_data/credit_risk/history_drift_measurement_5.json\n",
    "    !wget https://raw.githubusercontent.com/IBM/watson-openscale-samples/main/IBM%20Cloud/WML/assets/data/historical_data/credit_risk/history_drift_measurement_6.json\n",
    "!ls -lh history_drift_measurement_*.json"
   ]
  },
  {
   "cell_type": "code",
   "execution_count": 123,
   "metadata": {},
   "outputs": [
    {
     "name": "stdout",
     "output_type": "stream",
     "text": [
      "Loading day 1\n",
      "Daily loading finished.\n",
      "Loading day 2\n",
      "Daily loading finished.\n",
      "Loading day 3\n",
      "Daily loading finished.\n",
      "Loading day 4\n",
      "Daily loading finished.\n",
      "Loading day 5\n",
      "Daily loading finished.\n",
      "Loading day 6\n",
      "Daily loading finished.\n",
      "Loading day 7\n",
      "Daily loading finished.\n"
     ]
    }
   ],
   "source": [
    "for day in range(historyDays):\n",
    "    drift_measurements = []\n",
    "\n",
    "    with open(\"history_drift_measurement_{}.json\".format(day), 'r') as history_file:\n",
    "        drift_daily_measurements = json.load(history_file)\n",
    "    print('Loading day', day + 1)\n",
    "\n",
    "    #Historical data contains 8 records per day - each represents 3 hour drift window.\n",
    "    \n",
    "    for nb_window, records in enumerate(drift_daily_measurements):\n",
    "        for record in records:\n",
    "            window_start =  datetime.utcnow() + timedelta(hours=(-(24 * day + (nb_window+1)*3 + 1))) # first_payload_record_timestamp_in_window (oldest)\n",
    "            window_end = datetime.utcnow() + timedelta(hours=(-(24 * day + nb_window*3 + 1)))# last_payload_record_timestamp_in_window (most recent)\n",
    "            #modify start and end time for each record\n",
    "            record['sources'][0]['data']['start'] = window_start.isoformat() + \"Z\"\n",
    "            record['sources'][0]['data']['end'] = window_end.isoformat() + \"Z\"\n",
    "            \n",
    "            \n",
    "            metric = record['metrics'][0]\n",
    "            source = record['sources'][0]\n",
    "\n",
    "            measurement_request = {\"timestamp\": window_start.isoformat() + \"Z\", \"metrics\": [metric], \"sources\": [source]}\n",
    "            \n",
    "            drift_measurements.append(measurement_request)\n",
    "        \n",
    "    response = wos_client.monitor_instances.measurements.add(\n",
    "                                            monitor_instance_id=drift_monitor_instance_id,\n",
    "                                            monitor_measurement_request=drift_measurements).result    \n",
    "\n",
    "    \n",
    "    print(\"Daily loading finished.\")"
   ]
  },
  {
   "cell_type": "markdown",
   "metadata": {},
   "source": [
    "## Additional data to help debugging"
   ]
  },
  {
   "cell_type": "code",
   "execution_count": 124,
   "metadata": {
    "scrolled": true
   },
   "outputs": [
    {
     "name": "stdout",
     "output_type": "stream",
     "text": [
      "Datamart: a08b0e60-6844-4c14-81cb-a3a6c9d199f9\n",
      "Model: a12ed743-c537-436f-ab3c-fef1554b88d8\n",
      "Deployment: 62f113b9-7583-42a8-aa5c-b1754959fe83\n"
     ]
    }
   ],
   "source": [
    "print('Datamart:', data_mart_id)\n",
    "print('Model:', model_uid)\n",
    "print('Deployment:', deployment_uid)"
   ]
  },
  {
   "cell_type": "markdown",
   "metadata": {},
   "source": [
    "## Identify transactions for Explainability"
   ]
  },
  {
   "cell_type": "markdown",
   "metadata": {},
   "source": [
    "Transaction IDs identified by the cells below can be copied and pasted into the Explainability tab of the OpenScale dashboard."
   ]
  },
  {
   "cell_type": "code",
   "execution_count": 125,
   "metadata": {
    "scrolled": false
   },
   "outputs": [
    {
     "data": {
      "text/html": [
       "<HTML>\n",
       "        <body>\n",
       "            <h3>Data Set d72f4bc9-6f53-4ad2-a0e6-1ca13b2f1139 Records</h3>\n",
       "            <table style='border: 1px solid #dddddd; font-family: Courier'>\n",
       "                <th style='border: 1px solid #dddddd'>asset_revision</th><th style='border: 1px solid #dddddd'>debiased_probability</th><th style='border: 1px solid #dddddd'>LoanAmount</th><th style='border: 1px solid #dddddd'>scoring_id</th><th style='border: 1px solid #dddddd'>Sex_IX</th><th style='border: 1px solid #dddddd'>LoanPurpose_IX</th><th style='border: 1px solid #dddddd'>CheckingStatus_IX</th><th style='border: 1px solid #dddddd'>InstallmentPercent</th><th style='border: 1px solid #dddddd'>ExistingSavings</th><th style='border: 1px solid #dddddd'>scoring_timestamp</th><th style='border: 1px solid #dddddd'>prediction_probability</th><th style='border: 1px solid #dddddd'>ProbabilityVector</th><th style='border: 1px solid #dddddd'>features</th><th style='border: 1px solid #dddddd'>CheckingStatus</th><th style='border: 1px solid #dddddd'>LoanPurpose</th><th style='border: 1px solid #dddddd'>predictedLabel</th><th style='border: 1px solid #dddddd'>OwnsProperty_IX</th><th style='border: 1px solid #dddddd'>prediction</th><th style='border: 1px solid #dddddd'>Job</th><th style='border: 1px solid #dddddd'>InstallmentPlans</th><th style='border: 1px solid #dddddd'>ExistingSavings_IX</th><th style='border: 1px solid #dddddd'>CreditHistory_IX</th><th style='border: 1px solid #dddddd'>OthersOnLoan</th><th style='border: 1px solid #dddddd'>LoanDuration</th><th style='border: 1px solid #dddddd'>Age</th><th style='border: 1px solid #dddddd'>CreditHistory</th><th style='border: 1px solid #dddddd'>InstallmentPlans_IX</th><th style='border: 1px solid #dddddd'>CurrentResidenceDuration</th><th style='border: 1px solid #dddddd'>Telephone_IX</th><th style='border: 1px solid #dddddd'>EmploymentDuration_IX</th><th style='border: 1px solid #dddddd'>Job_IX</th><th style='border: 1px solid #dddddd'>ForeignWorker_IX</th><th style='border: 1px solid #dddddd'>ForeignWorker</th><th style='border: 1px solid #dddddd'>Housing</th><th style='border: 1px solid #dddddd'>Housing_IX</th><th style='border: 1px solid #dddddd'>ExistingCreditsCount</th><th style='border: 1px solid #dddddd'>deployment_id</th><th style='border: 1px solid #dddddd'>rawPrediction</th><th style='border: 1px solid #dddddd'>Telephone</th><th style='border: 1px solid #dddddd'>OthersOnLoan_IX</th><th style='border: 1px solid #dddddd'>Sex</th><th style='border: 1px solid #dddddd'>Dependents</th><th style='border: 1px solid #dddddd'>OwnsProperty</th><th style='border: 1px solid #dddddd'>EmploymentDuration</th><th style='border: 1px solid #dddddd'>debiased_prediction</th><th style='border: 1px solid #dddddd'>probability</th>\n",
       "                <tr><td style='border: 1px solid #dddddd'></td><td style='border: 1px solid #dddddd'>[0.710052640247997, 0.28994735975200303]</td><td style='border: 1px solid #dddddd'>4450</td><td style='border: 1px solid #dddddd'>d0e532b2e6bf3154d5880419eb7bad74-1</td><td style='border: 1px solid #dddddd'>1.0</td><td style='border: 1px solid #dddddd'>7.0</td><td style='border: 1px solid #dddddd'>0.0</td><td style='border: 1px solid #dddddd'>3</td><td style='border: 1px solid #dddddd'>100_to_500</td><td style='border: 1px solid #dddddd'>2021-08-11T15:03:44.358Z</td><td style='border: 1px solid #dddddd'>0.710052640247997</td><td style='border: 1px solid #dddddd'>None</td><td style='border: 1px solid #dddddd'>[20, [2, 3, 4, 5, 7, 13, 14, 15, 16, 17, 18, 19], [7.0, 1.0, 3.0, 1.0, 2.0, 28.0, 4450.0, 3.0, 4.0, 24.0, 1.0, 1.0]]</td><td style='border: 1px solid #dddddd'>no_checking</td><td style='border: 1px solid #dddddd'>education</td><td style='border: 1px solid #dddddd'>No Risk</td><td style='border: 1px solid #dddddd'>2.0</td><td style='border: 1px solid #dddddd'>0.0</td><td style='border: 1px solid #dddddd'>skilled</td><td style='border: 1px solid #dddddd'>none</td><td style='border: 1px solid #dddddd'>1.0</td><td style='border: 1px solid #dddddd'>0.0</td><td style='border: 1px solid #dddddd'>none</td><td style='border: 1px solid #dddddd'>28</td><td style='border: 1px solid #dddddd'>24</td><td style='border: 1px solid #dddddd'>prior_payments_delayed</td><td style='border: 1px solid #dddddd'>0.0</td><td style='border: 1px solid #dddddd'>4</td><td style='border: 1px solid #dddddd'>0.0</td><td style='border: 1px solid #dddddd'>3.0</td><td style='border: 1px solid #dddddd'>0.0</td><td style='border: 1px solid #dddddd'>0.0</td><td style='border: 1px solid #dddddd'>yes</td><td style='border: 1px solid #dddddd'>own</td><td style='border: 1px solid #dddddd'>0.0</td><td style='border: 1px solid #dddddd'>1</td><td style='border: 1px solid #dddddd'>62f113b9-7583-42a8-aa5c-b1754959fe83</td><td style='border: 1px solid #dddddd'>[14.201052804959941, 5.7989471950400615]</td><td style='border: 1px solid #dddddd'>none</td><td style='border: 1px solid #dddddd'>0.0</td><td style='border: 1px solid #dddddd'>female</td><td style='border: 1px solid #dddddd'>1</td><td style='border: 1px solid #dddddd'>real_estate</td><td style='border: 1px solid #dddddd'>less_1</td><td style='border: 1px solid #dddddd'>No Risk</td><td style='border: 1px solid #dddddd'>[0.710052640247997, 0.28994735975200303]</td></tr><tr><td style='border: 1px solid #dddddd'></td><td style='border: 1px solid #dddddd'>[0.3752783644038116, 0.6247216355961884]</td><td style='border: 1px solid #dddddd'>6311</td><td style='border: 1px solid #dddddd'>d0e532b2e6bf3154d5880419eb7bad74-10</td><td style='border: 1px solid #dddddd'>0.0</td><td style='border: 1px solid #dddddd'>1.0</td><td style='border: 1px solid #dddddd'>0.0</td><td style='border: 1px solid #dddddd'>3</td><td style='border: 1px solid #dddddd'>greater_1000</td><td style='border: 1px solid #dddddd'>2021-08-11T15:03:44.358Z</td><td style='border: 1px solid #dddddd'>0.6247216355961884</td><td style='border: 1px solid #dddddd'>None</td><td style='border: 1px solid #dddddd'>[0.0, 2.0, 1.0, 3.0, 1.0, 0.0, 1.0, 3.0, 0.0, 0.0, 0.0, 0.0, 0.0, 32.0, 6311.0, 3.0, 5.0, 32.0, 2.0, 1.0]</td><td style='border: 1px solid #dddddd'>no_checking</td><td style='border: 1px solid #dddddd'>furniture</td><td style='border: 1px solid #dddddd'>Risk</td><td style='border: 1px solid #dddddd'>3.0</td><td style='border: 1px solid #dddddd'>1.0</td><td style='border: 1px solid #dddddd'>skilled</td><td style='border: 1px solid #dddddd'>none</td><td style='border: 1px solid #dddddd'>3.0</td><td style='border: 1px solid #dddddd'>2.0</td><td style='border: 1px solid #dddddd'>co-applicant</td><td style='border: 1px solid #dddddd'>32</td><td style='border: 1px solid #dddddd'>32</td><td style='border: 1px solid #dddddd'>outstanding_credit</td><td style='border: 1px solid #dddddd'>0.0</td><td style='border: 1px solid #dddddd'>5</td><td style='border: 1px solid #dddddd'>0.0</td><td style='border: 1px solid #dddddd'>1.0</td><td style='border: 1px solid #dddddd'>0.0</td><td style='border: 1px solid #dddddd'>0.0</td><td style='border: 1px solid #dddddd'>yes</td><td style='border: 1px solid #dddddd'>own</td><td style='border: 1px solid #dddddd'>0.0</td><td style='border: 1px solid #dddddd'>2</td><td style='border: 1px solid #dddddd'>62f113b9-7583-42a8-aa5c-b1754959fe83</td><td style='border: 1px solid #dddddd'>[7.505567288076232, 12.494432711923768]</td><td style='border: 1px solid #dddddd'>none</td><td style='border: 1px solid #dddddd'>1.0</td><td style='border: 1px solid #dddddd'>male</td><td style='border: 1px solid #dddddd'>1</td><td style='border: 1px solid #dddddd'>unknown</td><td style='border: 1px solid #dddddd'>4_to_7</td><td style='border: 1px solid #dddddd'>Risk</td><td style='border: 1px solid #dddddd'>[0.3752783644038116, 0.6247216355961884]</td></tr><tr><td style='border: 1px solid #dddddd'></td><td style='border: 1px solid #dddddd'>[0.9469841759655155, 0.053015824034484384]</td><td style='border: 1px solid #dddddd'>250</td><td style='border: 1px solid #dddddd'>d0e532b2e6bf3154d5880419eb7bad74-100</td><td style='border: 1px solid #dddddd'>0.0</td><td style='border: 1px solid #dddddd'>2.0</td><td style='border: 1px solid #dddddd'>1.0</td><td style='border: 1px solid #dddddd'>1</td><td style='border: 1px solid #dddddd'>less_100</td><td style='border: 1px solid #dddddd'>2021-08-11T15:03:44.358Z</td><td style='border: 1px solid #dddddd'>0.9469841759655155</td><td style='border: 1px solid #dddddd'>None</td><td style='border: 1px solid #dddddd'>[1.0, 3.0, 2.0, 0.0, 4.0, 0.0, 0.0, 2.0, 0.0, 1.0, 0.0, 0.0, 0.0, 4.0, 250.0, 1.0, 2.0, 19.0, 1.0, 1.0]</td><td style='border: 1px solid #dddddd'>less_0</td><td style='border: 1px solid #dddddd'>car_used</td><td style='border: 1px solid #dddddd'>No Risk</td><td style='border: 1px solid #dddddd'>2.0</td><td style='border: 1px solid #dddddd'>0.0</td><td style='border: 1px solid #dddddd'>skilled</td><td style='border: 1px solid #dddddd'>none</td><td style='border: 1px solid #dddddd'>0.0</td><td style='border: 1px solid #dddddd'>3.0</td><td style='border: 1px solid #dddddd'>none</td><td style='border: 1px solid #dddddd'>4</td><td style='border: 1px solid #dddddd'>19</td><td style='border: 1px solid #dddddd'>all_credits_paid_back</td><td style='border: 1px solid #dddddd'>0.0</td><td style='border: 1px solid #dddddd'>2</td><td style='border: 1px solid #dddddd'>0.0</td><td style='border: 1px solid #dddddd'>4.0</td><td style='border: 1px solid #dddddd'>0.0</td><td style='border: 1px solid #dddddd'>0.0</td><td style='border: 1px solid #dddddd'>yes</td><td style='border: 1px solid #dddddd'>rent</td><td style='border: 1px solid #dddddd'>1.0</td><td style='border: 1px solid #dddddd'>1</td><td style='border: 1px solid #dddddd'>62f113b9-7583-42a8-aa5c-b1754959fe83</td><td style='border: 1px solid #dddddd'>[18.93968351931031, 1.0603164806896876]</td><td style='border: 1px solid #dddddd'>none</td><td style='border: 1px solid #dddddd'>0.0</td><td style='border: 1px solid #dddddd'>male</td><td style='border: 1px solid #dddddd'>1</td><td style='border: 1px solid #dddddd'>real_estate</td><td style='border: 1px solid #dddddd'>unemployed</td><td style='border: 1px solid #dddddd'>No Risk</td><td style='border: 1px solid #dddddd'>[0.9469841759655155, 0.053015824034484384]</td></tr><tr><td style='border: 1px solid #dddddd'></td><td style='border: 1px solid #dddddd'>[0.6562365934739304, 0.34376340652606974]</td><td style='border: 1px solid #dddddd'>4879</td><td style='border: 1px solid #dddddd'>d0e532b2e6bf3154d5880419eb7bad74-101</td><td style='border: 1px solid #dddddd'>0.0</td><td style='border: 1px solid #dddddd'>3.0</td><td style='border: 1px solid #dddddd'>0.0</td><td style='border: 1px solid #dddddd'>4</td><td style='border: 1px solid #dddddd'>greater_1000</td><td style='border: 1px solid #dddddd'>2021-08-11T15:03:44.358Z</td><td style='border: 1px solid #dddddd'>0.6562365934739304</td><td style='border: 1px solid #dddddd'>None</td><td style='border: 1px solid #dddddd'>[20, [1, 2, 3, 4, 7, 13, 14, 15, 16, 17, 18, 19], [1.0, 3.0, 3.0, 2.0, 3.0, 17.0, 4879.0, 4.0, 4.0, 38.0, 2.0, 1.0]]</td><td style='border: 1px solid #dddddd'>no_checking</td><td style='border: 1px solid #dddddd'>radio_tv</td><td style='border: 1px solid #dddddd'>No Risk</td><td style='border: 1px solid #dddddd'>3.0</td><td style='border: 1px solid #dddddd'>0.0</td><td style='border: 1px solid #dddddd'>skilled</td><td style='border: 1px solid #dddddd'>none</td><td style='border: 1px solid #dddddd'>3.0</td><td style='border: 1px solid #dddddd'>1.0</td><td style='border: 1px solid #dddddd'>none</td><td style='border: 1px solid #dddddd'>17</td><td style='border: 1px solid #dddddd'>38</td><td style='border: 1px solid #dddddd'>credits_paid_to_date</td><td style='border: 1px solid #dddddd'>0.0</td><td style='border: 1px solid #dddddd'>4</td><td style='border: 1px solid #dddddd'>0.0</td><td style='border: 1px solid #dddddd'>2.0</td><td style='border: 1px solid #dddddd'>0.0</td><td style='border: 1px solid #dddddd'>0.0</td><td style='border: 1px solid #dddddd'>yes</td><td style='border: 1px solid #dddddd'>own</td><td style='border: 1px solid #dddddd'>0.0</td><td style='border: 1px solid #dddddd'>2</td><td style='border: 1px solid #dddddd'>62f113b9-7583-42a8-aa5c-b1754959fe83</td><td style='border: 1px solid #dddddd'>[13.124731869478607, 6.875268130521395]</td><td style='border: 1px solid #dddddd'>none</td><td style='border: 1px solid #dddddd'>0.0</td><td style='border: 1px solid #dddddd'>male</td><td style='border: 1px solid #dddddd'>1</td><td style='border: 1px solid #dddddd'>unknown</td><td style='border: 1px solid #dddddd'>greater_7</td><td style='border: 1px solid #dddddd'>No Risk</td><td style='border: 1px solid #dddddd'>[0.6562365934739304, 0.34376340652606974]</td></tr><tr><td style='border: 1px solid #dddddd'></td><td style='border: 1px solid #dddddd'>[0.9235957628842083, 0.07640423711579161]</td><td style='border: 1px solid #dddddd'>452</td><td style='border: 1px solid #dddddd'>d0e532b2e6bf3154d5880419eb7bad74-102</td><td style='border: 1px solid #dddddd'>1.0</td><td style='border: 1px solid #dddddd'>0.0</td><td style='border: 1px solid #dddddd'>1.0</td><td style='border: 1px solid #dddddd'>2</td><td style='border: 1px solid #dddddd'>less_100</td><td style='border: 1px solid #dddddd'>2021-08-11T15:03:44.358Z</td><td style='border: 1px solid #dddddd'>0.9235957628842083</td><td style='border: 1px solid #dddddd'>None</td><td style='border: 1px solid #dddddd'>[20, [0, 1, 4, 5, 9, 13, 14, 15, 16, 17, 18, 19], [1.0, 3.0, 3.0, 1.0, 1.0, 8.0, 452.0, 2.0, 2.0, 19.0, 1.0, 1.0]]</td><td style='border: 1px solid #dddddd'>less_0</td><td style='border: 1px solid #dddddd'>car_new</td><td style='border: 1px solid #dddddd'>No Risk</td><td style='border: 1px solid #dddddd'>0.0</td><td style='border: 1px solid #dddddd'>0.0</td><td style='border: 1px solid #dddddd'>skilled</td><td style='border: 1px solid #dddddd'>none</td><td style='border: 1px solid #dddddd'>0.0</td><td style='border: 1px solid #dddddd'>3.0</td><td style='border: 1px solid #dddddd'>none</td><td style='border: 1px solid #dddddd'>8</td><td style='border: 1px solid #dddddd'>19</td><td style='border: 1px solid #dddddd'>all_credits_paid_back</td><td style='border: 1px solid #dddddd'>0.0</td><td style='border: 1px solid #dddddd'>2</td><td style='border: 1px solid #dddddd'>0.0</td><td style='border: 1px solid #dddddd'>3.0</td><td style='border: 1px solid #dddddd'>0.0</td><td style='border: 1px solid #dddddd'>0.0</td><td style='border: 1px solid #dddddd'>yes</td><td style='border: 1px solid #dddddd'>rent</td><td style='border: 1px solid #dddddd'>1.0</td><td style='border: 1px solid #dddddd'>1</td><td style='border: 1px solid #dddddd'>62f113b9-7583-42a8-aa5c-b1754959fe83</td><td style='border: 1px solid #dddddd'>[18.471915257684167, 1.5280847423158321]</td><td style='border: 1px solid #dddddd'>none</td><td style='border: 1px solid #dddddd'>0.0</td><td style='border: 1px solid #dddddd'>female</td><td style='border: 1px solid #dddddd'>1</td><td style='border: 1px solid #dddddd'>savings_insurance</td><td style='border: 1px solid #dddddd'>less_1</td><td style='border: 1px solid #dddddd'>No Risk</td><td style='border: 1px solid #dddddd'>[0.9235957628842083, 0.07640423711579161]</td></tr>\n",
       "            </table>\n",
       "        </body>\n",
       "        </HTML>"
      ],
      "text/plain": [
       "<IPython.core.display.HTML object>"
      ]
     },
     "metadata": {},
     "output_type": "display_data"
    }
   ],
   "source": [
    "wos_client.data_sets.show_records(payload_data_set_id, limit=5)"
   ]
  },
  {
   "cell_type": "markdown",
   "metadata": {},
   "source": [
    "## Congratulations!\n",
    "\n",
    "You have finished the hands-on lab for IBM Watson OpenScale. You can now view the [OpenScale Dashboard](https://aiopenscale.cloud.ibm.com/). Click on the tile for the German Credit model to see fairness, accuracy, and performance monitors. Click on the timeseries graph to get detailed information on transactions during a specific time window.\n",
    "\n",
    "## Next steps\n",
    "\n",
    "OpenScale shows model performance over time. You have two options to keep data flowing to your OpenScale graphs:\n",
    "  * Download, configure and schedule the [model feed notebook](https://raw.githubusercontent.com/emartensibm/german-credit/master/german_credit_scoring_feed.ipynb). This notebook can be set up with your WML credentials, and scheduled to provide a consistent flow of scoring requests to your model, which will appear in your OpenScale monitors.\n",
    "  * Re-run this notebook. Running this notebook from the beginning will delete and re-create the model and deployment, and re-create the historical data. Please note that the payload and measurement logs for the previous deployment will continue to be stored in your datamart, and can be deleted if necessary."
   ]
  }
 ],
 "metadata": {
  "kernelspec": {
   "display_name": "Python 3.7",
   "language": "python",
   "name": "python3"
  },
  "language_info": {
   "codemirror_mode": {
    "name": "ipython",
    "version": 3
   },
   "file_extension": ".py",
   "mimetype": "text/x-python",
   "name": "python",
   "nbconvert_exporter": "python",
   "pygments_lexer": "ipython3",
   "version": "3.7.10"
  },
  "varInspector": {
   "cols": {
    "lenName": 16,
    "lenType": 16,
    "lenVar": 40
   },
   "kernels_config": {
    "python": {
     "delete_cmd_postfix": "",
     "delete_cmd_prefix": "del ",
     "library": "var_list.py",
     "varRefreshCmd": "print(var_dic_list())"
    },
    "r": {
     "delete_cmd_postfix": ") ",
     "delete_cmd_prefix": "rm(",
     "library": "var_list.r",
     "varRefreshCmd": "cat(var_dic_list()) "
    }
   },
   "types_to_exclude": [
    "module",
    "function",
    "builtin_function_or_method",
    "instance",
    "_Feature"
   ],
   "window_display": false
  }
 },
 "nbformat": 4,
 "nbformat_minor": 1
}
